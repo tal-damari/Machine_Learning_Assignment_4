{
 "cells": [
  {
   "cell_type": "markdown",
   "metadata": {
    "deletable": false,
    "editable": false,
    "id": "bS_jjGoz0mSk",
    "nbgrader": {
     "cell_type": "markdown",
     "checksum": "08640591c171adacbc4f660958668c1c",
     "grade": false,
     "grade_id": "cell-05103fdb36c70d48",
     "locked": true,
     "schema_version": 3,
     "solution": false,
     "task": false
    }
   },
   "source": [
    "<a id=\"home\"></a>\n",
    "#  Assignment 4 - Executing a Classification Flow with Scikit-Learn\n",
    "\n",
    "| Section | Section-name | points | Section | Section-name | points | Section | Section-name | points | \n",
    "| :- | :- |  :- | :- | :- |  :- | :- | :- |  :- |\n",
    "| (i) | [intro](#intro) | | (ii) | [Materials to review](#review_materials) | | (iii) | [General instructions](#gen_instructions) | |\n",
    "| 1 |  [Import packages](#Imports) | | 2 | [Student info](#student_info) | 5 | 3 |  [Preprocessing](#preprocessing) | 50 | \n",
    "| 4 | [Model Implementation](#model_implement) | 15 | 5 | [Model Evaluation](#evaluation) | 10 | 6 | [Hyper-parameter-tuning](#gridsearch) | 20 |\n",
    "\n",
    "<hr>\n",
    "\n",
    "| Total | points | \n",
    "| :- | :- |  \n",
    "| Assignment Points | 100 |"
   ]
  },
  {
   "cell_type": "markdown",
   "metadata": {
    "deletable": false,
    "editable": false,
    "nbgrader": {
     "cell_type": "markdown",
     "checksum": "4e99321d06fa9e1925fe07eca16f7448",
     "grade": false,
     "grade_id": "cell-0e2036bf12806e47",
     "locked": true,
     "schema_version": 3,
     "solution": false,
     "task": false
    }
   },
   "source": [
    "<a id=\"intro\"></a>\n",
    "### (i)  Intro\n",
    "This assignment has ... parts. Follow the instructions in each section.<br/>\n",
    "You have a lot of options to choose from, and to it is achievable.\n",
    "\n",
    "In the following assignment you will be implementing and tested on the methodologies, algorithms and Python modules you leaned on the last few classes.\n",
    "\n",
    "In this assignment you will: \n",
    "1. Handle, clean, de-duplicate, scale, handle missing values and pre-process data\n",
    "2. Implement, experiment, train and evaluate various classification machine-learning models\n",
    "3. Apply various techniques like: hyperparameters sweeping, K-fold Cross Validation, and more\n",
    "\n",
    "The assignment is seperated to sections, each section is annotated with the max points you can get, and each sub task is annotated with its max points. "
   ]
  },
  {
   "cell_type": "markdown",
   "metadata": {
    "deletable": false,
    "editable": false,
    "nbgrader": {
     "cell_type": "markdown",
     "checksum": "6aa214ccaedcb2e3f4dc0a25da3c7f5b",
     "grade": false,
     "grade_id": "cell-9acd4fbb53ae7bac",
     "locked": true,
     "schema_version": 3,
     "solution": false,
     "task": false
    }
   },
   "source": [
    "[Go to the beginning of the assignment](#home)\n",
    "<a id=\"review_materials\"></a>\n",
    "### (ii) Materials to review for this assignment\n",
    "<h4>From Moodle:</h4> \n",
    "<h5><u>Review the notebooks regarding the following python topics</u>:</h5>\n",
    "<div class=\"alert alert-info\">\n",
    "&#x2714; <b>all notebooks</b><br/>\n",
    "</div> \n",
    "<h5><u>Review the presentations regarding the following topics</u>:</h5>\n",
    "<div class=\"alert alert-info\">\n",
    "&#x2714; <b>(brief review) All presentations<br/>\n",
    "</div>"
   ]
  },
  {
   "cell_type": "markdown",
   "metadata": {
    "deletable": false,
    "editable": false,
    "id": "_Qv0VC-64cD0",
    "nbgrader": {
     "cell_type": "markdown",
     "checksum": "92f233151bc3381afd6fd555477a75a0",
     "grade": false,
     "grade_id": "cell-28a99db6b5b77221",
     "locked": true,
     "schema_version": 3,
     "solution": false,
     "task": false
    }
   },
   "source": [
    "[Go to the beginning of the assignment](#home)\n",
    "<a id=\"gen_instructions\"></a>\n",
    "### (iii) General assignment instructions\n",
    "#### General Notes:\n",
    "* There may be more than one different way to answer a question or complete an exercise. \n",
    "* Some skeleton code has been implemented for you.\n",
    "* Different tasks will be detailed by comments or text. \n",
    "  * Places make sure you put your own code after `# YOUR CODE HERE` \n",
    "\n",
    "For further reference and resources, it's advised to check out the [Scikit-Learn documentation](https://scikit-learn.org/stable/user_guide.html).\n",
    "\n",
    "And if you get stuck, try searching for a question in the following format: <br/>\n",
    "\"how to do XYZ with Scikit-Learn\", where XYZ is the function you want to leverage from Scikit-Learn.\n",
    "\n",
    "Since we'll be working with data, we'll import Scikit-Learn's counterparts, NumPy and pandas.\n",
    "\n",
    "Good luck :-)<br/>\n",
    "Let's get started ... "
   ]
  },
  {
   "cell_type": "markdown",
   "metadata": {
    "deletable": false,
    "editable": false,
    "nbgrader": {
     "cell_type": "markdown",
     "checksum": "4b6149916b563f7a0e0e4b67480bd0e2",
     "grade": false,
     "grade_id": "cell-cd085e1cb6fa821b",
     "locked": true,
     "schema_version": 3,
     "solution": false,
     "task": false
    }
   },
   "source": [
    "#### Working on the assignment, todo and not todo:\n",
    "<b><u>Todo</u></b>:<br />\n",
    "<div class=\"alert alert-success\">\n",
    "<ul>\n",
    "<li>&#x2714; Use <b> Jupyter Notebook </b>.</li>\n",
    "<li>&#x2714; <b> Work by yourself</b> and submit your own assignment, <b>no pairing</b> to other students</li>\n",
    "<li>&#x2714; Test and save your assignment - <b>submit the last tested and saved version</b></li>\n",
    "<li>&#x2714; Work on the <b>original notebook</b> of the assignment</li>\n",
    "<li>&#x2714; Run the code cells by their original order</li>\n",
    "<li>&#x2714; submit <b>only</b> the <b>notebook (Assignment4_Classification_Flow.ipynb)</b> file (no name changing)</li></ul>\n",
    "</div>\n",
    "<b><u>Not todo</u></b>:<br />\n",
    "<div class=\"alert alert-danger\">\n",
    "<ul>\n",
    "<li>&#x2718; <b>do NOT use Google Colaboratory</b></li>\n",
    "<li>&#x2718; do <b>NOT</b> submit an <b>empty assignment</b></li>\n",
    "<li>&#x2718; do <b>NOT submit extra files</b>, <u>unless you're asked to do so</u></li>\n",
    "<li>&#x2718; <b>Do NOT submit a .py/.txt/.rar/.zip (or any non (.ipynb) file)</b> <u>version for the notebook</u> of the assignment</li>\n",
    "<li>&#x2718; <b>do NOT change</b> the notebook file name</li>\n",
    "</ul>\n",
    "</div>"
   ]
  },
  {
   "cell_type": "markdown",
   "metadata": {
    "deletable": false,
    "editable": false,
    "id": "1DTBB9-ZFfPa",
    "nbgrader": {
     "cell_type": "markdown",
     "checksum": "c80ad4629bb0fda593614603b3a41874",
     "grade": false,
     "grade_id": "cell-53125b34f27a7493",
     "locked": true,
     "schema_version": 3,
     "solution": false,
     "task": false
    }
   },
   "source": [
    "<b>Your implementations are performed in the 'Answer code cell's as following</b>:<br/>\n",
    "<div class=\"alert alert-success\">\n",
    "&#x2714; Your code starts one line after the '<code># YOUR CODE HERE</code>' remark<br/>\n",
    "&#x2714; Implemented code<br/>\n",
    "&#x2714; returned expected value<br/><br/>\n",
    "<b><u>Your code should look like this</u><b>:</div>\n",
    "<code># 5. function_name (your solution)\n",
    "# ====>>> YOUR ACTIONS: IMPLEMENT & RUN \n",
    "\n",
    "def method_to_implement():\n",
    "    # YOUR CODE HERE\n",
    "    your implemented code ...\n",
    "</code>"
   ]
  },
  {
   "cell_type": "markdown",
   "metadata": {
    "deletable": false,
    "editable": false,
    "id": "Z0bpFCUsFfcW",
    "nbgrader": {
     "cell_type": "markdown",
     "checksum": "9ac25e36a2c332c1a86c3e9c0e5e3db8",
     "grade": false,
     "grade_id": "cell-99f48de2579ab432",
     "locked": true,
     "schema_version": 3,
     "solution": false,
     "task": false
    }
   },
   "source": [
    "[Go to the beginning of the assignment](#home)\n",
    "<a id=\"Imports\"></a>\n",
    "### 1. import modules (packages)\n",
    "This step is necessary in order to use external modules (packages). <br/>\n",
    "<div class=\"alert alert-success\">\n",
    "&#x2714; Any module or package imported in the following code cell are permitted\n",
    "</div>\n",
    "<div class=\"alert alert-danger\">\n",
    "&#x2718; Any other modules or packages are ILLEGAL\n",
    "</div>\n",
    "\n",
    "##### 1. IMPORT MODULES - Run the following code cell:"
   ]
  },
  {
   "cell_type": "code",
   "execution_count": 1,
   "metadata": {
    "deletable": false,
    "editable": false,
    "id": "5101NCYt4vDz",
    "nbgrader": {
     "cell_type": "code",
     "checksum": "e7ee5b2c57cc76ffec03a5160df61b69",
     "grade": false,
     "grade_id": "run_import_packages",
     "locked": true,
     "schema_version": 3,
     "solution": false,
     "task": false
    }
   },
   "outputs": [],
   "source": [
    "# 1. IMPORT MODULES \n",
    "# ====>>> YOUR ACTIONS: RUN ONLY\n",
    "\n",
    "# DO NOT DELETE\n",
    "import sys                       # for testing use only\n",
    "import os                        # for testing use only\n",
    "from datetime import datetime    # for testing use only\n",
    "import random                    # for testing use only\n",
    "import hashlib                   # for testing use only\n",
    "import operator\n",
    "# --------------------------------------\n",
    "import math \n",
    "import statistics\n",
    "\n",
    "import pandas as pd\n",
    "import numpy as np\n",
    "np.random.seed(42)\n",
    "# --------------------------------------\n",
    "import sklearn\n",
    "from sklearn.preprocessing import MinMaxScaler\n",
    "from sklearn.model_selection import train_test_split, cross_val_score, GridSearchCV \n",
    "from sklearn.metrics import accuracy_score, f1_score, confusion_matrix\n",
    "from sklearn.tree import DecisionTreeClassifier\n",
    "from sklearn.naive_bayes import GaussianNB\n",
    "from sklearn.neighbors import KNeighborsClassifier\n",
    "# --------------------------------------\n",
    "from IPython.core.interactiveshell import InteractiveShell\n",
    "InteractiveShell.ast_node_interactivity = \"all\"\n",
    "pd.pandas.set_option('display.max_columns', None)\n",
    "pd.set_option('display.float_format', lambda x: '%.3f' % x)\n",
    "# --------------------------------------\n",
    "import warnings\n",
    "from sklearn.exceptions import ConvergenceWarning\n",
    "warnings.simplefilter(action='ignore', category=FutureWarning)\n",
    "warnings.simplefilter(\"ignore\", category=ConvergenceWarning)\n",
    "# --------------------------------------"
   ]
  },
  {
   "cell_type": "markdown",
   "metadata": {
    "deletable": false,
    "editable": false,
    "nbgrader": {
     "cell_type": "markdown",
     "checksum": "da644e03d5506c876418f731694df718",
     "grade": false,
     "grade_id": "cell-7a4dc775f66b1bde",
     "locked": true,
     "schema_version": 3,
     "solution": false,
     "task": false
    }
   },
   "source": [
    "[Go to the beginning of the assignment](#home)\n",
    "<a id=\"student_info\"></a>\n",
    "### 2. Student information\n",
    "##### methods to implement:\n",
    "* my_name\n",
    "* my_id"
   ]
  },
  {
   "cell_type": "markdown",
   "metadata": {
    "deletable": false,
    "editable": false,
    "id": "ywdmpphrFwrV",
    "nbgrader": {
     "cell_type": "markdown",
     "checksum": "2f7323db152974953752b3666840d85f",
     "grade": false,
     "grade_id": "cell-621efb1dce6c207d",
     "locked": true,
     "schema_version": 3,
     "solution": false,
     "task": false
    }
   },
   "source": [
    "#### 2.a. Function: my_name\n",
    "<a id=\"myName\"></a>\n",
    "Implement the function to return your full name (as a string), for example:<br/>\n",
    "<code>    return 'John Smith'</code>\n",
    "##### Implement and Run the following code cell:"
   ]
  },
  {
   "cell_type": "code",
   "execution_count": 2,
   "metadata": {
    "deletable": false,
    "id": "xyb89QPFF9uT",
    "nbgrader": {
     "cell_type": "code",
     "checksum": "ba388a0260ca1794f6f8063464d76354",
     "grade": false,
     "grade_id": "solution2a-my_name",
     "locked": false,
     "schema_version": 3,
     "solution": true,
     "task": false
    }
   },
   "outputs": [],
   "source": [
    "# 2.a. my_name (your solution)\n",
    "# ====>>> YOUR ACTIONS: IMPLEMENT & RUN \n",
    "\n",
    "def my_name():\n",
    "    # YOUR CODE HERE\n",
    "    return \"Tal Damari\"\n",
    "    "
   ]
  },
  {
   "cell_type": "markdown",
   "metadata": {
    "deletable": false,
    "editable": false,
    "nbgrader": {
     "cell_type": "markdown",
     "checksum": "421645c085f705510cb80886fd3c6232",
     "grade": false,
     "grade_id": "cell-be305415d74d8bf7",
     "locked": true,
     "schema_version": 3,
     "solution": false,
     "task": false
    }
   },
   "source": [
    "##### 2.a.  my_name - OPTIONAL SELF TEST -  Implement and Run the following code cell (IF NEEDED):"
   ]
  },
  {
   "cell_type": "code",
   "execution_count": 3,
   "metadata": {
    "deletable": false,
    "id": "lTwELc_0GAsD",
    "nbgrader": {
     "cell_type": "code",
     "checksum": "9c776a260336e36ceebdd732b59489ff",
     "grade": false,
     "grade_id": "self_test2a-my_name",
     "locked": false,
     "schema_version": 3,
     "solution": true,
     "task": false
    }
   },
   "outputs": [
    {
     "name": "stdout",
     "output_type": "stream",
     "text": [
      "Tal Damari\n"
     ]
    }
   ],
   "source": [
    "# 2.a. my_name (optional self testing)\n",
    "# ====>>> YOUR ACTIONS: (optional) IMPLEMENT & RUN \n",
    "\n",
    "student_name = my_name()\n",
    "print(student_name)\n",
    "# --- add additional code to check your code if needed:\n",
    "# YOUR CODE HERE\n"
   ]
  },
  {
   "cell_type": "markdown",
   "metadata": {
    "deletable": false,
    "editable": false,
    "id": "0iNcCThYGEH-",
    "nbgrader": {
     "cell_type": "markdown",
     "checksum": "606bb4c3b031ad49c4ac7da7ac5d76fd",
     "grade": false,
     "grade_id": "cell-e0597a0cbcf72c55",
     "locked": true,
     "schema_version": 3,
     "solution": false,
     "task": false
    }
   },
   "source": [
    "#### 2.b. Function: my_id\n",
    "<a id=\"myName\"></a>\n",
    "Implement the function to return your ID number (as an integer number).<br/>\n",
    "Note: the **id number should be equal to the one in Moodle**, for example:<br/>\n",
    "<code>    return 132468579</code>\n",
    "##### Implement and Run the following code cell:"
   ]
  },
  {
   "cell_type": "code",
   "execution_count": 2,
   "metadata": {
    "deletable": false,
    "id": "4Nwi1CiSGHBx",
    "nbgrader": {
     "cell_type": "code",
     "checksum": "0a38288ac17882ef161105b5fec131e3",
     "grade": false,
     "grade_id": "solution2b-my_id",
     "locked": false,
     "schema_version": 3,
     "solution": true,
     "task": false
    }
   },
   "outputs": [],
   "source": [
    "# 2.b. my_id (your solution)\n",
    "# ====>>> YOUR ACTIONS: IMPLEMENT & RUN \n",
    "\n",
    "def my_id():\n",
    "    # YOUR CODE HERE\n",
    "    return  "
   ]
  },
  {
   "cell_type": "markdown",
   "metadata": {
    "deletable": false,
    "editable": false,
    "nbgrader": {
     "cell_type": "markdown",
     "checksum": "4cd24353cc86a575198ba46c0e500774",
     "grade": false,
     "grade_id": "cell-87df396df9ba6bae",
     "locked": true,
     "schema_version": 3,
     "solution": false,
     "task": false
    }
   },
   "source": [
    "##### 2.b. my_id - OPTIONAL SELF TEST - Implement & Run the following code cell (IF NEEDED):"
   ]
  },
  {
   "cell_type": "code",
   "execution_count": 3,
   "metadata": {
    "deletable": false,
    "id": "Fm-kbP8sGJ9-",
    "nbgrader": {
     "cell_type": "code",
     "checksum": "08b9cf8dfe9ea95a8f95e86e6c30b7d7",
     "grade": false,
     "grade_id": "self_test2b-my_id",
     "locked": false,
     "schema_version": 3,
     "solution": true,
     "task": false
    }
   },
   "outputs": [
    {
     "name": "stdout",
     "output_type": "stream",
     "text": [
      "None\n"
     ]
    }
   ],
   "source": [
    "# 2.b. my_id (optional self testing)\n",
    "# ====>>> YOUR ACTIONS: (optional) IMPLEMENT & RUN \n",
    "\n",
    "student_id = my_id()\n",
    "print(student_id)\n",
    "# --- add additional code to check your code if needed:\n",
    "# YOUR CODE HERE\n"
   ]
  },
  {
   "cell_type": "markdown",
   "metadata": {
    "deletable": false,
    "editable": false,
    "nbgrader": {
     "cell_type": "markdown",
     "checksum": "9c5619908f20770f75db99fbe8e4363d",
     "grade": false,
     "grade_id": "cell-75eca5a84829e0e5",
     "locked": true,
     "schema_version": 3,
     "solution": false,
     "task": false
    }
   },
   "source": [
    "##### 2.b.  my_id - OPTIONAL SELF TEST -  Implement and Run the following code cell (IF NEEDED):"
   ]
  },
  {
   "cell_type": "code",
   "execution_count": 6,
   "metadata": {
    "colab": {
     "base_uri": "https://localhost:8080/",
     "height": 264
    },
    "deletable": false,
    "editable": false,
    "id": "C9EqAvpLGMkV",
    "nbgrader": {
     "cell_type": "code",
     "checksum": "9dcb2a5a05c0a0d7ef76ba015160f2ee",
     "grade": true,
     "grade_id": "test2-1_student_info",
     "locked": true,
     "points": 5,
     "schema_version": 3,
     "solution": false,
     "task": false
    },
    "outputId": "a8e3cb50-93d1-406d-f83f-122741f3754c"
   },
   "outputs": [
    {
     "name": "stdout",
     "output_type": "stream",
     "text": [
      "2. 'my_name' and 'my_id' - Test 1 (name: test2-1_student_info, points: 5)\n",
      "\n",
      "Good Job!\n",
      "You've passed the test for the implementation of 'my_name' and 'my_id'  :-)\n",
      "\n",
      "Output dataframe:\n",
      "-----------------\n"
     ]
    },
    {
     "data": {
      "text/html": [
       "<div>\n",
       "<style scoped>\n",
       "    .dataframe tbody tr th:only-of-type {\n",
       "        vertical-align: middle;\n",
       "    }\n",
       "\n",
       "    .dataframe tbody tr th {\n",
       "        vertical-align: top;\n",
       "    }\n",
       "\n",
       "    .dataframe thead th {\n",
       "        text-align: right;\n",
       "    }\n",
       "</style>\n",
       "<table border=\"1\" class=\"dataframe\">\n",
       "  <thead>\n",
       "    <tr style=\"text-align: right;\">\n",
       "      <th></th>\n",
       "      <th>value</th>\n",
       "      <th>type</th>\n",
       "      <th>date_time</th>\n",
       "    </tr>\n",
       "  </thead>\n",
       "  <tbody>\n",
       "    <tr>\n",
       "      <th>student_name</th>\n",
       "      <td>Tal Damari</td>\n",
       "      <td>&lt;class 'str'&gt;</td>\n",
       "      <td>2023-03-29 19:19:22</td>\n",
       "    </tr>\n",
       "    <tr>\n",
       "      <th>student_id</th>\n",
       "      <td>208129643</td>\n",
       "      <td>&lt;class 'int'&gt;</td>\n",
       "      <td>2023-03-29 19:19:22</td>\n",
       "    </tr>\n",
       "  </tbody>\n",
       "</table>\n",
       "</div>"
      ],
      "text/plain": [
       "                   value           type            date_time\n",
       "student_name  Tal Damari  <class 'str'>  2023-03-29 19:19:22\n",
       "student_id     208129643  <class 'int'>  2023-03-29 19:19:22"
      ]
     },
     "execution_count": 6,
     "metadata": {},
     "output_type": "execute_result"
    }
   ],
   "source": [
    "# 2. my_name, my_id (graded test)\n",
    "# ====>>> YOUR ACTIONS: RUN ONLY\n",
    "\n",
    "print (\"2. 'my_name' and 'my_id' - Test 1 (name: test2-1_student_info, points: 5)\")\n",
    "\n",
    "# dataframe for output:\n",
    "dt1 = datetime.now()\n",
    "try:\n",
    "    student_name, student_id = my_name(), my_id()\n",
    "except Exception as e:\n",
    "    print ('You probably have a syntax or implementation error,  \\nerror Message:',str(e), '\\nTry fixing your code')\n",
    "    raise\n",
    "\n",
    "assert type(student_name) is str or type(student_id) is int, \"name is not a string or id is not an integer\"\n",
    "\n",
    "s_datetime =  [dt1.strftime('%Y-%m-%d %H:%M:%S'), datetime.now().strftime('%Y-%m-%d %H:%M:%S')]\n",
    "df_output = pd.DataFrame({'value': [student_name, student_id], 'type': [type(student_name), type(student_id)], 'date_time': s_datetime},index=['student_name','student_id'])\n",
    "\n",
    "print (\"\\nGood Job!\\nYou've passed the test for the implementation of 'my_name' and 'my_id'  :-)\")\n",
    "\n",
    "print ('\\nOutput dataframe:')\n",
    "print ('-----------------')\n",
    "df_output"
   ]
  },
  {
   "cell_type": "markdown",
   "metadata": {
    "deletable": false,
    "editable": false,
    "nbgrader": {
     "cell_type": "markdown",
     "checksum": "821b753ce6f330d9cf52322451ff58d7",
     "grade": false,
     "grade_id": "cell-23e7ccafa1d97180",
     "locked": true,
     "schema_version": 3,
     "solution": false,
     "task": false
    }
   },
   "source": [
    "[Go to the beginning of the assignment](#home)\n",
    "<a id=\"preprocessing\"></a>\n",
    "### 3. Preprocessing - **50 points **\n",
    "\n",
    "In this section, you will implement various pre-processing techniques on the \"Loan Risk Factor\" dataset.<br/>\n",
    "<b><u>It will include the following</u></b>:\n",
    "* 3.pre About Dataset - (review only - description of the dataset)\n",
    "* 3.a. Load dataset                 (run only)\n",
    "* 3.b. Duplicate removal            (5 point)\n",
    "* 3.c. Decouple Dataset             (4 point)\n",
    "* 3.d. Train Test Split             (4 point)\n",
    "* 3.e. Missing Values Handling      (8 points)\n",
    "* 3.f. Outlier Removal              (8 points)\n",
    "* 3.g. Scaling                      (5 points)\n",
    "* 3.h. Check Correlation            (8 points)\n",
    "* 3.i. Categorical Columns Handling (8 points)"
   ]
  },
  {
   "cell_type": "markdown",
   "metadata": {
    "deletable": false,
    "editable": false,
    "id": "YtQpeBJK5c9R",
    "nbgrader": {
     "cell_type": "markdown",
     "checksum": "5b52978b06f2ec1343f5c713685b7ce8",
     "grade": false,
     "grade_id": "cell-0c404e074cb0654a",
     "locked": true,
     "schema_version": 3,
     "solution": false,
     "task": false
    }
   },
   "source": [
    "#### 3.pre. About Dataset\n",
    "In this section of the assignment you will get familiar with a dataset named \"Loan Risk Factor\" documenting banks' clients asking for a loan.<br/>\n",
    "Each row in the dataset represents a person who takes a credit by a bank.<br/>\n",
    "Each person is classified as **good** or **bad** credit risks according to the following set of attributes:    \n",
    "1. **age** (numeric)\n",
    "2. **sex** (text: male, female)\n",
    "3. **job** (numeric: 0 - unskilled and non-resident, 1 - unskilled and resident, 2 - skilled, 3 - highly skilled)\n",
    "4. **housing** (text: own, rent, or free)\n",
    "5. **years** (numeric, in years)\n",
    "5. **saving_account** (text - little, moderate, quite rich, rich)\n",
    "6. **checking_account** (numeric, in DM - Deutsch Mark)\n",
    "7. **credit_amount** (numeric, in DM)\n",
    "8. **duration** (numeric, in month)\n",
    "9. **purpose** (text: car, furniture/equipment, radio/TV, domestic appliances, repairs, education, business, vacation/others)\n",
    "10. **risk** (target) - (0 - risk, 1 - no risk)"
   ]
  },
  {
   "cell_type": "markdown",
   "metadata": {
    "deletable": false,
    "editable": false,
    "id": "zJT3rnY_6rBz",
    "nbgrader": {
     "cell_type": "markdown",
     "checksum": "ecdf6ad41bb33ff7de73324c3ab111f1",
     "grade": false,
     "grade_id": "cell-350b5e428d404c64",
     "locked": true,
     "schema_version": 3,
     "solution": false,
     "task": false
    }
   },
   "source": [
    "##### 3.a. Load dataset - Run the following (2) code cells:"
   ]
  },
  {
   "cell_type": "code",
   "execution_count": 7,
   "metadata": {
    "colab": {
     "base_uri": "https://localhost:8080/",
     "height": 359
    },
    "deletable": false,
    "editable": false,
    "id": "tDlXUpjL8aCE",
    "nbgrader": {
     "cell_type": "code",
     "checksum": "6fbc67653468cd4ea50fe891bb99d2b5",
     "grade": false,
     "grade_id": "cell-c4125e909f712b1b",
     "locked": true,
     "schema_version": 3,
     "solution": false,
     "task": false
    },
    "outputId": "4f18bc52-ae17-40dd-d72f-bf87df938d72"
   },
   "outputs": [
    {
     "data": {
      "text/html": [
       "<div>\n",
       "<style scoped>\n",
       "    .dataframe tbody tr th:only-of-type {\n",
       "        vertical-align: middle;\n",
       "    }\n",
       "\n",
       "    .dataframe tbody tr th {\n",
       "        vertical-align: top;\n",
       "    }\n",
       "\n",
       "    .dataframe thead th {\n",
       "        text-align: right;\n",
       "    }\n",
       "</style>\n",
       "<table border=\"1\" class=\"dataframe\">\n",
       "  <thead>\n",
       "    <tr style=\"text-align: right;\">\n",
       "      <th></th>\n",
       "      <th>age</th>\n",
       "      <th>sex</th>\n",
       "      <th>job</th>\n",
       "      <th>housing</th>\n",
       "      <th>years</th>\n",
       "      <th>saving_account</th>\n",
       "      <th>checking_account</th>\n",
       "      <th>credit_amount</th>\n",
       "      <th>duration</th>\n",
       "      <th>purpose</th>\n",
       "      <th>risk</th>\n",
       "    </tr>\n",
       "  </thead>\n",
       "  <tbody>\n",
       "    <tr>\n",
       "      <th>0</th>\n",
       "      <td>26</td>\n",
       "      <td>male</td>\n",
       "      <td>2</td>\n",
       "      <td>own</td>\n",
       "      <td>1.000</td>\n",
       "      <td>little</td>\n",
       "      <td>rich</td>\n",
       "      <td>1330</td>\n",
       "      <td>12.000</td>\n",
       "      <td>car</td>\n",
       "      <td>1.000</td>\n",
       "    </tr>\n",
       "    <tr>\n",
       "      <th>1</th>\n",
       "      <td>43</td>\n",
       "      <td>male</td>\n",
       "      <td>2</td>\n",
       "      <td>own</td>\n",
       "      <td>2.000</td>\n",
       "      <td>NaN</td>\n",
       "      <td>NaN</td>\n",
       "      <td>2197</td>\n",
       "      <td>24.000</td>\n",
       "      <td>car</td>\n",
       "      <td>1.000</td>\n",
       "    </tr>\n",
       "    <tr>\n",
       "      <th>2</th>\n",
       "      <td>28</td>\n",
       "      <td>female</td>\n",
       "      <td>2</td>\n",
       "      <td>rent</td>\n",
       "      <td>1.250</td>\n",
       "      <td>little</td>\n",
       "      <td>little</td>\n",
       "      <td>1403</td>\n",
       "      <td>15.000</td>\n",
       "      <td>car</td>\n",
       "      <td>1.000</td>\n",
       "    </tr>\n",
       "    <tr>\n",
       "      <th>3</th>\n",
       "      <td>25</td>\n",
       "      <td>male</td>\n",
       "      <td>0</td>\n",
       "      <td>own</td>\n",
       "      <td>1.500</td>\n",
       "      <td>little</td>\n",
       "      <td>little</td>\n",
       "      <td>2473</td>\n",
       "      <td>18.000</td>\n",
       "      <td>furniture/equipment</td>\n",
       "      <td>0.000</td>\n",
       "    </tr>\n",
       "    <tr>\n",
       "      <th>4</th>\n",
       "      <td>29</td>\n",
       "      <td>male</td>\n",
       "      <td>2</td>\n",
       "      <td>rent</td>\n",
       "      <td>0.500</td>\n",
       "      <td>little</td>\n",
       "      <td>NaN</td>\n",
       "      <td>2108</td>\n",
       "      <td>6.000</td>\n",
       "      <td>radio/TV</td>\n",
       "      <td>NaN</td>\n",
       "    </tr>\n",
       "  </tbody>\n",
       "</table>\n",
       "</div>"
      ],
      "text/plain": [
       "   age     sex  job housing  years saving_account checking_account  \\\n",
       "0   26    male    2     own  1.000         little             rich   \n",
       "1   43    male    2     own  2.000            NaN              NaN   \n",
       "2   28  female    2    rent  1.250         little           little   \n",
       "3   25    male    0     own  1.500         little           little   \n",
       "4   29    male    2    rent  0.500         little              NaN   \n",
       "\n",
       "   credit_amount  duration              purpose  risk  \n",
       "0           1330    12.000                  car 1.000  \n",
       "1           2197    24.000                  car 1.000  \n",
       "2           1403    15.000                  car 1.000  \n",
       "3           2473    18.000  furniture/equipment 0.000  \n",
       "4           2108     6.000             radio/TV   NaN  "
      ]
     },
     "execution_count": 7,
     "metadata": {},
     "output_type": "execute_result"
    }
   ],
   "source": [
    "# 3.a. LOAD DATASET \n",
    "# ====>>> YOUR ACTIONS: RUN ONLY\n",
    "file_name_csv = '.' + os.sep + 'data' + os.sep + 'loans_risk_factor_dups.csv'\n",
    "load_csv = lambda file_name: pd.read_csv(file_name)\n",
    "risk_factor_df = load_csv(file_name_csv)\n",
    "risk_factor_df.head()"
   ]
  },
  {
   "cell_type": "markdown",
   "metadata": {
    "deletable": false,
    "editable": false,
    "id": "zwJqkz5d68th",
    "nbgrader": {
     "cell_type": "markdown",
     "checksum": "5896679ffdcef391dd24dde346d907e2",
     "grade": false,
     "grade_id": "cell-6aaa28d70e6e073b",
     "locked": true,
     "schema_version": 3,
     "solution": false,
     "task": false
    }
   },
   "source": [
    "#### 3.b. Duplicate Removal - **5 Points**\n",
    "\n",
    "<u>method name</u>: <b>remove_duplicates</b><br/>\n",
    "\n",
    "<pre>\n",
    "Complete the following function to delete duplicated rows and return the dataframe after deletion.\n",
    "\n",
    "------------\n",
    "input parameters:\n",
    "- risk_factor_df - \"loan risk factor\" dataframe\n",
    "------------\n",
    "The return statement should look like the following:\n",
    "return risk_factor_df\n",
    "</pre>"
   ]
  },
  {
   "cell_type": "markdown",
   "metadata": {
    "deletable": false,
    "editable": false,
    "nbgrader": {
     "cell_type": "markdown",
     "checksum": "9d41beebbc2665cb78bf068b36574ec4",
     "grade": false,
     "grade_id": "cell-a6535e7e4df80014",
     "locked": true,
     "schema_version": 3,
     "solution": false,
     "task": false
    }
   },
   "source": [
    "#### 3.b. Duplicate Removal - Implement and Run the following code cell:"
   ]
  },
  {
   "cell_type": "code",
   "execution_count": 8,
   "metadata": {
    "deletable": false,
    "id": "YFC2ry818-yG",
    "nbgrader": {
     "cell_type": "code",
     "checksum": "489eb96145af40b09009e3933a599e57",
     "grade": false,
     "grade_id": "solution3b-remove_duplicates",
     "locked": false,
     "schema_version": 3,
     "solution": true,
     "task": false
    }
   },
   "outputs": [],
   "source": [
    "# 3.b. remove_duplicates (your solution)\n",
    "# ====>>> YOUR ACTIONS: IMPLEMENT & RUN\n",
    "\n",
    "def remove_duplicates(risk_factor_df):\n",
    "    # YOUR CODE HERE\n",
    "    no_dup_df = risk_factor_df.copy()\n",
    "    no_dup_df.drop_duplicates(inplace = True)\n",
    "    return no_dup_df"
   ]
  },
  {
   "cell_type": "markdown",
   "metadata": {
    "deletable": false,
    "editable": false,
    "nbgrader": {
     "cell_type": "markdown",
     "checksum": "e04a3e070ab942dd8672d5d5f95600a5",
     "grade": false,
     "grade_id": "cell-f43ef656eb27b06f",
     "locked": true,
     "schema_version": 3,
     "solution": false,
     "task": false
    }
   },
   "source": [
    "##### 3.b. remove_duplicates - OPTIONAL SELF TEST - Implement & Run the following code cell (IF NEEDED):"
   ]
  },
  {
   "cell_type": "code",
   "execution_count": 9,
   "metadata": {
    "deletable": false,
    "nbgrader": {
     "cell_type": "code",
     "checksum": "3b33732ff27017914676617d0eaa83fc",
     "grade": false,
     "grade_id": "self_test3b-remove_duplicates",
     "locked": false,
     "schema_version": 3,
     "solution": true,
     "task": false
    }
   },
   "outputs": [
    {
     "data": {
      "text/html": [
       "<div>\n",
       "<style scoped>\n",
       "    .dataframe tbody tr th:only-of-type {\n",
       "        vertical-align: middle;\n",
       "    }\n",
       "\n",
       "    .dataframe tbody tr th {\n",
       "        vertical-align: top;\n",
       "    }\n",
       "\n",
       "    .dataframe thead th {\n",
       "        text-align: right;\n",
       "    }\n",
       "</style>\n",
       "<table border=\"1\" class=\"dataframe\">\n",
       "  <thead>\n",
       "    <tr style=\"text-align: right;\">\n",
       "      <th></th>\n",
       "      <th>age</th>\n",
       "      <th>sex</th>\n",
       "      <th>job</th>\n",
       "      <th>housing</th>\n",
       "      <th>years</th>\n",
       "      <th>saving_account</th>\n",
       "      <th>checking_account</th>\n",
       "      <th>credit_amount</th>\n",
       "      <th>duration</th>\n",
       "      <th>purpose</th>\n",
       "      <th>risk</th>\n",
       "    </tr>\n",
       "  </thead>\n",
       "  <tbody>\n",
       "    <tr>\n",
       "      <th>0</th>\n",
       "      <td>26</td>\n",
       "      <td>male</td>\n",
       "      <td>2</td>\n",
       "      <td>own</td>\n",
       "      <td>1.000</td>\n",
       "      <td>little</td>\n",
       "      <td>rich</td>\n",
       "      <td>1330</td>\n",
       "      <td>12.000</td>\n",
       "      <td>car</td>\n",
       "      <td>1.000</td>\n",
       "    </tr>\n",
       "    <tr>\n",
       "      <th>1</th>\n",
       "      <td>43</td>\n",
       "      <td>male</td>\n",
       "      <td>2</td>\n",
       "      <td>own</td>\n",
       "      <td>2.000</td>\n",
       "      <td>NaN</td>\n",
       "      <td>NaN</td>\n",
       "      <td>2197</td>\n",
       "      <td>24.000</td>\n",
       "      <td>car</td>\n",
       "      <td>1.000</td>\n",
       "    </tr>\n",
       "    <tr>\n",
       "      <th>2</th>\n",
       "      <td>28</td>\n",
       "      <td>female</td>\n",
       "      <td>2</td>\n",
       "      <td>rent</td>\n",
       "      <td>1.250</td>\n",
       "      <td>little</td>\n",
       "      <td>little</td>\n",
       "      <td>1403</td>\n",
       "      <td>15.000</td>\n",
       "      <td>car</td>\n",
       "      <td>1.000</td>\n",
       "    </tr>\n",
       "    <tr>\n",
       "      <th>3</th>\n",
       "      <td>25</td>\n",
       "      <td>male</td>\n",
       "      <td>0</td>\n",
       "      <td>own</td>\n",
       "      <td>1.500</td>\n",
       "      <td>little</td>\n",
       "      <td>little</td>\n",
       "      <td>2473</td>\n",
       "      <td>18.000</td>\n",
       "      <td>furniture/equipment</td>\n",
       "      <td>0.000</td>\n",
       "    </tr>\n",
       "    <tr>\n",
       "      <th>4</th>\n",
       "      <td>29</td>\n",
       "      <td>male</td>\n",
       "      <td>2</td>\n",
       "      <td>rent</td>\n",
       "      <td>0.500</td>\n",
       "      <td>little</td>\n",
       "      <td>NaN</td>\n",
       "      <td>2108</td>\n",
       "      <td>6.000</td>\n",
       "      <td>radio/TV</td>\n",
       "      <td>NaN</td>\n",
       "    </tr>\n",
       "  </tbody>\n",
       "</table>\n",
       "</div>"
      ],
      "text/plain": [
       "   age     sex  job housing  years saving_account checking_account  \\\n",
       "0   26    male    2     own  1.000         little             rich   \n",
       "1   43    male    2     own  2.000            NaN              NaN   \n",
       "2   28  female    2    rent  1.250         little           little   \n",
       "3   25    male    0     own  1.500         little           little   \n",
       "4   29    male    2    rent  0.500         little              NaN   \n",
       "\n",
       "   credit_amount  duration              purpose  risk  \n",
       "0           1330    12.000                  car 1.000  \n",
       "1           2197    24.000                  car 1.000  \n",
       "2           1403    15.000                  car 1.000  \n",
       "3           2473    18.000  furniture/equipment 0.000  \n",
       "4           2108     6.000             radio/TV   NaN  "
      ]
     },
     "execution_count": 9,
     "metadata": {},
     "output_type": "execute_result"
    }
   ],
   "source": [
    "# 3.b. remove_duplicates (optional self testing)\n",
    "# ====>>> YOUR ACTIONS: (optional) IMPLEMENT & RUN \n",
    "file_name_csv = '.' + os.sep + 'data' + os.sep + 'loans_risk_factor_dups.csv'\n",
    "risk_factor_df = load_csv(file_name_csv)\n",
    "risk_factor_df_no_dups = remove_duplicates(risk_factor_df)\n",
    "risk_factor_df_no_dups.head()\n",
    "# --- add additional code to check your code if needed:\n",
    "# YOUR CODE HERE\n"
   ]
  },
  {
   "cell_type": "markdown",
   "metadata": {
    "deletable": false,
    "editable": false,
    "nbgrader": {
     "cell_type": "markdown",
     "checksum": "bd2fa06c3a3068456c77f5b7ff1369ef",
     "grade": false,
     "grade_id": "cell-488084cc905328f7",
     "locked": true,
     "schema_version": 3,
     "solution": false,
     "task": false
    }
   },
   "source": [
    "##### 3.b. remove_duplicates - GRADED TESTS - Run the following (2) code cells:"
   ]
  },
  {
   "cell_type": "code",
   "execution_count": 10,
   "metadata": {
    "deletable": false,
    "editable": false,
    "nbgrader": {
     "cell_type": "code",
     "checksum": "c28231d1018bc0f83d5673f02a022146",
     "grade": true,
     "grade_id": "test3b_1-remove_duplicates",
     "locked": true,
     "points": 1,
     "schema_version": 3,
     "solution": false,
     "task": false
    }
   },
   "outputs": [
    {
     "name": "stdout",
     "output_type": "stream",
     "text": [
      "3.b.'remove_duplicates' - Test 1 (name: test3b_1-remove_duplicates, points: 1) - Sanity\n"
     ]
    },
    {
     "data": {
      "text/html": [
       "<div>\n",
       "<style scoped>\n",
       "    .dataframe tbody tr th:only-of-type {\n",
       "        vertical-align: middle;\n",
       "    }\n",
       "\n",
       "    .dataframe tbody tr th {\n",
       "        vertical-align: top;\n",
       "    }\n",
       "\n",
       "    .dataframe thead th {\n",
       "        text-align: right;\n",
       "    }\n",
       "</style>\n",
       "<table border=\"1\" class=\"dataframe\">\n",
       "  <thead>\n",
       "    <tr style=\"text-align: right;\">\n",
       "      <th></th>\n",
       "      <th>age</th>\n",
       "      <th>sex</th>\n",
       "      <th>job</th>\n",
       "      <th>housing</th>\n",
       "      <th>years</th>\n",
       "      <th>saving_account</th>\n",
       "      <th>checking_account</th>\n",
       "      <th>credit_amount</th>\n",
       "      <th>duration</th>\n",
       "      <th>purpose</th>\n",
       "      <th>risk</th>\n",
       "    </tr>\n",
       "  </thead>\n",
       "  <tbody>\n",
       "    <tr>\n",
       "      <th>0</th>\n",
       "      <td>26</td>\n",
       "      <td>male</td>\n",
       "      <td>2</td>\n",
       "      <td>own</td>\n",
       "      <td>1.000</td>\n",
       "      <td>little</td>\n",
       "      <td>rich</td>\n",
       "      <td>1330</td>\n",
       "      <td>12.000</td>\n",
       "      <td>car</td>\n",
       "      <td>1.000</td>\n",
       "    </tr>\n",
       "    <tr>\n",
       "      <th>1</th>\n",
       "      <td>43</td>\n",
       "      <td>male</td>\n",
       "      <td>2</td>\n",
       "      <td>own</td>\n",
       "      <td>2.000</td>\n",
       "      <td>NaN</td>\n",
       "      <td>NaN</td>\n",
       "      <td>2197</td>\n",
       "      <td>24.000</td>\n",
       "      <td>car</td>\n",
       "      <td>1.000</td>\n",
       "    </tr>\n",
       "  </tbody>\n",
       "</table>\n",
       "</div>"
      ],
      "text/plain": [
       "   age   sex  job housing  years saving_account checking_account  \\\n",
       "0   26  male    2     own  1.000         little             rich   \n",
       "1   43  male    2     own  2.000            NaN              NaN   \n",
       "\n",
       "   credit_amount  duration purpose  risk  \n",
       "0           1330    12.000     car 1.000  \n",
       "1           2197    24.000     car 1.000  "
      ]
     },
     "execution_count": 10,
     "metadata": {},
     "output_type": "execute_result"
    },
    {
     "name": "stdout",
     "output_type": "stream",
     "text": [
      "Good Job!\n",
      "You've passed the 1st test for the 'remove_duplicates' function implementation :-)\n"
     ]
    }
   ],
   "source": [
    "# 3.b. remove_duplicates (graded test)\n",
    "# ====>>> YOUR ACTIONS: RUN ONLY\n",
    "\n",
    "print (\"3.b.'remove_duplicates' - Test 1 (name: test3b_1-remove_duplicates, points: 1) - Sanity\")\n",
    "\n",
    "file_name_csv = '.' + os.sep + 'data' + os.sep + 'loans_risk_factor_dups.csv'\n",
    "risk_factor_df = load_csv(file_name_csv)\n",
    "\n",
    "try:\n",
    "    risk_factor_df_no_dups = remove_duplicates(risk_factor_df)\n",
    "    risk_factor_df_no_dups.head(2)\n",
    "except Exception as e:\n",
    "    print ('You probably have a syntax or implementation error,  \\nerror Message:',str(e), '\\nTry fixing your code')\n",
    "    raise\n",
    "    \n",
    "print (\"Good Job!\\nYou've passed the 1st test for the 'remove_duplicates' function implementation :-)\")    "
   ]
  },
  {
   "cell_type": "code",
   "execution_count": 11,
   "metadata": {
    "deletable": false,
    "editable": false,
    "nbgrader": {
     "cell_type": "code",
     "checksum": "1969c7b0790591b0e352e85f67a9e3c6",
     "grade": true,
     "grade_id": "test3b_2-remove_duplicates",
     "locked": true,
     "points": 2,
     "schema_version": 3,
     "solution": false,
     "task": false
    }
   },
   "outputs": [
    {
     "name": "stdout",
     "output_type": "stream",
     "text": [
      "3.b.'remove_duplicates' - Test 2 (name: test3b_2-remove_duplicates, points: 2)\n",
      "Good Job!\n",
      "You've passed the 2nd test for the 'remove_duplicates' function implementation :-)\n"
     ]
    }
   ],
   "source": [
    "# 3.b. remove_duplicates (graded test)\n",
    "# ====>>> YOUR ACTIONS: RUN ONLY\n",
    "\n",
    "print (\"3.b.'remove_duplicates' - Test 2 (name: test3b_2-remove_duplicates, points: 2)\")\n",
    "\n",
    "file_name_csv = '.' + os.sep + 'data' + os.sep + 'loans_risk_factor_dups.csv'\n",
    "risk_factor_df = load_csv(file_name_csv)\n",
    "\n",
    "try:    \n",
    "    risk_factor_df_no_dups = remove_duplicates(risk_factor_df)\n",
    "except Exception as e:\n",
    "    print ('You probably have a syntax or implementation error,  \\nerror Message:',str(e), '\\nTry fixing your code')\n",
    "    raise\n",
    "\n",
    "assert (551, 11) == risk_factor_df_no_dups.shape, \"Wrong shape for feature vector dataframe after 'remove_duplicates'\"\n",
    "\n",
    "print (\"Good Job!\\nYou've passed the 2nd test for the 'remove_duplicates' function implementation :-)\")    "
   ]
  },
  {
   "cell_type": "code",
   "execution_count": 12,
   "metadata": {
    "deletable": false,
    "editable": false,
    "nbgrader": {
     "cell_type": "code",
     "checksum": "7c866d8836644d482ea5fc060eb0cc7a",
     "grade": true,
     "grade_id": "test3b_3-remove_duplicates",
     "locked": true,
     "points": 2,
     "schema_version": 3,
     "solution": false,
     "task": false
    }
   },
   "outputs": [
    {
     "name": "stdout",
     "output_type": "stream",
     "text": [
      "3.b.'remove_duplicates' - Test 3 (name: test3b_3-remove_duplicates, points: 2)\n",
      "Good Job!\n",
      "You've passed the 3rd test for the 'remove_duplicates' function implementation :-)\n"
     ]
    }
   ],
   "source": [
    "# 3.b. remove_duplicates (graded test)\n",
    "# ====>>> YOUR ACTIONS: RUN ONLY\n",
    "\n",
    "print (\"3.b.'remove_duplicates' - Test 3 (name: test3b_3-remove_duplicates, points: 2)\")\n",
    "\n",
    "file_name_csv = '.' + os.sep + 'data' + os.sep + 'loans_risk_factor_dups.csv'\n",
    "risk_factor_df = load_csv(file_name_csv)\n",
    "\n",
    "try:    \n",
    "    risk_factor_df_no_dups = remove_duplicates(risk_factor_df)\n",
    "except Exception as e:\n",
    "    print ('You probably have a syntax or implementation error,  \\nerror Message:',str(e), '\\nTry fixing your code')\n",
    "    raise\n",
    "\n",
    "assert 0 == risk_factor_df_no_dups.duplicated().sum(), \"not all duplications where removed\"\n",
    "\n",
    "print (\"Good Job!\\nYou've passed the 3rd test for the 'remove_duplicates' function implementation :-)\")    "
   ]
  },
  {
   "cell_type": "markdown",
   "metadata": {
    "deletable": false,
    "editable": false,
    "id": "KSfCwFAEFFAl",
    "nbgrader": {
     "cell_type": "markdown",
     "checksum": "6bd78c0f9bedf13aed105f7065149b9f",
     "grade": false,
     "grade_id": "cell-67e34444db02d8cc",
     "locked": true,
     "schema_version": 3,
     "solution": false,
     "task": false
    }
   },
   "source": [
    "#### 3.c. Decouple Dataset - **4 Points**\n",
    "\n",
    "<u>method name</u>: <b>decouple_data</b><br/>\n",
    "\n",
    "<hr>\n",
    "\n",
    "<u>dependency</u>: <br/>\n",
    "* <b>remove_duplicates</b></br> \n",
    "\n",
    "<hr>\n",
    "\n",
    "<pre>\n",
    "Complete the following function to return the\n",
    " feature vectors DataFrame (X) and a series containing the labels (y).\n",
    "\n",
    "------------\n",
    "input parameters:\n",
    "- risk_factor_df - \"loan risk factor\" dataframe\n",
    "------------\n",
    "The return statement should look like the following:\n",
    "return X, y\n",
    "</pre>  \n"
   ]
  },
  {
   "cell_type": "markdown",
   "metadata": {
    "deletable": false,
    "editable": false,
    "nbgrader": {
     "cell_type": "markdown",
     "checksum": "0db7f51a84dca0b82086cc97e7d83696",
     "grade": false,
     "grade_id": "cell-c46f636742945855",
     "locked": true,
     "schema_version": 3,
     "solution": false,
     "task": false
    }
   },
   "source": [
    "#### 3.c. Decouple Dataset - Implement and Run the following code cell:"
   ]
  },
  {
   "cell_type": "code",
   "execution_count": 13,
   "metadata": {
    "deletable": false,
    "id": "I_qQBmJ9nuO2",
    "nbgrader": {
     "cell_type": "code",
     "checksum": "df03793727e0e4f543c44b9ef71a208f",
     "grade": false,
     "grade_id": "solution3c-remove_duplicates",
     "locked": false,
     "schema_version": 3,
     "solution": true,
     "task": false
    }
   },
   "outputs": [],
   "source": [
    "# 3.c. remove_duplicates (your solution)\n",
    "# ====>>> YOUR ACTIONS: IMPLEMENT & RUN\n",
    "\n",
    "def decouple_data(risk_factor_df):\n",
    "    # YOUR CODE HERE\n",
    "    X = risk_factor_df.copy()\n",
    "    y = X[\"risk\"]\n",
    "    del X[\"risk\"]\n",
    "    return X,y"
   ]
  },
  {
   "cell_type": "markdown",
   "metadata": {
    "deletable": false,
    "editable": false,
    "nbgrader": {
     "cell_type": "markdown",
     "checksum": "23d79287a018eac19ecc15ce0c09cb10",
     "grade": false,
     "grade_id": "cell-1410b46dd110c2bc",
     "locked": true,
     "schema_version": 3,
     "solution": false,
     "task": false
    }
   },
   "source": [
    "##### 3.c. decouple_data - OPTIONAL SELF TEST - Implement & Run the following code cell (IF NEEDED):"
   ]
  },
  {
   "cell_type": "code",
   "execution_count": 14,
   "metadata": {
    "colab": {
     "base_uri": "https://localhost:8080/"
    },
    "deletable": false,
    "id": "-FYdleyJnuZg",
    "nbgrader": {
     "cell_type": "code",
     "checksum": "5ed48b845571f6e52077a6be549c8883",
     "grade": false,
     "grade_id": "self_test3c-remove_duplicates",
     "locked": false,
     "schema_version": 3,
     "solution": true,
     "task": false
    },
    "outputId": "24c16290-7c16-454a-e291-a4f847361c3d"
   },
   "outputs": [
    {
     "data": {
      "text/html": [
       "<div>\n",
       "<style scoped>\n",
       "    .dataframe tbody tr th:only-of-type {\n",
       "        vertical-align: middle;\n",
       "    }\n",
       "\n",
       "    .dataframe tbody tr th {\n",
       "        vertical-align: top;\n",
       "    }\n",
       "\n",
       "    .dataframe thead th {\n",
       "        text-align: right;\n",
       "    }\n",
       "</style>\n",
       "<table border=\"1\" class=\"dataframe\">\n",
       "  <thead>\n",
       "    <tr style=\"text-align: right;\">\n",
       "      <th></th>\n",
       "      <th>age</th>\n",
       "      <th>sex</th>\n",
       "      <th>job</th>\n",
       "      <th>housing</th>\n",
       "      <th>years</th>\n",
       "      <th>saving_account</th>\n",
       "      <th>checking_account</th>\n",
       "      <th>credit_amount</th>\n",
       "      <th>duration</th>\n",
       "      <th>purpose</th>\n",
       "    </tr>\n",
       "  </thead>\n",
       "  <tbody>\n",
       "    <tr>\n",
       "      <th>0</th>\n",
       "      <td>26</td>\n",
       "      <td>male</td>\n",
       "      <td>2</td>\n",
       "      <td>own</td>\n",
       "      <td>1.000</td>\n",
       "      <td>little</td>\n",
       "      <td>rich</td>\n",
       "      <td>1330</td>\n",
       "      <td>12.000</td>\n",
       "      <td>car</td>\n",
       "    </tr>\n",
       "    <tr>\n",
       "      <th>1</th>\n",
       "      <td>43</td>\n",
       "      <td>male</td>\n",
       "      <td>2</td>\n",
       "      <td>own</td>\n",
       "      <td>2.000</td>\n",
       "      <td>NaN</td>\n",
       "      <td>NaN</td>\n",
       "      <td>2197</td>\n",
       "      <td>24.000</td>\n",
       "      <td>car</td>\n",
       "    </tr>\n",
       "    <tr>\n",
       "      <th>2</th>\n",
       "      <td>28</td>\n",
       "      <td>female</td>\n",
       "      <td>2</td>\n",
       "      <td>rent</td>\n",
       "      <td>1.250</td>\n",
       "      <td>little</td>\n",
       "      <td>little</td>\n",
       "      <td>1403</td>\n",
       "      <td>15.000</td>\n",
       "      <td>car</td>\n",
       "    </tr>\n",
       "    <tr>\n",
       "      <th>3</th>\n",
       "      <td>25</td>\n",
       "      <td>male</td>\n",
       "      <td>0</td>\n",
       "      <td>own</td>\n",
       "      <td>1.500</td>\n",
       "      <td>little</td>\n",
       "      <td>little</td>\n",
       "      <td>2473</td>\n",
       "      <td>18.000</td>\n",
       "      <td>furniture/equipment</td>\n",
       "    </tr>\n",
       "    <tr>\n",
       "      <th>4</th>\n",
       "      <td>29</td>\n",
       "      <td>male</td>\n",
       "      <td>2</td>\n",
       "      <td>rent</td>\n",
       "      <td>0.500</td>\n",
       "      <td>little</td>\n",
       "      <td>NaN</td>\n",
       "      <td>2108</td>\n",
       "      <td>6.000</td>\n",
       "      <td>radio/TV</td>\n",
       "    </tr>\n",
       "    <tr>\n",
       "      <th>...</th>\n",
       "      <td>...</td>\n",
       "      <td>...</td>\n",
       "      <td>...</td>\n",
       "      <td>...</td>\n",
       "      <td>...</td>\n",
       "      <td>...</td>\n",
       "      <td>...</td>\n",
       "      <td>...</td>\n",
       "      <td>...</td>\n",
       "      <td>...</td>\n",
       "    </tr>\n",
       "    <tr>\n",
       "      <th>1502</th>\n",
       "      <td>32</td>\n",
       "      <td>female</td>\n",
       "      <td>1</td>\n",
       "      <td>own</td>\n",
       "      <td>2.000</td>\n",
       "      <td>moderate</td>\n",
       "      <td>little</td>\n",
       "      <td>1282</td>\n",
       "      <td>24.000</td>\n",
       "      <td>radio/TV</td>\n",
       "    </tr>\n",
       "    <tr>\n",
       "      <th>1540</th>\n",
       "      <td>30</td>\n",
       "      <td>female</td>\n",
       "      <td>2</td>\n",
       "      <td>own</td>\n",
       "      <td>1.500</td>\n",
       "      <td>little</td>\n",
       "      <td>NaN</td>\n",
       "      <td>1055</td>\n",
       "      <td>18.000</td>\n",
       "      <td>car</td>\n",
       "    </tr>\n",
       "    <tr>\n",
       "      <th>1551</th>\n",
       "      <td>31</td>\n",
       "      <td>male</td>\n",
       "      <td>3</td>\n",
       "      <td>own</td>\n",
       "      <td>0.750</td>\n",
       "      <td>little</td>\n",
       "      <td>NaN</td>\n",
       "      <td>2406</td>\n",
       "      <td>9.000</td>\n",
       "      <td>furniture/equipment</td>\n",
       "    </tr>\n",
       "    <tr>\n",
       "      <th>1568</th>\n",
       "      <td>30</td>\n",
       "      <td>female</td>\n",
       "      <td>3</td>\n",
       "      <td>own</td>\n",
       "      <td>4.000</td>\n",
       "      <td>little</td>\n",
       "      <td>moderate</td>\n",
       "      <td>5096</td>\n",
       "      <td>48.000</td>\n",
       "      <td>furniture/equipment</td>\n",
       "    </tr>\n",
       "    <tr>\n",
       "      <th>1578</th>\n",
       "      <td>35</td>\n",
       "      <td>male</td>\n",
       "      <td>1</td>\n",
       "      <td>own</td>\n",
       "      <td>2.000</td>\n",
       "      <td>little</td>\n",
       "      <td>NaN</td>\n",
       "      <td>2684</td>\n",
       "      <td>24.000</td>\n",
       "      <td>radio/TV</td>\n",
       "    </tr>\n",
       "  </tbody>\n",
       "</table>\n",
       "<p>551 rows × 10 columns</p>\n",
       "</div>"
      ],
      "text/plain": [
       "      age     sex  job housing  years saving_account checking_account  \\\n",
       "0      26    male    2     own  1.000         little             rich   \n",
       "1      43    male    2     own  2.000            NaN              NaN   \n",
       "2      28  female    2    rent  1.250         little           little   \n",
       "3      25    male    0     own  1.500         little           little   \n",
       "4      29    male    2    rent  0.500         little              NaN   \n",
       "...   ...     ...  ...     ...    ...            ...              ...   \n",
       "1502   32  female    1     own  2.000       moderate           little   \n",
       "1540   30  female    2     own  1.500         little              NaN   \n",
       "1551   31    male    3     own  0.750         little              NaN   \n",
       "1568   30  female    3     own  4.000         little         moderate   \n",
       "1578   35    male    1     own  2.000         little              NaN   \n",
       "\n",
       "      credit_amount  duration              purpose  \n",
       "0              1330    12.000                  car  \n",
       "1              2197    24.000                  car  \n",
       "2              1403    15.000                  car  \n",
       "3              2473    18.000  furniture/equipment  \n",
       "4              2108     6.000             radio/TV  \n",
       "...             ...       ...                  ...  \n",
       "1502           1282    24.000             radio/TV  \n",
       "1540           1055    18.000                  car  \n",
       "1551           2406     9.000  furniture/equipment  \n",
       "1568           5096    48.000  furniture/equipment  \n",
       "1578           2684    24.000             radio/TV  \n",
       "\n",
       "[551 rows x 10 columns]"
      ]
     },
     "execution_count": 14,
     "metadata": {},
     "output_type": "execute_result"
    },
    {
     "data": {
      "text/plain": [
       "0      1.000\n",
       "1      1.000\n",
       "2      1.000\n",
       "3      0.000\n",
       "4        NaN\n",
       "        ... \n",
       "1502   0.000\n",
       "1540   1.000\n",
       "1551   1.000\n",
       "1568   0.000\n",
       "1578   1.000\n",
       "Name: risk, Length: 551, dtype: float64"
      ]
     },
     "execution_count": 14,
     "metadata": {},
     "output_type": "execute_result"
    }
   ],
   "source": [
    "# 3.c. remove_duplicates (optional self testing)\n",
    "# ====>>> YOUR ACTIONS: (optional) IMPLEMENT & RUN \n",
    "file_name_csv = '.' + os.sep + 'data' + os.sep + 'loans_risk_factor_dups.csv'\n",
    "risk_factor_df = load_csv(file_name_csv)\n",
    "df_no_dups = remove_duplicates(risk_factor_df)\n",
    "X, y = decouple_data(df_no_dups)\n",
    "# --- add additional code to check your code if needed:\n",
    "# YOUR CODE HERE\n",
    "X\n",
    "y"
   ]
  },
  {
   "cell_type": "markdown",
   "metadata": {
    "deletable": false,
    "editable": false,
    "nbgrader": {
     "cell_type": "markdown",
     "checksum": "faf5523d5978603a406c3c20c252df93",
     "grade": false,
     "grade_id": "cell-978863e60a66d94c",
     "locked": true,
     "schema_version": 3,
     "solution": false,
     "task": false
    }
   },
   "source": [
    "##### 3.c. decouple_data - GRADED TESTS - Run the following (2) code cells:"
   ]
  },
  {
   "cell_type": "code",
   "execution_count": 15,
   "metadata": {
    "deletable": false,
    "editable": false,
    "nbgrader": {
     "cell_type": "code",
     "checksum": "e413706f8a3477e98cc483b75fbe8bfe",
     "grade": true,
     "grade_id": "test3c_1-decouple_data",
     "locked": true,
     "points": 1,
     "schema_version": 3,
     "solution": false,
     "task": false
    }
   },
   "outputs": [
    {
     "name": "stdout",
     "output_type": "stream",
     "text": [
      "3.c.'decouple_data' - Test 1 (name: test3c_1-decouple_data, points: 1) - Sanity\n"
     ]
    },
    {
     "data": {
      "text/html": [
       "<div>\n",
       "<style scoped>\n",
       "    .dataframe tbody tr th:only-of-type {\n",
       "        vertical-align: middle;\n",
       "    }\n",
       "\n",
       "    .dataframe tbody tr th {\n",
       "        vertical-align: top;\n",
       "    }\n",
       "\n",
       "    .dataframe thead th {\n",
       "        text-align: right;\n",
       "    }\n",
       "</style>\n",
       "<table border=\"1\" class=\"dataframe\">\n",
       "  <thead>\n",
       "    <tr style=\"text-align: right;\">\n",
       "      <th></th>\n",
       "      <th>age</th>\n",
       "      <th>sex</th>\n",
       "      <th>job</th>\n",
       "      <th>housing</th>\n",
       "      <th>years</th>\n",
       "      <th>saving_account</th>\n",
       "      <th>checking_account</th>\n",
       "      <th>credit_amount</th>\n",
       "      <th>duration</th>\n",
       "      <th>purpose</th>\n",
       "    </tr>\n",
       "  </thead>\n",
       "  <tbody>\n",
       "    <tr>\n",
       "      <th>0</th>\n",
       "      <td>26</td>\n",
       "      <td>male</td>\n",
       "      <td>2</td>\n",
       "      <td>own</td>\n",
       "      <td>1.000</td>\n",
       "      <td>little</td>\n",
       "      <td>rich</td>\n",
       "      <td>1330</td>\n",
       "      <td>12.000</td>\n",
       "      <td>car</td>\n",
       "    </tr>\n",
       "    <tr>\n",
       "      <th>1</th>\n",
       "      <td>43</td>\n",
       "      <td>male</td>\n",
       "      <td>2</td>\n",
       "      <td>own</td>\n",
       "      <td>2.000</td>\n",
       "      <td>NaN</td>\n",
       "      <td>NaN</td>\n",
       "      <td>2197</td>\n",
       "      <td>24.000</td>\n",
       "      <td>car</td>\n",
       "    </tr>\n",
       "    <tr>\n",
       "      <th>2</th>\n",
       "      <td>28</td>\n",
       "      <td>female</td>\n",
       "      <td>2</td>\n",
       "      <td>rent</td>\n",
       "      <td>1.250</td>\n",
       "      <td>little</td>\n",
       "      <td>little</td>\n",
       "      <td>1403</td>\n",
       "      <td>15.000</td>\n",
       "      <td>car</td>\n",
       "    </tr>\n",
       "  </tbody>\n",
       "</table>\n",
       "</div>"
      ],
      "text/plain": [
       "   age     sex  job housing  years saving_account checking_account  \\\n",
       "0   26    male    2     own  1.000         little             rich   \n",
       "1   43    male    2     own  2.000            NaN              NaN   \n",
       "2   28  female    2    rent  1.250         little           little   \n",
       "\n",
       "   credit_amount  duration purpose  \n",
       "0           1330    12.000     car  \n",
       "1           2197    24.000     car  \n",
       "2           1403    15.000     car  "
      ]
     },
     "execution_count": 15,
     "metadata": {},
     "output_type": "execute_result"
    },
    {
     "data": {
      "text/plain": [
       "0   1.000\n",
       "1   1.000\n",
       "2   1.000\n",
       "Name: risk, dtype: float64"
      ]
     },
     "execution_count": 15,
     "metadata": {},
     "output_type": "execute_result"
    },
    {
     "name": "stdout",
     "output_type": "stream",
     "text": [
      "Good Job!\n",
      "You've passed the 1st test for the 'decouple_data' function implementation :-)\n"
     ]
    }
   ],
   "source": [
    "# 3.c. decouple_data (graded test)\n",
    "# ====>>> YOUR ACTIONS: RUN ONLY\n",
    "\n",
    "print (\"3.c.'decouple_data' - Test 1 (name: test3c_1-decouple_data, points: 1) - Sanity\")\n",
    "\n",
    "file_name_csv = '.' + os.sep + 'data' + os.sep + 'loans_risk_factor_dups.csv'\n",
    "risk_factor_df = load_csv(file_name_csv)\n",
    "\n",
    "try:\n",
    "    df_no_dups = remove_duplicates(risk_factor_df)\n",
    "    X, y = decouple_data(df_no_dups)\n",
    "    X.head(3)\n",
    "    y.head(3)\n",
    "except Exception as e:\n",
    "    print ('You probably have a syntax or implementation error,  \\nerror Message:',str(e), '\\nTry fixing your code')\n",
    "    raise\n",
    "\n",
    "print (\"Good Job!\\nYou've passed the 1st test for the 'decouple_data' function implementation :-)\")    "
   ]
  },
  {
   "cell_type": "code",
   "execution_count": 16,
   "metadata": {
    "deletable": false,
    "editable": false,
    "nbgrader": {
     "cell_type": "code",
     "checksum": "86d50f4c3b15545bbae3b54664f381b9",
     "grade": true,
     "grade_id": "test3c_2-decouple_data",
     "locked": true,
     "points": 1.5,
     "schema_version": 3,
     "solution": false,
     "task": false
    }
   },
   "outputs": [
    {
     "name": "stdout",
     "output_type": "stream",
     "text": [
      "3.c.'decouple_data' - Test 2 (name: test3c_2-decouple_data, points: 1.5)\n",
      "Good Job!\n",
      "You've passed the 2nd test for the 'decouple_data' function implementation :-)\n"
     ]
    }
   ],
   "source": [
    "# 3.c. decouple_data (graded test)\n",
    "# ====>>> YOUR ACTIONS: RUN ONLY\n",
    "\n",
    "print (\"3.c.'decouple_data' - Test 2 (name: test3c_2-decouple_data, points: 1.5)\")\n",
    "\n",
    "file_name_csv = '.' + os.sep + 'data' + os.sep + 'loans_risk_factor_dups.csv'\n",
    "risk_factor_df = load_csv(file_name_csv)\n",
    "\n",
    "try:\n",
    "    df_no_dups = remove_duplicates(risk_factor_df)\n",
    "    X, y = decouple_data(df_no_dups)\n",
    "except Exception as e:\n",
    "    print ('You probably have a syntax or implementation error,  \\nerror Message:',str(e), '\\nTry fixing your code')\n",
    "    raise\n",
    "\n",
    "assert (551, 10) == X.shape and 551 == y.shape[0], \"Wrong shape for feature vector dataframe or target series frame after 'decouple_data'\"\n",
    "\n",
    "print (\"Good Job!\\nYou've passed the 2nd test for the 'decouple_data' function implementation :-)\")    "
   ]
  },
  {
   "cell_type": "code",
   "execution_count": 17,
   "metadata": {
    "deletable": false,
    "editable": false,
    "nbgrader": {
     "cell_type": "code",
     "checksum": "80dd6a65de50ae046bace0fa2f93fc11",
     "grade": true,
     "grade_id": "test3c_3-decouple_data",
     "locked": true,
     "points": 1.5,
     "schema_version": 3,
     "solution": false,
     "task": false
    }
   },
   "outputs": [
    {
     "name": "stdout",
     "output_type": "stream",
     "text": [
      "3.c.'decouple_data' - Test 3 (name: test3c_3-decouple_data, points: 1.5)\n",
      "Good Job!\n",
      "You've passed the 3rd test for the 'decouple_data' function implementation :-)\n"
     ]
    }
   ],
   "source": [
    "# 3.c. decouple_data (graded test)\n",
    "# ====>>> YOUR ACTIONS: RUN ONLY\n",
    "\n",
    "print (\"3.c.'decouple_data' - Test 3 (name: test3c_3-decouple_data, points: 1.5)\")\n",
    "\n",
    "file_name_csv = '.' + os.sep + 'data' + os.sep + 'loans_risk_factor_dups.csv'\n",
    "risk_factor_df = load_csv(file_name_csv)\n",
    "\n",
    "try:\n",
    "    df_no_dups = remove_duplicates(risk_factor_df)\n",
    "    X, y = decouple_data(df_no_dups)\n",
    "except Exception as e:\n",
    "    print ('You probably have a syntax or implementation error,  \\nerror Message:',str(e), '\\nTry fixing your code')\n",
    "    raise\n",
    "\n",
    "np.testing.assert_array_equal(X.index, y.index, 'X dataframe and y series should have the same index')\n",
    "\n",
    "print (\"Good Job!\\nYou've passed the 3rd test for the 'decouple_data' function implementation :-)\")    "
   ]
  },
  {
   "cell_type": "markdown",
   "metadata": {
    "deletable": false,
    "editable": false,
    "id": "7t5UUDmknzPr",
    "nbgrader": {
     "cell_type": "markdown",
     "checksum": "c24adf3128284dcf3c86b62d94ce218c",
     "grade": false,
     "grade_id": "cell-24e9571792e1d0c2",
     "locked": true,
     "schema_version": 3,
     "solution": false,
     "task": false
    }
   },
   "source": [
    "#### 3.d. Train Test Split - **4 Points**\n",
    "\n",
    "<u>method name</u>: <b>split_data</b><br/>\n",
    "\n",
    "<hr>\n",
    "\n",
    "<u>dependency</u>: <br/>\n",
    "* <b>remove_duplicates</b></br> \n",
    "* <b>decouple_data</b></br> \n",
    "\n",
    "<hr>\n",
    "\n",
    "<pre>\n",
    "Complete the following function to split the data to train and test while allocating \n",
    "20% to the test set with the random state 42 and the flag shuffle=False\n",
    "\n",
    "------------\n",
    "input parameters:\n",
    "- X - \"loan risk factor\" dataset's feature vectors\n",
    "- y - \"loan risk factor\" dataset's labels\n",
    "------------\n",
    "The return statement should look like the following:\n",
    "return X_train, X_test, y_train, y_test\n",
    "</pre>  "
   ]
  },
  {
   "cell_type": "markdown",
   "metadata": {
    "deletable": false,
    "editable": false,
    "nbgrader": {
     "cell_type": "markdown",
     "checksum": "467a85a62e5a6ff24208edb5662de8c2",
     "grade": false,
     "grade_id": "cell-498990b4f323b2e3",
     "locked": true,
     "schema_version": 3,
     "solution": false,
     "task": false
    }
   },
   "source": [
    "#### 3.d. Train Test Split - Implement and Run the following code cell:"
   ]
  },
  {
   "cell_type": "code",
   "execution_count": 18,
   "metadata": {
    "deletable": false,
    "id": "wPInlGuTn6f_",
    "nbgrader": {
     "cell_type": "code",
     "checksum": "9fce5b86a86b11846c68e668b097e261",
     "grade": false,
     "grade_id": "solution3d-split_data",
     "locked": false,
     "schema_version": 3,
     "solution": true,
     "task": false
    }
   },
   "outputs": [],
   "source": [
    "# 3.d. split_data (your solution)\n",
    "# ====>>> YOUR ACTIONS: IMPLEMENT & RUN\n",
    "\n",
    "def split_data(X, y):\n",
    "    # YOUR CODE HERE\n",
    "    X_train , X_test, y_train, y_test = train_test_split(X, y, test_size = 0.2, random_state=42, shuffle= False)\n",
    "    return X_train, X_test, y_train, y_test\n"
   ]
  },
  {
   "cell_type": "markdown",
   "metadata": {
    "deletable": false,
    "editable": false,
    "nbgrader": {
     "cell_type": "markdown",
     "checksum": "a88217884c151a738b1aaa6212634489",
     "grade": false,
     "grade_id": "cell-c9aef7e71552699b",
     "locked": true,
     "schema_version": 3,
     "solution": false,
     "task": false
    }
   },
   "source": [
    "##### 3.d. split_data - OPTIONAL SELF TEST - Implement & Run the following code cell (IF NEEDED):"
   ]
  },
  {
   "cell_type": "code",
   "execution_count": 19,
   "metadata": {
    "colab": {
     "base_uri": "https://localhost:8080/"
    },
    "deletable": false,
    "id": "eEBy_YamoCOS",
    "nbgrader": {
     "cell_type": "code",
     "checksum": "b4ce1ea62b1830aa51d7854122484fa4",
     "grade": false,
     "grade_id": "self_test3d-split_data",
     "locked": false,
     "schema_version": 3,
     "solution": true,
     "task": false
    },
    "outputId": "c9b85f2e-bc83-4ea6-ad24-02b69c9fd1d0"
   },
   "outputs": [],
   "source": [
    "# 3.d. split_data (optional self testing)\n",
    "# ====>>> YOUR ACTIONS: (optional) IMPLEMENT & RUN \n",
    "file_name_csv = '.' + os.sep + 'data' + os.sep + 'loans_risk_factor_dups.csv'\n",
    "risk_factor_df = load_csv(file_name_csv)\n",
    "df_no_dups = remove_duplicates(risk_factor_df)\n",
    "X, y = decouple_data(df_no_dups)\n",
    "X_train, X_test, y_train, y_test = split_data(X, y)\n",
    "# --- add additional code to check your code if needed:\n",
    "# YOUR CODE HERE\n"
   ]
  },
  {
   "cell_type": "markdown",
   "metadata": {
    "deletable": false,
    "editable": false,
    "nbgrader": {
     "cell_type": "markdown",
     "checksum": "537f927c2ffe149feb99c42a912b76f8",
     "grade": false,
     "grade_id": "cell-ea66b5bb495511db",
     "locked": true,
     "schema_version": 3,
     "solution": false,
     "task": false
    }
   },
   "source": [
    "##### 3.d. split_data - GRADED TESTS - Run the following (2) code cells:"
   ]
  },
  {
   "cell_type": "code",
   "execution_count": 20,
   "metadata": {
    "deletable": false,
    "editable": false,
    "nbgrader": {
     "cell_type": "code",
     "checksum": "42926308f0b5a4273e0544f12d646ee9",
     "grade": true,
     "grade_id": "test3d_1-split_data",
     "locked": true,
     "points": 1,
     "schema_version": 3,
     "solution": false,
     "task": false
    }
   },
   "outputs": [
    {
     "name": "stdout",
     "output_type": "stream",
     "text": [
      "3.d.'decouple_data' - Test 1 (name: test3d_1-split_data, points: 1) - Sanity\n"
     ]
    },
    {
     "data": {
      "text/html": [
       "<div>\n",
       "<style scoped>\n",
       "    .dataframe tbody tr th:only-of-type {\n",
       "        vertical-align: middle;\n",
       "    }\n",
       "\n",
       "    .dataframe tbody tr th {\n",
       "        vertical-align: top;\n",
       "    }\n",
       "\n",
       "    .dataframe thead th {\n",
       "        text-align: right;\n",
       "    }\n",
       "</style>\n",
       "<table border=\"1\" class=\"dataframe\">\n",
       "  <thead>\n",
       "    <tr style=\"text-align: right;\">\n",
       "      <th></th>\n",
       "      <th>age</th>\n",
       "      <th>sex</th>\n",
       "      <th>job</th>\n",
       "      <th>housing</th>\n",
       "      <th>years</th>\n",
       "      <th>saving_account</th>\n",
       "      <th>checking_account</th>\n",
       "      <th>credit_amount</th>\n",
       "      <th>duration</th>\n",
       "      <th>purpose</th>\n",
       "    </tr>\n",
       "  </thead>\n",
       "  <tbody>\n",
       "    <tr>\n",
       "      <th>0</th>\n",
       "      <td>26</td>\n",
       "      <td>male</td>\n",
       "      <td>2</td>\n",
       "      <td>own</td>\n",
       "      <td>1.000</td>\n",
       "      <td>little</td>\n",
       "      <td>rich</td>\n",
       "      <td>1330</td>\n",
       "      <td>12.000</td>\n",
       "      <td>car</td>\n",
       "    </tr>\n",
       "    <tr>\n",
       "      <th>1</th>\n",
       "      <td>43</td>\n",
       "      <td>male</td>\n",
       "      <td>2</td>\n",
       "      <td>own</td>\n",
       "      <td>2.000</td>\n",
       "      <td>NaN</td>\n",
       "      <td>NaN</td>\n",
       "      <td>2197</td>\n",
       "      <td>24.000</td>\n",
       "      <td>car</td>\n",
       "    </tr>\n",
       "  </tbody>\n",
       "</table>\n",
       "</div>"
      ],
      "text/plain": [
       "   age   sex  job housing  years saving_account checking_account  \\\n",
       "0   26  male    2     own  1.000         little             rich   \n",
       "1   43  male    2     own  2.000            NaN              NaN   \n",
       "\n",
       "   credit_amount  duration purpose  \n",
       "0           1330    12.000     car  \n",
       "1           2197    24.000     car  "
      ]
     },
     "execution_count": 20,
     "metadata": {},
     "output_type": "execute_result"
    },
    {
     "data": {
      "text/plain": [
       "0   1.000\n",
       "1   1.000\n",
       "Name: risk, dtype: float64"
      ]
     },
     "execution_count": 20,
     "metadata": {},
     "output_type": "execute_result"
    },
    {
     "data": {
      "text/html": [
       "<div>\n",
       "<style scoped>\n",
       "    .dataframe tbody tr th:only-of-type {\n",
       "        vertical-align: middle;\n",
       "    }\n",
       "\n",
       "    .dataframe tbody tr th {\n",
       "        vertical-align: top;\n",
       "    }\n",
       "\n",
       "    .dataframe thead th {\n",
       "        text-align: right;\n",
       "    }\n",
       "</style>\n",
       "<table border=\"1\" class=\"dataframe\">\n",
       "  <thead>\n",
       "    <tr style=\"text-align: right;\">\n",
       "      <th></th>\n",
       "      <th>age</th>\n",
       "      <th>sex</th>\n",
       "      <th>job</th>\n",
       "      <th>housing</th>\n",
       "      <th>years</th>\n",
       "      <th>saving_account</th>\n",
       "      <th>checking_account</th>\n",
       "      <th>credit_amount</th>\n",
       "      <th>duration</th>\n",
       "      <th>purpose</th>\n",
       "    </tr>\n",
       "  </thead>\n",
       "  <tbody>\n",
       "    <tr>\n",
       "      <th>825</th>\n",
       "      <td>60</td>\n",
       "      <td>male</td>\n",
       "      <td>1</td>\n",
       "      <td>own</td>\n",
       "      <td>2.000</td>\n",
       "      <td>little</td>\n",
       "      <td>little</td>\n",
       "      <td>1199</td>\n",
       "      <td>24.000</td>\n",
       "      <td>car</td>\n",
       "    </tr>\n",
       "    <tr>\n",
       "      <th>831</th>\n",
       "      <td>36</td>\n",
       "      <td>female</td>\n",
       "      <td>2</td>\n",
       "      <td>own</td>\n",
       "      <td>1.500</td>\n",
       "      <td>little</td>\n",
       "      <td>NaN</td>\n",
       "      <td>1028</td>\n",
       "      <td>18.000</td>\n",
       "      <td>car</td>\n",
       "    </tr>\n",
       "  </tbody>\n",
       "</table>\n",
       "</div>"
      ],
      "text/plain": [
       "     age     sex  job housing  years saving_account checking_account  \\\n",
       "825   60    male    1     own  2.000         little           little   \n",
       "831   36  female    2     own  1.500         little              NaN   \n",
       "\n",
       "     credit_amount  duration purpose  \n",
       "825           1199    24.000     car  \n",
       "831           1028    18.000     car  "
      ]
     },
     "execution_count": 20,
     "metadata": {},
     "output_type": "execute_result"
    },
    {
     "data": {
      "text/plain": [
       "825   0.000\n",
       "831   1.000\n",
       "Name: risk, dtype: float64"
      ]
     },
     "execution_count": 20,
     "metadata": {},
     "output_type": "execute_result"
    },
    {
     "name": "stdout",
     "output_type": "stream",
     "text": [
      "Good Job!\n",
      "You've passed the 1st test for the 'split_data' function implementation :-)\n"
     ]
    }
   ],
   "source": [
    "# 3.d. split_data (graded test)\n",
    "# ====>>> YOUR ACTIONS: RUN ONLY\n",
    "\n",
    "print (\"3.d.'decouple_data' - Test 1 (name: test3d_1-split_data, points: 1) - Sanity\")\n",
    "\n",
    "file_name_csv = '.' + os.sep + 'data' + os.sep + 'loans_risk_factor_dups.csv'\n",
    "risk_factor_df = load_csv(file_name_csv)\n",
    "\n",
    "try:    \n",
    "    df_no_dups = remove_duplicates(risk_factor_df)\n",
    "    X, y = decouple_data(df_no_dups)\n",
    "    X_train, X_test, y_train, y_test = split_data(X, y)\n",
    "    X_train.head(2)\n",
    "    y_train.head(2)\n",
    "    X_test.head(2)\n",
    "    y_test.head(2)\n",
    "except Exception as e:\n",
    "    print ('You probably have a syntax or implementation error,  \\nerror Message:',str(e), '\\nTry fixing your code')\n",
    "    raise\n",
    "\n",
    "print (\"Good Job!\\nYou've passed the 1st test for the 'split_data' function implementation :-)\")    "
   ]
  },
  {
   "cell_type": "code",
   "execution_count": 21,
   "metadata": {
    "deletable": false,
    "editable": false,
    "nbgrader": {
     "cell_type": "code",
     "checksum": "cd5a7ca4671b3ba7e45092f0e624a082",
     "grade": true,
     "grade_id": "test3d_2-split_data",
     "locked": true,
     "points": 1.5,
     "schema_version": 3,
     "solution": false,
     "task": false
    }
   },
   "outputs": [
    {
     "name": "stdout",
     "output_type": "stream",
     "text": [
      "3.d.'split_data' - Test 2 (name: test3d_2-split_data, points: 1.5)\n",
      "Good Job!\n",
      "You've passed the 2nd test for the 'split_data' function implementation :-)\n"
     ]
    }
   ],
   "source": [
    "# 3.d. split_data (graded test)\n",
    "# ====>>> YOUR ACTIONS: RUN ONLY\n",
    "\n",
    "print (\"3.d.'split_data' - Test 2 (name: test3d_2-split_data, points: 1.5)\")\n",
    "\n",
    "file_name_csv = '.' + os.sep + 'data' + os.sep + 'loans_risk_factor_dups.csv'\n",
    "risk_factor_df = load_csv(file_name_csv)\n",
    "\n",
    "try:    \n",
    "    df_no_dups = remove_duplicates(risk_factor_df)\n",
    "    X, y = decouple_data(df_no_dups)\n",
    "    X_train, X_test, y_train, y_test = split_data(X, y)\n",
    "except Exception as e:\n",
    "    print ('You probably have a syntax or implementation error,  \\nerror Message:',str(e), '\\nTry fixing your code')\n",
    "    raise\n",
    "    \n",
    "assert (440, 10) == X_train.shape and (111,10) == X_test.shape, \"Wrong shape for feature vectors dataframe X_train or X_test after 'split_data'\"\n",
    "assert 440 == y_train.shape[0] and 111 == y_test.shape[0], \"Wrong shape for target series y_train or y_test after 'split_data'\"\n",
    "\n",
    "print (\"Good Job!\\nYou've passed the 2nd test for the 'split_data' function implementation :-)\")    "
   ]
  },
  {
   "cell_type": "code",
   "execution_count": 22,
   "metadata": {
    "deletable": false,
    "editable": false,
    "nbgrader": {
     "cell_type": "code",
     "checksum": "2f35c9d69ff2fc1c39e5e9df64722e74",
     "grade": true,
     "grade_id": "test3d_3-split_data",
     "locked": true,
     "points": 1.5,
     "schema_version": 3,
     "solution": false,
     "task": false
    }
   },
   "outputs": [
    {
     "name": "stdout",
     "output_type": "stream",
     "text": [
      "3.d.'split_data' - Test 3 (name: test3d_3-split_data, points: 1.5)\n",
      "Good Job!\n",
      "You've passed the 3rd test for the 'split_data' function implementation :-)\n"
     ]
    }
   ],
   "source": [
    "# 3.d. split_data (graded test)\n",
    "# ====>>> YOUR ACTIONS: RUN ONLY\n",
    "\n",
    "print (\"3.d.'split_data' - Test 3 (name: test3d_3-split_data, points: 1.5)\")\n",
    "\n",
    "file_name_csv = '.' + os.sep + 'data' + os.sep + 'loans_risk_factor_dups.csv'\n",
    "risk_factor_df = load_csv(file_name_csv)\n",
    "\n",
    "try:    \n",
    "    df_no_dups = remove_duplicates(risk_factor_df)\n",
    "    X, y = decouple_data(df_no_dups)\n",
    "    X_train, X_test, y_train, y_test = split_data(X, y)\n",
    "except Exception as e:\n",
    "    print ('You probably have a syntax or implementation error,  \\nerror Message:',str(e), '\\nTry fixing your code')\n",
    "    raise\n",
    "\n",
    "np.testing.assert_array_compare(operator.__ne__, X_train.iloc[:10].index, X_test.iloc[:10].index, \"X_train and X_test dataframes should not have the same index after 'split_data'\")\n",
    "\n",
    "np.testing.assert_array_equal(X_train.index, y_train.index, \"X_train dataframe and y_train series should have the same index after 'split_data'\")    \n",
    "np.testing.assert_array_equal(X_test.index, y_test.index, \"X_test dataframe and y_test series should have the same index after 'split_data'\")    \n",
    "\n",
    "print (\"Good Job!\\nYou've passed the 3rd test for the 'split_data' function implementation :-)\")    "
   ]
  },
  {
   "cell_type": "markdown",
   "metadata": {
    "deletable": false,
    "editable": false,
    "id": "WJnpEOZ29I2p",
    "nbgrader": {
     "cell_type": "markdown",
     "checksum": "9e0d285113cb8278d62809c82ebeddb2",
     "grade": false,
     "grade_id": "cell-5b609c65be9ac696",
     "locked": true,
     "schema_version": 3,
     "solution": false,
     "task": false
    }
   },
   "source": [
    "#### 3.e. Missing Values Handling - **8 Points**\n",
    "\n",
    "<u>method name</u>: <b>handle_missing_values</b><br/>\n",
    "\n",
    "<hr>\n",
    "\n",
    "<u>dependency</u>: <br/>\n",
    "* <b>remove_duplicates</b></br> \n",
    "* <b>decouple_data</b></br> \n",
    "* <b>split_data</b></br> \n",
    "\n",
    "<hr>\n",
    "\n",
    "<pre>\n",
    "Complete the following function to handle missing values in the dataset as follows (in this order):    \n",
    "1. Replace missing values in \"saving_account\" and \"checking_account\" columns \n",
    "  with the most frequent values in these columns\n",
    "2. Replace missing values in \"credit_amount\" with the median\n",
    "3. Replace missing values in \"years\" with the average\n",
    "3. Replace missing values in \"duration\" with the average\n",
    "4. Delete Rows with missing values in \"risk\" column\n",
    "5. Return the datasets after implementing these steps\n",
    "\n",
    "*make sure to handle the missing values in test set based on the train set's statistics*\n",
    "\n",
    "------------\n",
    "input parameters:\n",
    "- X_train - \"loan risk factor\" train dataset's feature vectors\n",
    "- X_test - \"loan risk factor\" test dataset's feature vectors\n",
    "- y_train - \"loan risk factor\" train dataset's labels\n",
    "- y_test - \"loan risk factor\" test dataset's labels\n",
    "------------\n",
    "The return statement should look like the following:\n",
    "return X_train, X_test, y_train, y_test\n",
    "</pre>  \n"
   ]
  },
  {
   "cell_type": "markdown",
   "metadata": {
    "deletable": false,
    "editable": false,
    "nbgrader": {
     "cell_type": "markdown",
     "checksum": "ed134e183f3d26e4c7672f6ce772fe3a",
     "grade": false,
     "grade_id": "cell-003ed2569642280f",
     "locked": true,
     "schema_version": 3,
     "solution": false,
     "task": false
    }
   },
   "source": [
    "#### 3.e. Missing Values Handling - Implement and Run the following code cell:"
   ]
  },
  {
   "cell_type": "code",
   "execution_count": 23,
   "metadata": {
    "deletable": false,
    "id": "eBn3CsSKAFgJ",
    "nbgrader": {
     "cell_type": "code",
     "checksum": "45eb4844a6012b748934b2eedb3e8d01",
     "grade": false,
     "grade_id": "solution3e-handle_missing_values",
     "locked": false,
     "schema_version": 3,
     "solution": true,
     "task": false
    }
   },
   "outputs": [],
   "source": [
    "# 3.e. handle_missing_values (your solution)\n",
    "# ====>>> YOUR ACTIONS: IMPLEMENT & RUN\n",
    "\n",
    "def handle_missing_values(X_train, X_test, y_train, y_test):\n",
    "    # YOUR CODE HERE\n",
    "    \n",
    "    #question 1:\n",
    "    sa_x_mode_train = X_train[\"saving_account\"].mode() #extracting mode in X_train saving_account\n",
    "    \n",
    "    X_train.saving_account.fillna(sa_x_mode_train[0], inplace =True)\n",
    "    X_test.saving_account.fillna(sa_x_mode_train[0], inplace =True)\n",
    "    \n",
    "    ca_x_mode_train = X_train[\"checking_account\"].mode() #extracting mode in X_train checking_account\n",
    "    \n",
    "    X_train.checking_account.fillna(ca_x_mode_train[0], inplace =True)\n",
    "    X_test.checking_account.fillna(ca_x_mode_train[0], inplace =True)\n",
    "    \n",
    "    #question 2:\n",
    "    X_train.credit_amount.fillna(X_train[\"credit_amount\"].median(), inplace = True) #replacing nan with median\n",
    "    X_test.credit_amount.fillna(X_train[\"credit_amount\"].median(), inplace = True) #replacing nan with median\n",
    "    \n",
    "    #question 3:\n",
    "    X_train.years.fillna(X_train[\"years\"].mean(), inplace = True) #replacing nan with mean\n",
    "    X_test.years.fillna(X_train[\"years\"].mean(), inplace = True) #replacing nan with mean\n",
    "    \n",
    "    X_train.duration.fillna(X_train[\"duration\"].mean(), inplace = True) #replacing nan with mean\n",
    "    X_test.duration.fillna(X_train[\"duration\"].mean(), inplace = True) #replacing nan with mean\n",
    "    \n",
    "    #question 4:\n",
    "    concated_xy_train = pd.concat([X_train, pd.DataFrame(y_train)], axis = 1) \n",
    "    concated_xy_test = pd.concat([X_test, pd.DataFrame(y_test)], axis = 1)  #concating between the both to handle removal of rows\n",
    "    concated_xy_train.dropna(axis = 0, subset = \"risk\" , inplace = True)\n",
    "    concated_xy_test.dropna(axis = 0, subset = \"risk\", inplace =True) #removing all the missing nan from risk row\n",
    "    \n",
    "    y_train = concated_xy_train[\"risk\"] #decoupling between x_train and y_train\n",
    "    del concated_xy_train[\"risk\"]\n",
    "    X_train = concated_xy_train\n",
    "    \n",
    "    y_test = concated_xy_test[\"risk\"] #decoupling between x_test and y_test\n",
    "    del concated_xy_test[\"risk\"]\n",
    "    X_test = concated_xy_test\n",
    "    return X_train, X_test, y_train, y_test"
   ]
  },
  {
   "cell_type": "markdown",
   "metadata": {
    "deletable": false,
    "editable": false,
    "nbgrader": {
     "cell_type": "markdown",
     "checksum": "a3577be47eb93a09dd22598ce9a3a0e9",
     "grade": false,
     "grade_id": "cell-46e66de3e71efd79",
     "locked": true,
     "schema_version": 3,
     "solution": false,
     "task": false
    }
   },
   "source": [
    "##### 3.e. handle_missing_values - OPTIONAL SELF TEST - Implement & Run the following code cell (IF NEEDED):"
   ]
  },
  {
   "cell_type": "code",
   "execution_count": 24,
   "metadata": {
    "colab": {
     "base_uri": "https://localhost:8080/"
    },
    "deletable": false,
    "id": "w4cyCYpouHwq",
    "nbgrader": {
     "cell_type": "code",
     "checksum": "d063e70ff46700d3325c963b634e04e5",
     "grade": false,
     "grade_id": "self_test3e-handle_missing_values",
     "locked": false,
     "schema_version": 3,
     "solution": true,
     "task": false
    },
    "outputId": "f7a90a26-473c-4ae5-f5e2-768458077c62"
   },
   "outputs": [
    {
     "data": {
      "text/plain": [
       "(111, 10)"
      ]
     },
     "execution_count": 24,
     "metadata": {},
     "output_type": "execute_result"
    }
   ],
   "source": [
    "# 3.e. handle_missing_values (optional self testing)\n",
    "# ====>>> YOUR ACTIONS: (optional) IMPLEMENT & RUN \n",
    "file_name_csv = '.' + os.sep + 'data' + os.sep + 'loans_risk_factor_dups.csv'\n",
    "risk_factor_df = load_csv(file_name_csv)\n",
    "df_no_dups = remove_duplicates(risk_factor_df)\n",
    "X, y = decouple_data(df_no_dups)\n",
    "X_train_with_missing, X_test_with_missing, y_train_with_missing, y_test_with_missing = split_data(X, y)\n",
    "X_train, X_test, y_train, y_test = handle_missing_values(X_train_with_missing, X_test_with_missing, y_train_with_missing, y_test_with_missing)\n",
    "# --- add additional code to check your code if needed:\n",
    "# YOUR CODE HERE\n",
    "X_test.shape"
   ]
  },
  {
   "cell_type": "markdown",
   "metadata": {
    "deletable": false,
    "editable": false,
    "nbgrader": {
     "cell_type": "markdown",
     "checksum": "a30187c433d25c3473672ed8e46cd164",
     "grade": false,
     "grade_id": "cell-71fbb9fe191f8461",
     "locked": true,
     "schema_version": 3,
     "solution": false,
     "task": false
    }
   },
   "source": [
    "##### 3.e. handle_missing_values - GRADED TESTS - Run the following (2) code cells:"
   ]
  },
  {
   "cell_type": "code",
   "execution_count": 25,
   "metadata": {
    "deletable": false,
    "editable": false,
    "nbgrader": {
     "cell_type": "code",
     "checksum": "2e3417fb339470f910fd40c4b9c6dcd9",
     "grade": true,
     "grade_id": "test3e_1-handle_missing_values",
     "locked": true,
     "points": 1,
     "schema_version": 3,
     "solution": false,
     "task": false
    }
   },
   "outputs": [
    {
     "name": "stdout",
     "output_type": "stream",
     "text": [
      "3.e.'handle_missing_values' - Test 1 (name: test3e_1-handle_missing_values, points: 1) - Sanity\n",
      "Good Job!\n",
      "You've passed the 1st test for the 'handle_missing_values' function implementation :-)\n"
     ]
    }
   ],
   "source": [
    "# 3.e. handle_missing_values (graded test)\n",
    "# ====>>> YOUR ACTIONS: RUN ONLY\n",
    "\n",
    "print (\"3.e.'handle_missing_values' - Test 1 (name: test3e_1-handle_missing_values, points: 1) - Sanity\")\n",
    "\n",
    "file_name_csv = '.' + os.sep + 'data' + os.sep + 'loans_risk_factor_dups.csv'\n",
    "risk_factor_df = load_csv(file_name_csv)\n",
    "\n",
    "try:    \n",
    "    df_no_dups = remove_duplicates(risk_factor_df)\n",
    "    X, y = decouple_data(df_no_dups)\n",
    "    X_train_with_missing, X_test_with_missing, y_train_with_missing, y_test_with_missing = split_data(X, y)\n",
    "    X_train, X_test, y_train, y_test = handle_missing_values(X_train_with_missing, X_test_with_missing, y_train_with_missing, y_test_with_missing)\n",
    "except Exception as e:\n",
    "    print ('You probably have a syntax or implementation error,  \\nerror Message:',str(e), '\\nTry fixing your code')\n",
    "    raise\n",
    "\n",
    "print (\"Good Job!\\nYou've passed the 1st test for the 'handle_missing_values' function implementation :-)\")    "
   ]
  },
  {
   "cell_type": "code",
   "execution_count": 26,
   "metadata": {
    "deletable": false,
    "editable": false,
    "nbgrader": {
     "cell_type": "code",
     "checksum": "e7d2003026966ca4449f9830006bde5e",
     "grade": true,
     "grade_id": "test3e_2-handle_missing_values",
     "locked": true,
     "points": 2,
     "schema_version": 3,
     "solution": false,
     "task": false
    }
   },
   "outputs": [
    {
     "name": "stdout",
     "output_type": "stream",
     "text": [
      "3.e.'handle_missing_values' - Test 2 (name: test3e_2-handle_missing_values, points: 2)\n",
      "Good Job!\n",
      "You've passed the 2nd test for the 'handle_missing_values' function implementation :-)\n"
     ]
    }
   ],
   "source": [
    "# 3.e. handle_missing_values (graded test)\n",
    "# ====>>> YOUR ACTIONS: RUN ONLY\n",
    "\n",
    "print (\"3.e.'handle_missing_values' - Test 2 (name: test3e_2-handle_missing_values, points: 2)\")\n",
    "\n",
    "file_name_csv = '.' + os.sep + 'data' + os.sep + 'loans_risk_factor_dups.csv'\n",
    "risk_factor_df = load_csv(file_name_csv)\n",
    "\n",
    "try:    \n",
    "    df_no_dups = remove_duplicates(risk_factor_df)\n",
    "    X, y = decouple_data(df_no_dups)\n",
    "    X_train_with_missing, X_test_with_missing, y_train_with_missing, y_test_with_missing = split_data(X, y)\n",
    "    X_train, X_test, y_train, y_test = handle_missing_values(X_train_with_missing, X_test_with_missing, y_train_with_missing, y_test_with_missing)\n",
    "except Exception as e:\n",
    "    print ('You probably have a syntax or implementation error,  \\nerror Message:',str(e), '\\nTry fixing your code')\n",
    "    raise\n",
    "\n",
    "assert (432, 10) == X_train.shape and (111,10) == X_test.shape, \"Wrong shape for feature vectors dataframe X_train or X_test after 'handle_missing_values'\"\n",
    "assert 432 == y_train.shape[0] and 111 == y_test.shape[0], \"Wrong shape for target series y_train or y_test after 'handle_missing_values'\"\n",
    "\n",
    "print (\"Good Job!\\nYou've passed the 2nd test for the 'handle_missing_values' function implementation :-)\")    "
   ]
  },
  {
   "cell_type": "code",
   "execution_count": 27,
   "metadata": {
    "deletable": false,
    "editable": false,
    "nbgrader": {
     "cell_type": "code",
     "checksum": "06e211ac589beade5ecec15ce94f0f70",
     "grade": true,
     "grade_id": "test3e_3-handle_missing_values",
     "locked": true,
     "points": 2,
     "schema_version": 3,
     "solution": false,
     "task": false
    }
   },
   "outputs": [
    {
     "name": "stdout",
     "output_type": "stream",
     "text": [
      "3.e.'handle_missing_values' - Test 3 (name: test3e_3-handle_missing_values, points: 2)\n",
      "Good Job!\n",
      "You've passed the 3rd test for the 'handle_missing_values' function implementation :-)\n"
     ]
    }
   ],
   "source": [
    "# 3.e. handle_missing_values (graded test)\n",
    "# ====>>> YOUR ACTIONS: RUN ONLY\n",
    "\n",
    "print (\"3.e.'handle_missing_values' - Test 3 (name: test3e_3-handle_missing_values, points: 2)\")\n",
    "\n",
    "file_name_csv = '.' + os.sep + 'data' + os.sep + 'loans_risk_factor_dups.csv'\n",
    "risk_factor_df = load_csv(file_name_csv)\n",
    "\n",
    "try:    \n",
    "    df_no_dups = remove_duplicates(risk_factor_df)\n",
    "    X, y = decouple_data(df_no_dups)\n",
    "    X_train_with_missing, X_test_with_missing, y_train_with_missing, y_test_with_missing = split_data(X, y)\n",
    "    X_train, X_test, y_train, y_test = handle_missing_values(X_train_with_missing, X_test_with_missing, y_train_with_missing, y_test_with_missing)\n",
    "except Exception as e:\n",
    "    print ('You probably have a syntax or implementation error,  \\nerror Message:',str(e), '\\nTry fixing your code')\n",
    "    raise\n",
    "\n",
    "np.testing.assert_array_equal(X_train.index, y_train.index, \"X_train dataframe and y_train series should have the same index after 'handle_missing_values'\")    \n",
    "\n",
    "print (\"Good Job!\\nYou've passed the 3rd test for the 'handle_missing_values' function implementation :-)\")    "
   ]
  },
  {
   "cell_type": "code",
   "execution_count": 28,
   "metadata": {
    "deletable": false,
    "editable": false,
    "nbgrader": {
     "cell_type": "code",
     "checksum": "09926c5f485c0785fb264c478e2d8a2d",
     "grade": true,
     "grade_id": "test3e_4-handle_missing_values",
     "locked": true,
     "points": 3,
     "schema_version": 3,
     "solution": false,
     "task": false
    }
   },
   "outputs": [
    {
     "name": "stdout",
     "output_type": "stream",
     "text": [
      "3.e.'handle_missing_values' - Test 4 (name: test3e_4-handle_missing_values, points: 3)\n",
      "Good Job!\n",
      "You've passed the 4th test for the 'handle_missing_values' function implementation :-)\n"
     ]
    }
   ],
   "source": [
    "# 3.e. handle_missing_values (graded test)\n",
    "# ====>>> YOUR ACTIONS: RUN ONLY\n",
    "\n",
    "print (\"3.e.'handle_missing_values' - Test 4 (name: test3e_4-handle_missing_values, points: 3)\")\n",
    "\n",
    "file_name_csv = '.' + os.sep + 'data' + os.sep + 'loans_risk_factor_dups.csv'\n",
    "risk_factor_df = load_csv(file_name_csv)\n",
    "\n",
    "try:    \n",
    "    df_no_dups = remove_duplicates(risk_factor_df)\n",
    "    X, y = decouple_data(df_no_dups)\n",
    "    X_train_with_missing, X_test_with_missing, y_train_with_missing, y_test_with_missing = split_data(X, y)\n",
    "    X_train, X_test, y_train, y_test = handle_missing_values(X_train_with_missing, X_test_with_missing, y_train_with_missing, y_test_with_missing)\n",
    "except Exception as e:\n",
    "    print ('You probably have a syntax or implementation error,  \\nerror Message:',str(e), '\\nTry fixing your code')\n",
    "    raise\n",
    "\n",
    "np.testing.assert_array_equal(X_test.index, y_test.index, \"X_test dataframe and y_test series should have the same index after 'handle_missing_values'\")  \n",
    "\n",
    "print (\"Good Job!\\nYou've passed the 4th test for the 'handle_missing_values' function implementation :-)\")    "
   ]
  },
  {
   "cell_type": "markdown",
   "metadata": {
    "deletable": false,
    "editable": false,
    "id": "WHuBYESFAZiO",
    "nbgrader": {
     "cell_type": "markdown",
     "checksum": "79dc4aada19e2832fe066f2f8e39a258",
     "grade": false,
     "grade_id": "cell-f6f6b6d7b8a4e95a",
     "locked": true,
     "schema_version": 3,
     "solution": false,
     "task": false
    }
   },
   "source": [
    "#### 3.f. Outlier Removal - **8 Points**\n",
    "\n",
    "<u>method name</u>: <b>remove_outliers</b><br/>\n",
    "\n",
    "<hr>\n",
    "\n",
    "<u>dependency</u>: <br/>\n",
    "* <b>decouple_data</b></br> \n",
    "* <b>split_data</b></br> \n",
    "\n",
    "<hr>\n",
    "\n",
    "<pre>\n",
    "Complete the following function to delete outliers in **'age', 'years' \n",
    "  'credit_amount' and 'duration'** columns using the \n",
    "  IQR (Interquartile Range Rule) we learned in class and return processed datasets\n",
    "<b>make sure to remove the outliers in test set based on the train set's statistics</b>\n",
    " - note we assume the data set used here has no duplications and no missing values\n",
    " \n",
    "------------\n",
    "input parameters:\n",
    "- X_train - \"loan risk factor\" train dataset's feature vectors\n",
    "- X_test - \"loan risk factor\" test dataset's feature vectors\n",
    "- y_train - \"loan risk factor\" train dataset's labels\n",
    "- y_test - \"loan risk factor\" test dataset's labels\n",
    "------------\n",
    "The return statement should look like the following:\n",
    "return X_train, X_test\n",
    "</pre>  "
   ]
  },
  {
   "cell_type": "markdown",
   "metadata": {
    "deletable": false,
    "editable": false,
    "nbgrader": {
     "cell_type": "markdown",
     "checksum": "e033a5736dbbee0e3dfd4830a4678872",
     "grade": false,
     "grade_id": "cell-f397cc1c5ae699c6",
     "locked": true,
     "schema_version": 3,
     "solution": false,
     "task": false
    }
   },
   "source": [
    "#### 3.f. Outlier Removal - Implement and Run the following code cell:"
   ]
  },
  {
   "cell_type": "code",
   "execution_count": 29,
   "metadata": {
    "deletable": false,
    "id": "W6LAg6MeA5vB",
    "nbgrader": {
     "cell_type": "code",
     "checksum": "bc9ac5dba64c41b3df2bbfa4df4ad4dc",
     "grade": false,
     "grade_id": "solution3f-remove_outliers",
     "locked": false,
     "schema_version": 3,
     "solution": true,
     "task": false
    }
   },
   "outputs": [],
   "source": [
    "# 3.f. remove_outliers (your solution)\n",
    "# ====>>> YOUR ACTIONS: IMPLEMENT & RUN\n",
    "\n",
    "def remove_outliers(X_train, X_test, y_train, y_test):\n",
    "    # YOUR CODE HERE\n",
    "    \n",
    "    \n",
    "    ############THIS FUNCTION NEEDS TO BE CHECKED BY A TEACHER!!!!!!############\n",
    "    concated_Xy_train = pd.concat([X_train, pd.DataFrame(y_train)], axis = 1)\n",
    "    concated_Xy_test = pd.concat([X_test, pd.DataFrame(y_test)], axis = 1)\n",
    "\n",
    "    col_list = [\"age\", \"years\", \"credit_amount\", \"duration\"]\n",
    "    outliers_indx_in_train = []\n",
    "    outliers_indx_in_test =[]\n",
    "    for col_name in col_list:\n",
    "        Q1 = np.percentile(concated_Xy_train[col_name], 25)\n",
    "        Q3 = np.percentile(concated_Xy_train[col_name], 75)\n",
    "        IQR = Q3 - Q1\n",
    "        IQR_range = 1.5 * IQR\n",
    "        col_outlier_train = concated_Xy_train[(concated_Xy_train[col_name] < Q1 - IQR_range) | \n",
    "                                        (concated_Xy_train[col_name] > Q3 + IQR_range )].index\n",
    "        col_outlier_test = concated_Xy_test[(concated_Xy_test[col_name] < Q1 - IQR_range) | \n",
    "                                        (concated_Xy_test[col_name] > Q3 + IQR_range )].index\n",
    "        outliers_indx_in_train.extend(col_outlier_train)\n",
    "        outliers_indx_in_test.extend(col_outlier_test)\n",
    "    \n",
    "    concated_Xy_train.drop(outliers_indx_in_train, inplace = True)\n",
    "    concated_Xy_test.drop(outliers_indx_in_test, inplace = True)\n",
    "\n",
    "\n",
    "    y_train = concated_Xy_train[\"risk\"]\n",
    "    X_train = concated_Xy_train\n",
    "    del X_train[\"risk\"]\n",
    "    \n",
    "    y_test = concated_Xy_test[\"risk\"]\n",
    "    X_test = concated_Xy_test\n",
    "    del X_test[\"risk\"]\n",
    "    \n",
    "    \n",
    "    return X_train, X_test, y_train, y_test"
   ]
  },
  {
   "cell_type": "markdown",
   "metadata": {
    "deletable": false,
    "editable": false,
    "nbgrader": {
     "cell_type": "markdown",
     "checksum": "bd3c953defa89559486715b9a1a9a930",
     "grade": false,
     "grade_id": "cell-744f75cbbb27ba8e",
     "locked": true,
     "schema_version": 3,
     "solution": false,
     "task": false
    }
   },
   "source": [
    "##### 3.f. remove_outliers- OPTIONAL SELF TEST - Implement & Run the following code cell (IF NEEDED):"
   ]
  },
  {
   "cell_type": "code",
   "execution_count": 30,
   "metadata": {
    "colab": {
     "base_uri": "https://localhost:8080/"
    },
    "deletable": false,
    "id": "8xSTnROTxFse",
    "nbgrader": {
     "cell_type": "code",
     "checksum": "acd11200458eebeb7741d3dacfe09b1f",
     "grade": false,
     "grade_id": "self_test3f-remove_outliers",
     "locked": false,
     "schema_version": 3,
     "solution": true,
     "task": false
    },
    "outputId": "b9a473cd-102d-406a-fc98-0a2e4b9d568d"
   },
   "outputs": [
    {
     "data": {
      "text/plain": [
       "(331,)"
      ]
     },
     "execution_count": 30,
     "metadata": {},
     "output_type": "execute_result"
    },
    {
     "data": {
      "text/plain": [
       "82"
      ]
     },
     "execution_count": 30,
     "metadata": {},
     "output_type": "execute_result"
    }
   ],
   "source": [
    "# 3.f. remove_outliers (optional self testing)\n",
    "# ====>>> YOUR ACTIONS: (optional) IMPLEMENT & RUN \n",
    "file_name_csv = '.' + os.sep + 'data' + os.sep + 'loans_risk_factor_nodups_no_missing.csv'\n",
    "risk_factor_df = load_csv(file_name_csv)\n",
    "X, y = decouple_data(risk_factor_df)\n",
    "X_train_with_outliers, X_test_with_outliers, y_train_with_outliers, y_test_with_outliers = split_data(X, y)\n",
    "X_train, X_test, y_train, y_test = remove_outliers(X_train_with_outliers, X_test_with_outliers, y_train_with_outliers, y_test_with_outliers)\n",
    "\n",
    "# --- add additional code to check your code if needed:\n",
    "# YOUR CODE HERE\n",
    "y_train.shape\n",
    "y_test.count()"
   ]
  },
  {
   "cell_type": "markdown",
   "metadata": {
    "deletable": false,
    "editable": false,
    "nbgrader": {
     "cell_type": "markdown",
     "checksum": "8569aaa6dfa27ba06d830f02f541a684",
     "grade": false,
     "grade_id": "cell-17448f131917f554",
     "locked": true,
     "schema_version": 3,
     "solution": false,
     "task": false
    }
   },
   "source": [
    "##### 3.f. remove_outliers - GRADED TESTS - Run the following (2) code cells:"
   ]
  },
  {
   "cell_type": "code",
   "execution_count": 31,
   "metadata": {
    "deletable": false,
    "editable": false,
    "nbgrader": {
     "cell_type": "code",
     "checksum": "b41db46757868b55a474c643abe6c6a8",
     "grade": true,
     "grade_id": "test3f_1-remove_outliers",
     "locked": true,
     "points": 1,
     "schema_version": 3,
     "solution": false,
     "task": false
    }
   },
   "outputs": [
    {
     "name": "stdout",
     "output_type": "stream",
     "text": [
      "3.f.'remove_outliers' - Test 1 (name: test3f_1-remove_outliers, points: 1) - Sanity\n",
      "Good Job!\n",
      "You've passed the 1st test for the 'remove_outliers' function implementation :-)\n"
     ]
    }
   ],
   "source": [
    "# 3.f. remove_outliers (graded test)\n",
    "# ====>>> YOUR ACTIONS: RUN ONLY\n",
    "\n",
    "print (\"3.f.'remove_outliers' - Test 1 (name: test3f_1-remove_outliers, points: 1) - Sanity\")\n",
    "\n",
    "file_name_csv = '.' + os.sep + 'data' + os.sep + 'loans_risk_factor_nodups_no_missing.csv'\n",
    "\n",
    "try:    \n",
    "    risk_factor_df = load_csv(file_name_csv)\n",
    "    X, y = decouple_data(risk_factor_df)\n",
    "    X_train_with_outliers, X_test_with_outliers, y_train_with_outliers, y_test_with_outliers = split_data(X, y)\n",
    "    X_train, X_test, y_train, y_test = remove_outliers(X_train_with_outliers, X_test_with_outliers, y_train_with_outliers, y_test_with_outliers)\n",
    "except Exception as e:\n",
    "    print ('You probably have a syntax or implementation error,  \\nerror Message:',str(e), '\\nTry fixing your code')\n",
    "    raise\n",
    "\n",
    "print (\"Good Job!\\nYou've passed the 1st test for the 'remove_outliers' function implementation :-)\")    "
   ]
  },
  {
   "cell_type": "code",
   "execution_count": 32,
   "metadata": {
    "deletable": false,
    "editable": false,
    "nbgrader": {
     "cell_type": "code",
     "checksum": "5da6ab11f2637c286dbb032e6a1abcf6",
     "grade": true,
     "grade_id": "test3f_2-remove_outliers",
     "locked": true,
     "points": 2,
     "schema_version": 3,
     "solution": false,
     "task": false
    }
   },
   "outputs": [
    {
     "name": "stdout",
     "output_type": "stream",
     "text": [
      "3.f.'remove_outliers' - Test 2 (name: test3f_2-remove_outliers, points: 2)\n",
      "Good Job!\n",
      "You've passed the 2nd test for the 'remove_outliers' function implementation :-)\n"
     ]
    }
   ],
   "source": [
    "# 3.f. remove_outliers (graded test)\n",
    "# ====>>> YOUR ACTIONS: RUN ONLY\n",
    "\n",
    "print (\"3.f.'remove_outliers' - Test 2 (name: test3f_2-remove_outliers, points: 2)\")\n",
    "\n",
    "file_name_csv = '.' + os.sep + 'data' + os.sep + 'loans_risk_factor_nodups_no_missing.csv'\n",
    "\n",
    "try:    \n",
    "    risk_factor_df = load_csv(file_name_csv)\n",
    "    X, y = decouple_data(risk_factor_df)\n",
    "    X_train_with_outliers, X_test_with_outliers, y_train_with_outliers, y_test_with_outliers = split_data(X, y)\n",
    "    X_train, X_test, y_train, y_test = remove_outliers(X_train_with_outliers, X_test_with_outliers, y_train_with_outliers, y_test_with_outliers)\n",
    "except Exception as e:\n",
    "    print ('You probably have a syntax or implementation error,  \\nerror Message:',str(e), '\\nTry fixing your code')\n",
    "    raise\n",
    "\n",
    "assert (331, 10) == X_train.shape and (82,10) == X_test.shape, \"Wrong shape for feature vectors dataframe X_train or X_test after 'remove_outliers'\"\n",
    "    \n",
    "print (\"Good Job!\\nYou've passed the 2nd test for the 'remove_outliers' function implementation :-)\")    "
   ]
  },
  {
   "cell_type": "code",
   "execution_count": 33,
   "metadata": {
    "deletable": false,
    "editable": false,
    "nbgrader": {
     "cell_type": "code",
     "checksum": "033bc518308dd20d0b716b8d9f3b21ab",
     "grade": true,
     "grade_id": "test3f_3-remove_outliers",
     "locked": true,
     "points": 2.5,
     "schema_version": 3,
     "solution": false,
     "task": false
    }
   },
   "outputs": [
    {
     "name": "stdout",
     "output_type": "stream",
     "text": [
      "3.f.'remove_outliers' - Test 3 (name: test3f_3-remove_outliers, points: 2.5)\n",
      "Good Job!\n",
      "You've passed the 3rd test for the 'remove_outliers' function implementation :-)\n"
     ]
    }
   ],
   "source": [
    "# 3.f. remove_outliers (graded test)\n",
    "# ====>>> YOUR ACTIONS: RUN ONLY\n",
    "\n",
    "print (\"3.f.'remove_outliers' - Test 3 (name: test3f_3-remove_outliers, points: 2.5)\")\n",
    "\n",
    "file_name_csv = '.' + os.sep + 'data' + os.sep + 'loans_risk_factor_nodups_no_missing.csv'\n",
    "\n",
    "try:    \n",
    "    risk_factor_df = load_csv(file_name_csv)\n",
    "    X, y = decouple_data(risk_factor_df)\n",
    "    X_train_with_outliers, X_test_with_outliers, y_train_with_outliers, y_test_with_outliers = split_data(X, y)\n",
    "    X_train, X_test, y_train, y_test = remove_outliers(X_train_with_outliers, X_test_with_outliers, y_train_with_outliers, y_test_with_outliers)\n",
    "except Exception as e:\n",
    "    print ('You probably have a syntax or implementation error,  \\nerror Message:',str(e), '\\nTry fixing your code')\n",
    "    raise\n",
    "\n",
    "assert 331 == y_train.shape[0] and 82 == y_test.shape[0], \"Wrong shape for target series y_train or y_test after 'remove_outliers'\"\n",
    "    \n",
    "print (\"Good Job!\\nYou've passed the 3rd test for the 'remove_outliers' function implementation :-)\")    "
   ]
  },
  {
   "cell_type": "code",
   "execution_count": 34,
   "metadata": {
    "deletable": false,
    "editable": false,
    "nbgrader": {
     "cell_type": "code",
     "checksum": "bd4594d652ceebdcbc3fa480a58e509b",
     "grade": true,
     "grade_id": "cell-359fb05da96eda79",
     "locked": true,
     "points": 2.5,
     "schema_version": 3,
     "solution": false,
     "task": false
    }
   },
   "outputs": [
    {
     "name": "stdout",
     "output_type": "stream",
     "text": [
      "3.f.'remove_outliers' - Test 4 (name: test3f_4-remove_outliers, points: 2.5)\n",
      "Good Job!\n",
      "You've passed the 4th test for the 'remove_outliers' function implementation :-)\n"
     ]
    }
   ],
   "source": [
    "# 3.f. remove_outliers (graded test)\n",
    "# ====>>> YOUR ACTIONS: RUN ONLY\n",
    "\n",
    "print (\"3.f.'remove_outliers' - Test 4 (name: test3f_4-remove_outliers, points: 2.5)\")\n",
    "\n",
    "file_name_csv = '.' + os.sep + 'data' + os.sep + 'loans_risk_factor_nodups_no_missing.csv'\n",
    "\n",
    "try:    \n",
    "    risk_factor_df = load_csv(file_name_csv)\n",
    "    X, y = decouple_data(risk_factor_df)\n",
    "    X_train_with_outliers, X_test_with_outliers, y_train_with_outliers, y_test_with_outliers = split_data(X, y)\n",
    "    X_train, X_test, y_train, y_test = remove_outliers(X_train_with_outliers, X_test_with_outliers, y_train_with_outliers, y_test_with_outliers)\n",
    "except Exception as e:\n",
    "    print ('You probably have a syntax or implementation error,  \\nerror Message:',str(e), '\\nTry fixing your code')\n",
    "    raise\n",
    "\n",
    "\n",
    "\n",
    "np.testing.assert_array_compare(operator.__ne__, X_train.iloc[:10].index, X_test.iloc[:10].index, \"X_train and X_test dataframes should not have the same index after 'split_data'\")\n",
    "\n",
    "np.testing.assert_array_equal(X_train.index, y_train.index, \"X_train dataframe and y_train series should have the same index after 'split_data'\")    \n",
    "np.testing.assert_array_equal(X_test.index, y_test.index, \"X_test dataframe and y_test series should have the same index after 'split_data'\")    \n",
    "    \n",
    "print (\"Good Job!\\nYou've passed the 4th test for the 'remove_outliers' function implementation :-)\")    "
   ]
  },
  {
   "cell_type": "markdown",
   "metadata": {
    "deletable": false,
    "editable": false,
    "id": "ww5zfz3YBBlW",
    "nbgrader": {
     "cell_type": "markdown",
     "checksum": "9a95da1a258f750a9e2eb611138991f6",
     "grade": false,
     "grade_id": "cell-37a766ad4688eaaf",
     "locked": true,
     "schema_version": 3,
     "solution": false,
     "task": false
    }
   },
   "source": [
    "#### 3.g. Scaling - **5 Points**\n",
    "\n",
    "<u>method name</u>: <b>scale_data</b><br/>\n",
    "\n",
    "<hr>\n",
    "\n",
    "<u>dependency</u>: <br/>\n",
    "* <b>decouple_data</b></br> \n",
    "* <b>split_data</b></br> \n",
    "\n",
    "<hr>\n",
    "\n",
    "<pre>\n",
    "Complete the following function to scale **'age', 'years', 'credit_amount' and \n",
    "  'duration'** columns to be in the range [0, 1] using Sklearn MinMaxScaler  \n",
    "  learned in class and return scaled datasets\n",
    "  - use the feature_range parameter to set a range of the scale feature_range=(new_min,new_max)\n",
    "  \n",
    "\n",
    "*make sure to scale the data in test set based on the train set's statistics*\n",
    "\n",
    "------------\n",
    "input parameters:\n",
    "- X_train - \"loan risk factor\" train dataset's feature vectors\n",
    "- X_test - \"loan risk factor\" test dataset's feature vectors\n",
    "------------\n",
    "The return statement should look like the following:\n",
    "return X_train, X_test\n",
    "</pre>  "
   ]
  },
  {
   "cell_type": "markdown",
   "metadata": {
    "deletable": false,
    "editable": false,
    "nbgrader": {
     "cell_type": "markdown",
     "checksum": "b666280bb0b20aa0a1424308a9d238c3",
     "grade": false,
     "grade_id": "cell-35e1648e42ebf9b0",
     "locked": true,
     "schema_version": 3,
     "solution": false,
     "task": false
    }
   },
   "source": [
    "#### 3.g. Scaling - Implement and Run the following code cell:"
   ]
  },
  {
   "cell_type": "code",
   "execution_count": 35,
   "metadata": {
    "deletable": false,
    "id": "L0ux0pkwBmBh",
    "nbgrader": {
     "cell_type": "code",
     "checksum": "3ddeb40aac2a30d9e1b2cd9e82af7af4",
     "grade": false,
     "grade_id": "solution3g-scale_data",
     "locked": false,
     "schema_version": 3,
     "solution": true,
     "task": false
    }
   },
   "outputs": [],
   "source": [
    "# 3.g. scale_data (your solution)\n",
    "# ====>>> YOUR ACTIONS: IMPLEMENT & RUN\n",
    "\n",
    "def scale_data(X_train, X_test):\n",
    "    # YOUR CODE HERE\n",
    "    col_name = [\"age\", \"years\", \"credit_amount\", \"duration\"]\n",
    "    feature_range = MinMaxScaler() \n",
    "    for col in col_name:\n",
    "        arr1 = np.array(X_train[col]) #getting the column in train df to be an array for MinMaxscaler\n",
    "        X_train[col] = feature_range.fit_transform(arr1.reshape(-1,1)) #producing MinMaxScaler on specific column\n",
    "        arr2 = np.array(X_test[col]) #getting the column in test df to be an array for MinMaxscaler \n",
    "        X_test[col] = feature_range.fit_transform(arr2.reshape(-1,1)) #producing MinMaxScaler on specific column\n",
    "    \n",
    "    return X_train, X_test\n"
   ]
  },
  {
   "cell_type": "markdown",
   "metadata": {
    "deletable": false,
    "editable": false,
    "nbgrader": {
     "cell_type": "markdown",
     "checksum": "19bb88836b0120b608787891df22dec5",
     "grade": false,
     "grade_id": "cell-5002db5f8c3eaea7",
     "locked": true,
     "schema_version": 3,
     "solution": false,
     "task": false
    }
   },
   "source": [
    "##### 3.g. scale_data- OPTIONAL SELF TEST - Implement & Run the following code cell (IF NEEDED):"
   ]
  },
  {
   "cell_type": "code",
   "execution_count": 36,
   "metadata": {
    "colab": {
     "base_uri": "https://localhost:8080/"
    },
    "deletable": false,
    "id": "vU3U9nve1Od3",
    "nbgrader": {
     "cell_type": "code",
     "checksum": "8e01288f47ff4edb2d4919ad7c69663d",
     "grade": false,
     "grade_id": "self_test3g-scale_data",
     "locked": false,
     "schema_version": 3,
     "solution": true,
     "task": false
    },
    "outputId": "cca34a7e-a81b-4e71-983d-c22a406dd1a7"
   },
   "outputs": [
    {
     "data": {
      "text/html": [
       "<div>\n",
       "<style scoped>\n",
       "    .dataframe tbody tr th:only-of-type {\n",
       "        vertical-align: middle;\n",
       "    }\n",
       "\n",
       "    .dataframe tbody tr th {\n",
       "        vertical-align: top;\n",
       "    }\n",
       "\n",
       "    .dataframe thead th {\n",
       "        text-align: right;\n",
       "    }\n",
       "</style>\n",
       "<table border=\"1\" class=\"dataframe\">\n",
       "  <thead>\n",
       "    <tr style=\"text-align: right;\">\n",
       "      <th></th>\n",
       "      <th>age</th>\n",
       "      <th>sex</th>\n",
       "      <th>job</th>\n",
       "      <th>housing</th>\n",
       "      <th>years</th>\n",
       "      <th>saving_account</th>\n",
       "      <th>checking_account</th>\n",
       "      <th>credit_amount</th>\n",
       "      <th>duration</th>\n",
       "      <th>purpose</th>\n",
       "    </tr>\n",
       "  </thead>\n",
       "  <tbody>\n",
       "    <tr>\n",
       "      <th>0</th>\n",
       "      <td>0.022</td>\n",
       "      <td>female</td>\n",
       "      <td>1</td>\n",
       "      <td>rent</td>\n",
       "      <td>0.455</td>\n",
       "      <td>little</td>\n",
       "      <td>moderate</td>\n",
       "      <td>0.279</td>\n",
       "      <td>0.455</td>\n",
       "      <td>car</td>\n",
       "    </tr>\n",
       "    <tr>\n",
       "      <th>1</th>\n",
       "      <td>0.067</td>\n",
       "      <td>male</td>\n",
       "      <td>2</td>\n",
       "      <td>own</td>\n",
       "      <td>0.182</td>\n",
       "      <td>rich</td>\n",
       "      <td>moderate</td>\n",
       "      <td>0.083</td>\n",
       "      <td>0.182</td>\n",
       "      <td>car</td>\n",
       "    </tr>\n",
       "    <tr>\n",
       "      <th>2</th>\n",
       "      <td>0.378</td>\n",
       "      <td>male</td>\n",
       "      <td>2</td>\n",
       "      <td>own</td>\n",
       "      <td>0.727</td>\n",
       "      <td>little</td>\n",
       "      <td>little</td>\n",
       "      <td>0.688</td>\n",
       "      <td>0.727</td>\n",
       "      <td>business</td>\n",
       "    </tr>\n",
       "    <tr>\n",
       "      <th>3</th>\n",
       "      <td>0.378</td>\n",
       "      <td>female</td>\n",
       "      <td>2</td>\n",
       "      <td>own</td>\n",
       "      <td>0.182</td>\n",
       "      <td>little</td>\n",
       "      <td>rich</td>\n",
       "      <td>0.225</td>\n",
       "      <td>0.182</td>\n",
       "      <td>car</td>\n",
       "    </tr>\n",
       "    <tr>\n",
       "      <th>4</th>\n",
       "      <td>0.178</td>\n",
       "      <td>male</td>\n",
       "      <td>2</td>\n",
       "      <td>own</td>\n",
       "      <td>0.250</td>\n",
       "      <td>little</td>\n",
       "      <td>little</td>\n",
       "      <td>0.089</td>\n",
       "      <td>0.250</td>\n",
       "      <td>radio/TV</td>\n",
       "    </tr>\n",
       "    <tr>\n",
       "      <th>...</th>\n",
       "      <td>...</td>\n",
       "      <td>...</td>\n",
       "      <td>...</td>\n",
       "      <td>...</td>\n",
       "      <td>...</td>\n",
       "      <td>...</td>\n",
       "      <td>...</td>\n",
       "      <td>...</td>\n",
       "      <td>...</td>\n",
       "      <td>...</td>\n",
       "    </tr>\n",
       "    <tr>\n",
       "      <th>300</th>\n",
       "      <td>0.800</td>\n",
       "      <td>male</td>\n",
       "      <td>2</td>\n",
       "      <td>own</td>\n",
       "      <td>0.455</td>\n",
       "      <td>little</td>\n",
       "      <td>little</td>\n",
       "      <td>0.753</td>\n",
       "      <td>0.455</td>\n",
       "      <td>furniture/equipment</td>\n",
       "    </tr>\n",
       "    <tr>\n",
       "      <th>301</th>\n",
       "      <td>0.489</td>\n",
       "      <td>male</td>\n",
       "      <td>1</td>\n",
       "      <td>own</td>\n",
       "      <td>0.182</td>\n",
       "      <td>little</td>\n",
       "      <td>moderate</td>\n",
       "      <td>0.070</td>\n",
       "      <td>0.182</td>\n",
       "      <td>car</td>\n",
       "    </tr>\n",
       "    <tr>\n",
       "      <th>302</th>\n",
       "      <td>0.356</td>\n",
       "      <td>male</td>\n",
       "      <td>2</td>\n",
       "      <td>own</td>\n",
       "      <td>0.250</td>\n",
       "      <td>little</td>\n",
       "      <td>moderate</td>\n",
       "      <td>0.280</td>\n",
       "      <td>0.250</td>\n",
       "      <td>radio/TV</td>\n",
       "    </tr>\n",
       "    <tr>\n",
       "      <th>303</th>\n",
       "      <td>0.000</td>\n",
       "      <td>female</td>\n",
       "      <td>2</td>\n",
       "      <td>rent</td>\n",
       "      <td>0.114</td>\n",
       "      <td>little</td>\n",
       "      <td>little</td>\n",
       "      <td>0.195</td>\n",
       "      <td>0.114</td>\n",
       "      <td>furniture/equipment</td>\n",
       "    </tr>\n",
       "    <tr>\n",
       "      <th>304</th>\n",
       "      <td>0.000</td>\n",
       "      <td>female</td>\n",
       "      <td>1</td>\n",
       "      <td>rent</td>\n",
       "      <td>0.182</td>\n",
       "      <td>rich</td>\n",
       "      <td>moderate</td>\n",
       "      <td>0.081</td>\n",
       "      <td>0.182</td>\n",
       "      <td>furniture/equipment</td>\n",
       "    </tr>\n",
       "  </tbody>\n",
       "</table>\n",
       "<p>305 rows × 10 columns</p>\n",
       "</div>"
      ],
      "text/plain": [
       "      age     sex  job housing  years saving_account checking_account  \\\n",
       "0   0.022  female    1    rent  0.455         little         moderate   \n",
       "1   0.067    male    2     own  0.182           rich         moderate   \n",
       "2   0.378    male    2     own  0.727         little           little   \n",
       "3   0.378  female    2     own  0.182         little             rich   \n",
       "4   0.178    male    2     own  0.250         little           little   \n",
       "..    ...     ...  ...     ...    ...            ...              ...   \n",
       "300 0.800    male    2     own  0.455         little           little   \n",
       "301 0.489    male    1     own  0.182         little         moderate   \n",
       "302 0.356    male    2     own  0.250         little         moderate   \n",
       "303 0.000  female    2    rent  0.114         little           little   \n",
       "304 0.000  female    1    rent  0.182           rich         moderate   \n",
       "\n",
       "     credit_amount  duration              purpose  \n",
       "0            0.279     0.455                  car  \n",
       "1            0.083     0.182                  car  \n",
       "2            0.688     0.727             business  \n",
       "3            0.225     0.182                  car  \n",
       "4            0.089     0.250             radio/TV  \n",
       "..             ...       ...                  ...  \n",
       "300          0.753     0.455  furniture/equipment  \n",
       "301          0.070     0.182                  car  \n",
       "302          0.280     0.250             radio/TV  \n",
       "303          0.195     0.114  furniture/equipment  \n",
       "304          0.081     0.182  furniture/equipment  \n",
       "\n",
       "[305 rows x 10 columns]"
      ]
     },
     "execution_count": 36,
     "metadata": {},
     "output_type": "execute_result"
    },
    {
     "data": {
      "text/html": [
       "<div>\n",
       "<style scoped>\n",
       "    .dataframe tbody tr th:only-of-type {\n",
       "        vertical-align: middle;\n",
       "    }\n",
       "\n",
       "    .dataframe tbody tr th {\n",
       "        vertical-align: top;\n",
       "    }\n",
       "\n",
       "    .dataframe thead th {\n",
       "        text-align: right;\n",
       "    }\n",
       "</style>\n",
       "<table border=\"1\" class=\"dataframe\">\n",
       "  <thead>\n",
       "    <tr style=\"text-align: right;\">\n",
       "      <th></th>\n",
       "      <th>age</th>\n",
       "      <th>sex</th>\n",
       "      <th>job</th>\n",
       "      <th>housing</th>\n",
       "      <th>years</th>\n",
       "      <th>saving_account</th>\n",
       "      <th>checking_account</th>\n",
       "      <th>credit_amount</th>\n",
       "      <th>duration</th>\n",
       "      <th>purpose</th>\n",
       "    </tr>\n",
       "  </thead>\n",
       "  <tbody>\n",
       "    <tr>\n",
       "      <th>305</th>\n",
       "      <td>0.692</td>\n",
       "      <td>male</td>\n",
       "      <td>1</td>\n",
       "      <td>own</td>\n",
       "      <td>0.143</td>\n",
       "      <td>little</td>\n",
       "      <td>little</td>\n",
       "      <td>0.194</td>\n",
       "      <td>0.143</td>\n",
       "      <td>education</td>\n",
       "    </tr>\n",
       "    <tr>\n",
       "      <th>306</th>\n",
       "      <td>0.205</td>\n",
       "      <td>male</td>\n",
       "      <td>2</td>\n",
       "      <td>own</td>\n",
       "      <td>0.143</td>\n",
       "      <td>little</td>\n",
       "      <td>moderate</td>\n",
       "      <td>0.025</td>\n",
       "      <td>0.143</td>\n",
       "      <td>repairs</td>\n",
       "    </tr>\n",
       "    <tr>\n",
       "      <th>307</th>\n",
       "      <td>0.821</td>\n",
       "      <td>male</td>\n",
       "      <td>2</td>\n",
       "      <td>own</td>\n",
       "      <td>1.000</td>\n",
       "      <td>little</td>\n",
       "      <td>little</td>\n",
       "      <td>0.304</td>\n",
       "      <td>1.000</td>\n",
       "      <td>domestic appliances</td>\n",
       "    </tr>\n",
       "    <tr>\n",
       "      <th>308</th>\n",
       "      <td>0.282</td>\n",
       "      <td>male</td>\n",
       "      <td>2</td>\n",
       "      <td>own</td>\n",
       "      <td>0.429</td>\n",
       "      <td>moderate</td>\n",
       "      <td>little</td>\n",
       "      <td>0.224</td>\n",
       "      <td>0.429</td>\n",
       "      <td>furniture/equipment</td>\n",
       "    </tr>\n",
       "    <tr>\n",
       "      <th>309</th>\n",
       "      <td>0.641</td>\n",
       "      <td>male</td>\n",
       "      <td>1</td>\n",
       "      <td>own</td>\n",
       "      <td>0.214</td>\n",
       "      <td>quite rich</td>\n",
       "      <td>little</td>\n",
       "      <td>0.103</td>\n",
       "      <td>0.214</td>\n",
       "      <td>radio/TV</td>\n",
       "    </tr>\n",
       "    <tr>\n",
       "      <th>...</th>\n",
       "      <td>...</td>\n",
       "      <td>...</td>\n",
       "      <td>...</td>\n",
       "      <td>...</td>\n",
       "      <td>...</td>\n",
       "      <td>...</td>\n",
       "      <td>...</td>\n",
       "      <td>...</td>\n",
       "      <td>...</td>\n",
       "      <td>...</td>\n",
       "    </tr>\n",
       "    <tr>\n",
       "      <th>377</th>\n",
       "      <td>0.026</td>\n",
       "      <td>male</td>\n",
       "      <td>2</td>\n",
       "      <td>rent</td>\n",
       "      <td>0.143</td>\n",
       "      <td>little</td>\n",
       "      <td>moderate</td>\n",
       "      <td>0.128</td>\n",
       "      <td>0.143</td>\n",
       "      <td>radio/TV</td>\n",
       "    </tr>\n",
       "    <tr>\n",
       "      <th>378</th>\n",
       "      <td>0.026</td>\n",
       "      <td>female</td>\n",
       "      <td>2</td>\n",
       "      <td>rent</td>\n",
       "      <td>0.143</td>\n",
       "      <td>little</td>\n",
       "      <td>little</td>\n",
       "      <td>0.090</td>\n",
       "      <td>0.143</td>\n",
       "      <td>education</td>\n",
       "    </tr>\n",
       "    <tr>\n",
       "      <th>379</th>\n",
       "      <td>0.026</td>\n",
       "      <td>female</td>\n",
       "      <td>2</td>\n",
       "      <td>rent</td>\n",
       "      <td>0.071</td>\n",
       "      <td>little</td>\n",
       "      <td>little</td>\n",
       "      <td>0.094</td>\n",
       "      <td>0.071</td>\n",
       "      <td>domestic appliances</td>\n",
       "    </tr>\n",
       "    <tr>\n",
       "      <th>380</th>\n",
       "      <td>0.205</td>\n",
       "      <td>male</td>\n",
       "      <td>2</td>\n",
       "      <td>own</td>\n",
       "      <td>0.286</td>\n",
       "      <td>little</td>\n",
       "      <td>moderate</td>\n",
       "      <td>0.073</td>\n",
       "      <td>0.286</td>\n",
       "      <td>car</td>\n",
       "    </tr>\n",
       "    <tr>\n",
       "      <th>381</th>\n",
       "      <td>0.128</td>\n",
       "      <td>male</td>\n",
       "      <td>2</td>\n",
       "      <td>own</td>\n",
       "      <td>0.429</td>\n",
       "      <td>little</td>\n",
       "      <td>little</td>\n",
       "      <td>0.417</td>\n",
       "      <td>0.429</td>\n",
       "      <td>furniture/equipment</td>\n",
       "    </tr>\n",
       "  </tbody>\n",
       "</table>\n",
       "<p>77 rows × 10 columns</p>\n",
       "</div>"
      ],
      "text/plain": [
       "      age     sex  job housing  years saving_account checking_account  \\\n",
       "305 0.692    male    1     own  0.143         little           little   \n",
       "306 0.205    male    2     own  0.143         little         moderate   \n",
       "307 0.821    male    2     own  1.000         little           little   \n",
       "308 0.282    male    2     own  0.429       moderate           little   \n",
       "309 0.641    male    1     own  0.214     quite rich           little   \n",
       "..    ...     ...  ...     ...    ...            ...              ...   \n",
       "377 0.026    male    2    rent  0.143         little         moderate   \n",
       "378 0.026  female    2    rent  0.143         little           little   \n",
       "379 0.026  female    2    rent  0.071         little           little   \n",
       "380 0.205    male    2     own  0.286         little         moderate   \n",
       "381 0.128    male    2     own  0.429         little           little   \n",
       "\n",
       "     credit_amount  duration              purpose  \n",
       "305          0.194     0.143            education  \n",
       "306          0.025     0.143              repairs  \n",
       "307          0.304     1.000  domestic appliances  \n",
       "308          0.224     0.429  furniture/equipment  \n",
       "309          0.103     0.214             radio/TV  \n",
       "..             ...       ...                  ...  \n",
       "377          0.128     0.143             radio/TV  \n",
       "378          0.090     0.143            education  \n",
       "379          0.094     0.071  domestic appliances  \n",
       "380          0.073     0.286                  car  \n",
       "381          0.417     0.429  furniture/equipment  \n",
       "\n",
       "[77 rows x 10 columns]"
      ]
     },
     "execution_count": 36,
     "metadata": {},
     "output_type": "execute_result"
    }
   ],
   "source": [
    "# 3.g. scale_data (optional self testing)\n",
    "# ====>>> YOUR ACTIONS: (optional) IMPLEMENT & RUN \n",
    "file_name_csv = '.' + os.sep + 'data' + os.sep + 'loans_risk_factor_cleansed.csv'\n",
    "risk_factor_df = load_csv(file_name_csv)\n",
    "X, y = decouple_data(risk_factor_df)\n",
    "X_train, X_test, y_train, y_test = split_data(X, y)\n",
    "X_train_scaled, X_test_scaled = scale_data(X_train, X_test)\n",
    "# --- add additional code to check your code if needed:\n",
    "# YOUR CODE HERE\n",
    "X_train_scaled\n",
    "X_test"
   ]
  },
  {
   "cell_type": "markdown",
   "metadata": {
    "deletable": false,
    "editable": false,
    "nbgrader": {
     "cell_type": "markdown",
     "checksum": "8e8be95e1b2355f2e4a04d19fe30c425",
     "grade": false,
     "grade_id": "cell-1053e03db75029d5",
     "locked": true,
     "schema_version": 3,
     "solution": false,
     "task": false
    }
   },
   "source": [
    "##### 3.g. scale_data - GRADED TESTS - Run the following (2) code cells:"
   ]
  },
  {
   "cell_type": "code",
   "execution_count": 37,
   "metadata": {
    "deletable": false,
    "editable": false,
    "nbgrader": {
     "cell_type": "code",
     "checksum": "336e17b661ca91ebffaebfdc9cedb785",
     "grade": true,
     "grade_id": "test3g_1-scale_data",
     "locked": true,
     "points": 1,
     "schema_version": 3,
     "solution": false,
     "task": false
    }
   },
   "outputs": [
    {
     "name": "stdout",
     "output_type": "stream",
     "text": [
      "3.g.'scale_data' - Test 1 (name: test3g_1-scale_data, points: 1) - Sanity\n",
      "Good Job!\n",
      "You've passed the 1st test for the 'scale_data' function implementation :-)\n"
     ]
    }
   ],
   "source": [
    "# 3.g. scale_data (graded test)\n",
    "# ====>>> YOUR ACTIONS: RUN ONLY\n",
    "\n",
    "print (\"3.g.'scale_data' - Test 1 (name: test3g_1-scale_data, points: 1) - Sanity\")\n",
    "\n",
    "file_name_csv = '.' + os.sep + 'data' + os.sep + 'loans_risk_factor_cleansed.csv'\n",
    "\n",
    "try:    \n",
    "    risk_factor_df = load_csv(file_name_csv)\n",
    "    X, y = decouple_data(risk_factor_df)\n",
    "    X_train, X_test, y_train, y_test = split_data(X, y)\n",
    "    X_train_scaled, X_test_scaled = scale_data(X_train, X_test)\n",
    "except Exception as e:\n",
    "    print ('You probably have a syntax or implementation error,  \\nerror Message:',str(e), '\\nTry fixing your code')\n",
    "    raise\n",
    "\n",
    "print (\"Good Job!\\nYou've passed the 1st test for the 'scale_data' function implementation :-)\")    "
   ]
  },
  {
   "cell_type": "code",
   "execution_count": 38,
   "metadata": {
    "deletable": false,
    "editable": false,
    "nbgrader": {
     "cell_type": "code",
     "checksum": "47d21fa477cf146b803fa95d2c54ac77",
     "grade": true,
     "grade_id": "test3g_2-scale_data",
     "locked": true,
     "points": 1,
     "schema_version": 3,
     "solution": false,
     "task": false
    }
   },
   "outputs": [
    {
     "name": "stdout",
     "output_type": "stream",
     "text": [
      "3.g.'scale_data' - Test 2 (name: test3g_2-scale_data, points: 1)\n",
      "Good Job!\n",
      "You've passed the 2nd test for the 'scale_data' function implementation :-)\n"
     ]
    }
   ],
   "source": [
    "# 3.g. scale_data (graded test)\n",
    "# ====>>> YOUR ACTIONS: RUN ONLY\n",
    "\n",
    "print (\"3.g.'scale_data' - Test 2 (name: test3g_2-scale_data, points: 1)\")\n",
    "\n",
    "file_name_csv = '.' + os.sep + 'data' + os.sep + 'loans_risk_factor_cleansed.csv'\n",
    "\n",
    "try:    \n",
    "    risk_factor_df = load_csv(file_name_csv)\n",
    "    X, y = decouple_data(risk_factor_df)\n",
    "    X_train, X_test, y_train, y_test = split_data(X, y)\n",
    "    X_train_scaled, X_test_scaled = scale_data(X_train, X_test)\n",
    "except Exception as e:\n",
    "    print ('You probably have a syntax or implementation error,  \\nerror Message:',str(e), '\\nTry fixing your code')\n",
    "    raise\n",
    "    \n",
    "assert (305, 10) == X_train_scaled.shape and (77,10) == X_test_scaled.shape, \"Wrong shape for feature vectors dataframe X_train_scaled or X_test_scaled after 'scale_data'\"\n",
    "assert 305 == y_train.shape[0] and 77 == y_test.shape[0], \"Wrong shape for target series y_train_no_outliers or y_test_no_outliers after 'scale_data'\"    \n",
    "\n",
    "print (\"Good Job!\\nYou've passed the 2nd test for the 'scale_data' function implementation :-)\")    "
   ]
  },
  {
   "cell_type": "code",
   "execution_count": 39,
   "metadata": {
    "deletable": false,
    "editable": false,
    "nbgrader": {
     "cell_type": "code",
     "checksum": "76a35a6a7c442b1a1fa3a189c5fdeb80",
     "grade": true,
     "grade_id": "test3g_3-scale_data",
     "locked": true,
     "points": 1,
     "schema_version": 3,
     "solution": false,
     "task": false
    }
   },
   "outputs": [
    {
     "name": "stdout",
     "output_type": "stream",
     "text": [
      "3.g.'scale_data' - Test 3 (name: test3g_3-scale_data, points: 1)\n",
      "Good Job!\n",
      "You've passed the 3rd test for the 'scale_data' function implementation :-)\n"
     ]
    }
   ],
   "source": [
    "# 3.g. scale_data (graded test)\n",
    "# ====>>> YOUR ACTIONS: RUN ONLY\n",
    "\n",
    "print (\"3.g.'scale_data' - Test 3 (name: test3g_3-scale_data, points: 1)\")\n",
    "\n",
    "file_name_csv = '.' + os.sep + 'data' + os.sep + 'loans_risk_factor_cleansed.csv'\n",
    "\n",
    "try:    \n",
    "    risk_factor_df = load_csv(file_name_csv)\n",
    "    X, y = decouple_data(risk_factor_df)\n",
    "    X_train, X_test, y_train, y_test = split_data(X, y)\n",
    "    X_train_scaled, X_test_scaled = scale_data(X_train, X_test)\n",
    "except Exception as e:\n",
    "    print ('You probably have a syntax or implementation error,  \\nerror Message:',str(e), '\\nTry fixing your code')\n",
    "    raise\n",
    "\n",
    "for col in ['age', 'years', 'credit_amount', 'duration']:\n",
    "    assert X_train_scaled[col].between(-0.001, 1.001).all(), \"Wrong scale for feature vectors dataframe X_train_scaled after 'scale_data', must be in the range [0, 1]\"\n",
    "\n",
    "print (\"Good Job!\\nYou've passed the 3rd test for the 'scale_data' function implementation :-)\")    "
   ]
  },
  {
   "cell_type": "code",
   "execution_count": 40,
   "metadata": {
    "deletable": false,
    "editable": false,
    "nbgrader": {
     "cell_type": "code",
     "checksum": "f9b555ecb85a23e3387b5b61ba8186d6",
     "grade": true,
     "grade_id": "test3g_4-scale_data",
     "locked": true,
     "points": 2,
     "schema_version": 3,
     "solution": false,
     "task": false
    }
   },
   "outputs": [
    {
     "name": "stdout",
     "output_type": "stream",
     "text": [
      "3.g.'scale_data' - Test 4 (name: test3g_4-scale_data, points: 2)\n",
      "Good Job!\n",
      "You've passed the 4th test for the 'scale_data' function implementation :-)\n"
     ]
    }
   ],
   "source": [
    "# 3.g. scale_data (graded test)\n",
    "# ====>>> YOUR ACTIONS: RUN ONLY\n",
    "\n",
    "print (\"3.g.'scale_data' - Test 4 (name: test3g_4-scale_data, points: 2)\")\n",
    "\n",
    "file_name_csv = '.' + os.sep + 'data' + os.sep + 'loans_risk_factor_cleansed.csv'\n",
    "\n",
    "try:    \n",
    "    risk_factor_df = load_csv(file_name_csv)\n",
    "    X, y = decouple_data(risk_factor_df)\n",
    "    X_train, X_test, y_train, y_test = split_data(X, y)\n",
    "    X_train_scaled, X_test_scaled = scale_data(X_train, X_test)\n",
    "except Exception as e:\n",
    "    print ('You probably have a syntax or implementation error,  \\nerror Message:',str(e), '\\nTry fixing your code')\n",
    "    raise\n",
    "\n",
    "for col in ['age', 'years', 'credit_amount', 'duration']:    \n",
    "    assert X_test_scaled[col].between(-0.1, 1.1).all(), \"Wrong scale for feature vectors dataframe X_test_scaled after 'scale_data', must be in the range [0, 1]\"  \n",
    "\n",
    "print (\"Good Job!\\nYou've passed the 4th test for the 'scale_data' function implementation :-)\")    "
   ]
  },
  {
   "cell_type": "markdown",
   "metadata": {
    "deletable": false,
    "editable": false,
    "id": "JpwIbB4JDhG-",
    "nbgrader": {
     "cell_type": "markdown",
     "checksum": "94dee21201af2df30d6b021506198d4b",
     "grade": false,
     "grade_id": "cell-6873fc97f39037de",
     "locked": true,
     "schema_version": 3,
     "solution": false,
     "task": false
    }
   },
   "source": [
    "#### 3.h. Remove Correlated - **8 Points**\n",
    "\n",
    "<u>method name</u>: <b>remove_correlated</b><br/>\n",
    "\n",
    "<hr>\n",
    "\n",
    "<u>dependency</u>: <br/>\n",
    "* <b>decouple_data</b></br> \n",
    "* <b>split_data</b></br> \n",
    "\n",
    "<hr>\n",
    "\n",
    "Complete the following function to make sure there are no correlated columns <br/>\n",
    "  (**absolute value of correlation > 0.95**) using pandas <br/>\n",
    "  https://pandas.pydata.org/docs/reference/api/pandas.DataFrame.corr.html - if so,<br/>\n",
    "  make sure only one of the correlated columns stay and return dataframe<br/>\n",
    "\n",
    "Make sure removing the last correlated columns,<br/>\n",
    " for example: in case there are 3 columns **X, Y, Z** and **X, Z**<br/>\n",
    "  are correlated - remove **Z** column.<br/>\n",
    "\n",
    "*make sure to remove correlated columns in test set based on the train set's statistics*<br/>\n",
    "\n",
    "------------<br/>\n",
    "input parameters:<br/>\n",
    "- X_train - \"loan risk factor\" train dataset's feature vectors<br/>\n",
    "- X_test - \"loan risk factor\" test dataset's feature vectors<br/>\n",
    "------------<br/>\n",
    "The return statement should look like the following:<br/>\n",
    "return X_train, X_test<br/>\n",
    "\n"
   ]
  },
  {
   "cell_type": "markdown",
   "metadata": {
    "deletable": false,
    "editable": false,
    "nbgrader": {
     "cell_type": "markdown",
     "checksum": "2562bcb07a2a2643d350aaba88993529",
     "grade": false,
     "grade_id": "cell-e5d07c8adbf74fd9",
     "locked": true,
     "schema_version": 3,
     "solution": false,
     "task": false
    }
   },
   "source": [
    "#### 3.h. Remove Correlated - Implement and Run the following code cell:"
   ]
  },
  {
   "cell_type": "code",
   "execution_count": 41,
   "metadata": {
    "deletable": false,
    "id": "G19agM2dEpGk",
    "nbgrader": {
     "cell_type": "code",
     "checksum": "572a4e9c8df88f69ea50419a44506c5f",
     "grade": false,
     "grade_id": "solution3g-remove_correlated",
     "locked": false,
     "schema_version": 3,
     "solution": true,
     "task": false
    }
   },
   "outputs": [],
   "source": [
    "# 3.h. remove_correlated (your solution)\n",
    "# ====>>> YOUR ACTIONS: IMPLEMENT & RUN\n",
    "\n",
    "def remove_correlated(X_train, X_test):\n",
    "    # YOUR CODE HERE\n",
    "    list_of_cols =[]  #the list that will eventually have the names of the columns that are correlated \n",
    "    df_corr_mat = X_train.corr(method='pearson') #creating the matrix that has the pearson correlation\n",
    "\n",
    "    for rows in df_corr_mat: \n",
    "        for cols in df_corr_mat:\n",
    "            if(rows!=cols): #if they are not at a diagonal position, continue\n",
    "                if(df_corr_mat[rows][cols]>0.95): #if they are highly correlated, append to the list the name of the row only\n",
    "                    list_of_cols.append(rows)\n",
    "            \n",
    "    list_of_cols = list(dict.fromkeys(list_of_cols)) #removing duplicates from the list(rows were inserted twice)\n",
    "    del X_train[list_of_cols[-1]] #deleting the col that is the last col in df that has correlation\n",
    "    del X_test[list_of_cols[-1]] #deleting the col that is the last col in df that has correlation\n",
    "    return X_train, X_test "
   ]
  },
  {
   "cell_type": "markdown",
   "metadata": {
    "deletable": false,
    "editable": false,
    "nbgrader": {
     "cell_type": "markdown",
     "checksum": "818ac26686295f7a666e17a52eeebb56",
     "grade": false,
     "grade_id": "cell-399715a19913da6b",
     "locked": true,
     "schema_version": 3,
     "solution": false,
     "task": false
    }
   },
   "source": [
    "##### 3.h. remove_correlated - OPTIONAL SELF TEST - Implement & Run the following code cell (IF NEEDED):"
   ]
  },
  {
   "cell_type": "code",
   "execution_count": 42,
   "metadata": {
    "colab": {
     "base_uri": "https://localhost:8080/"
    },
    "deletable": false,
    "id": "eBW9OV9RCMXk",
    "nbgrader": {
     "cell_type": "code",
     "checksum": "2555ba99f6f6afdb5f61703d61c6b152",
     "grade": false,
     "grade_id": "self_test3h-remove_correlated",
     "locked": false,
     "schema_version": 3,
     "solution": true,
     "task": false
    },
    "outputId": "f3878d70-ad14-47d2-e52d-dc2b9a8570fe"
   },
   "outputs": [
    {
     "data": {
      "text/html": [
       "<div>\n",
       "<style scoped>\n",
       "    .dataframe tbody tr th:only-of-type {\n",
       "        vertical-align: middle;\n",
       "    }\n",
       "\n",
       "    .dataframe tbody tr th {\n",
       "        vertical-align: top;\n",
       "    }\n",
       "\n",
       "    .dataframe thead th {\n",
       "        text-align: right;\n",
       "    }\n",
       "</style>\n",
       "<table border=\"1\" class=\"dataframe\">\n",
       "  <thead>\n",
       "    <tr style=\"text-align: right;\">\n",
       "      <th></th>\n",
       "      <th>age</th>\n",
       "      <th>sex</th>\n",
       "      <th>job</th>\n",
       "      <th>housing</th>\n",
       "      <th>years</th>\n",
       "      <th>saving_account</th>\n",
       "      <th>checking_account</th>\n",
       "      <th>credit_amount</th>\n",
       "      <th>purpose</th>\n",
       "    </tr>\n",
       "  </thead>\n",
       "  <tbody>\n",
       "    <tr>\n",
       "      <th>0</th>\n",
       "      <td>-0.492</td>\n",
       "      <td>female</td>\n",
       "      <td>2</td>\n",
       "      <td>own</td>\n",
       "      <td>-0.770</td>\n",
       "      <td>little</td>\n",
       "      <td>little</td>\n",
       "      <td>-0.299</td>\n",
       "      <td>radio/TV</td>\n",
       "    </tr>\n",
       "    <tr>\n",
       "      <th>1</th>\n",
       "      <td>-1.088</td>\n",
       "      <td>female</td>\n",
       "      <td>2</td>\n",
       "      <td>rent</td>\n",
       "      <td>-1.047</td>\n",
       "      <td>little</td>\n",
       "      <td>little</td>\n",
       "      <td>-0.786</td>\n",
       "      <td>domestic appliances</td>\n",
       "    </tr>\n",
       "    <tr>\n",
       "      <th>2</th>\n",
       "      <td>-0.492</td>\n",
       "      <td>male</td>\n",
       "      <td>1</td>\n",
       "      <td>own</td>\n",
       "      <td>0.341</td>\n",
       "      <td>little</td>\n",
       "      <td>moderate</td>\n",
       "      <td>-0.215</td>\n",
       "      <td>furniture/equipment</td>\n",
       "    </tr>\n",
       "    <tr>\n",
       "      <th>3</th>\n",
       "      <td>-0.691</td>\n",
       "      <td>female</td>\n",
       "      <td>0</td>\n",
       "      <td>own</td>\n",
       "      <td>-0.215</td>\n",
       "      <td>little</td>\n",
       "      <td>little</td>\n",
       "      <td>-1.039</td>\n",
       "      <td>education</td>\n",
       "    </tr>\n",
       "    <tr>\n",
       "      <th>4</th>\n",
       "      <td>-0.194</td>\n",
       "      <td>male</td>\n",
       "      <td>2</td>\n",
       "      <td>own</td>\n",
       "      <td>-0.770</td>\n",
       "      <td>little</td>\n",
       "      <td>moderate</td>\n",
       "      <td>1.736</td>\n",
       "      <td>car</td>\n",
       "    </tr>\n",
       "    <tr>\n",
       "      <th>...</th>\n",
       "      <td>...</td>\n",
       "      <td>...</td>\n",
       "      <td>...</td>\n",
       "      <td>...</td>\n",
       "      <td>...</td>\n",
       "      <td>...</td>\n",
       "      <td>...</td>\n",
       "      <td>...</td>\n",
       "      <td>...</td>\n",
       "    </tr>\n",
       "    <tr>\n",
       "      <th>384</th>\n",
       "      <td>-0.790</td>\n",
       "      <td>female</td>\n",
       "      <td>0</td>\n",
       "      <td>own</td>\n",
       "      <td>-0.770</td>\n",
       "      <td>little</td>\n",
       "      <td>rich</td>\n",
       "      <td>-1.113</td>\n",
       "      <td>business</td>\n",
       "    </tr>\n",
       "    <tr>\n",
       "      <th>385</th>\n",
       "      <td>0.104</td>\n",
       "      <td>male</td>\n",
       "      <td>2</td>\n",
       "      <td>rent</td>\n",
       "      <td>-1.047</td>\n",
       "      <td>little</td>\n",
       "      <td>moderate</td>\n",
       "      <td>-0.430</td>\n",
       "      <td>furniture/equipment</td>\n",
       "    </tr>\n",
       "    <tr>\n",
       "      <th>386</th>\n",
       "      <td>-0.293</td>\n",
       "      <td>male</td>\n",
       "      <td>2</td>\n",
       "      <td>free</td>\n",
       "      <td>2.561</td>\n",
       "      <td>little</td>\n",
       "      <td>little</td>\n",
       "      <td>1.753</td>\n",
       "      <td>education</td>\n",
       "    </tr>\n",
       "    <tr>\n",
       "      <th>387</th>\n",
       "      <td>0.005</td>\n",
       "      <td>female</td>\n",
       "      <td>3</td>\n",
       "      <td>own</td>\n",
       "      <td>-1.047</td>\n",
       "      <td>little</td>\n",
       "      <td>moderate</td>\n",
       "      <td>-0.648</td>\n",
       "      <td>education</td>\n",
       "    </tr>\n",
       "    <tr>\n",
       "      <th>388</th>\n",
       "      <td>1.595</td>\n",
       "      <td>male</td>\n",
       "      <td>2</td>\n",
       "      <td>own</td>\n",
       "      <td>-0.492</td>\n",
       "      <td>little</td>\n",
       "      <td>moderate</td>\n",
       "      <td>-0.629</td>\n",
       "      <td>radio/TV</td>\n",
       "    </tr>\n",
       "  </tbody>\n",
       "</table>\n",
       "<p>389 rows × 9 columns</p>\n",
       "</div>"
      ],
      "text/plain": [
       "       age     sex  job housing  years saving_account checking_account  \\\n",
       "0   -0.492  female    2     own -0.770         little           little   \n",
       "1   -1.088  female    2    rent -1.047         little           little   \n",
       "2   -0.492    male    1     own  0.341         little         moderate   \n",
       "3   -0.691  female    0     own -0.215         little           little   \n",
       "4   -0.194    male    2     own -0.770         little         moderate   \n",
       "..     ...     ...  ...     ...    ...            ...              ...   \n",
       "384 -0.790  female    0     own -0.770         little             rich   \n",
       "385  0.104    male    2    rent -1.047         little         moderate   \n",
       "386 -0.293    male    2    free  2.561         little           little   \n",
       "387  0.005  female    3     own -1.047         little         moderate   \n",
       "388  1.595    male    2     own -0.492         little         moderate   \n",
       "\n",
       "     credit_amount              purpose  \n",
       "0           -0.299             radio/TV  \n",
       "1           -0.786  domestic appliances  \n",
       "2           -0.215  furniture/equipment  \n",
       "3           -1.039            education  \n",
       "4            1.736                  car  \n",
       "..             ...                  ...  \n",
       "384         -1.113             business  \n",
       "385         -0.430  furniture/equipment  \n",
       "386          1.753            education  \n",
       "387         -0.648            education  \n",
       "388         -0.629             radio/TV  \n",
       "\n",
       "[389 rows x 9 columns]"
      ]
     },
     "execution_count": 42,
     "metadata": {},
     "output_type": "execute_result"
    }
   ],
   "source": [
    "# 3.h. remove_correlated (optional self testing)\n",
    "# ====>>> YOUR ACTIONS: (optional) IMPLEMENT & RUN \n",
    "file_name_csv = '.' + os.sep + 'data' + os.sep + 'loans_risk_factor_cleansed_scaled_1.csv'\n",
    "risk_factor_df = load_csv(file_name_csv)\n",
    "X, y = decouple_data(risk_factor_df)\n",
    "X_train, X_test, y_train, y_test = split_data(X, y)\n",
    "X_train_indep, X_test_indep = remove_correlated(X_train, X_test)\n",
    "# --- add additional code to check your code if needed:\n",
    "# YOUR CODE HERE\n",
    "X_train"
   ]
  },
  {
   "cell_type": "markdown",
   "metadata": {
    "deletable": false,
    "editable": false,
    "nbgrader": {
     "cell_type": "markdown",
     "checksum": "971d3a91b439c63268bc1a034a5789ea",
     "grade": false,
     "grade_id": "cell-0eb839aabc706316",
     "locked": true,
     "schema_version": 3,
     "solution": false,
     "task": false
    }
   },
   "source": [
    "##### 3.h. remove_correlated - GRADED TESTS - Run the following (2) code cells:"
   ]
  },
  {
   "cell_type": "code",
   "execution_count": 43,
   "metadata": {
    "deletable": false,
    "editable": false,
    "nbgrader": {
     "cell_type": "code",
     "checksum": "cf3d177ed919f105aa8858c78755008e",
     "grade": true,
     "grade_id": "test3h_1-remove_correlated",
     "locked": true,
     "points": 1,
     "schema_version": 3,
     "solution": false,
     "task": false
    }
   },
   "outputs": [
    {
     "name": "stdout",
     "output_type": "stream",
     "text": [
      "3.h.'remove_correlated' - Test 1 (name: test3h_1-remove_correlated, points: 1) - Sanity\n",
      "Good Job!\n",
      "You've passed the 1st test for the 'remove_correlated' function implementation :-)\n"
     ]
    }
   ],
   "source": [
    "# 3.h. remove_correlated (graded test)\n",
    "# ====>>> YOUR ACTIONS: RUN ONLY\n",
    "\n",
    "print (\"3.h.'remove_correlated' - Test 1 (name: test3h_1-remove_correlated, points: 1) - Sanity\")\n",
    "\n",
    "file_name_csv = '.' + os.sep + 'data' + os.sep + 'loans_risk_factor_cleansed_scaled_1.csv'\n",
    "\n",
    "try:    \n",
    "    risk_factor_df = load_csv(file_name_csv)\n",
    "    X, y = decouple_data(risk_factor_df)\n",
    "    X_train, X_test, y_train, y_test = split_data(X, y)\n",
    "    X_train_indep, X_test_indep = remove_correlated(X_train, X_test)\n",
    "except Exception as e:\n",
    "    print ('You probably have a syntax or implementation error,  \\nerror Message:',str(e), '\\nTry fixing your code')\n",
    "    raise\n",
    "\n",
    "print (\"Good Job!\\nYou've passed the 1st test for the 'remove_correlated' function implementation :-)\")    "
   ]
  },
  {
   "cell_type": "code",
   "execution_count": 44,
   "metadata": {
    "deletable": false,
    "editable": false,
    "nbgrader": {
     "cell_type": "code",
     "checksum": "ec3f33ef48e1b4353c416a5a7c29ca21",
     "grade": true,
     "grade_id": "test3h_2-remove_correlated",
     "locked": true,
     "points": 3,
     "schema_version": 3,
     "solution": false,
     "task": false
    }
   },
   "outputs": [
    {
     "name": "stdout",
     "output_type": "stream",
     "text": [
      "3.h.'remove_correlated' - Test 2 (name: test3h_2-remove_correlated, points: 3)\n",
      "Good Job!\n",
      "You've passed the 2nd test for the 'remove_correlated' function implementation :-)\n"
     ]
    }
   ],
   "source": [
    "# 3.h. remove_correlated (graded test)\n",
    "# ====>>> YOUR ACTIONS: RUN ONLY\n",
    "\n",
    "print (\"3.h.'remove_correlated' - Test 2 (name: test3h_2-remove_correlated, points: 3)\")\n",
    "\n",
    "file_name_csv = '.' + os.sep + 'data' + os.sep + 'loans_risk_factor_cleansed_scaled_1.csv'\n",
    "\n",
    "try:    \n",
    "    risk_factor_df = load_csv(file_name_csv)\n",
    "    X, y = decouple_data(risk_factor_df)\n",
    "    X_train, X_test, y_train, y_test = split_data(X, y)\n",
    "    X_train_indep, X_test_indep = remove_correlated(X_train, X_test)\n",
    "except Exception as e:\n",
    "    print ('You probably have a syntax or implementation error,  \\nerror Message:',str(e), '\\nTry fixing your code')\n",
    "    raise\n",
    "\n",
    "assert (389, 9) == X_train_indep.shape and (98,9) == X_test_indep.shape, \"Wrong shape for feature vectors dataframe X_train_indep or X_test_indep after 'remove_correlated'\"\n",
    "\n",
    "print (\"Good Job!\\nYou've passed the 2nd test for the 'remove_correlated' function implementation :-)\")    "
   ]
  },
  {
   "cell_type": "code",
   "execution_count": 45,
   "metadata": {
    "deletable": false,
    "editable": false,
    "nbgrader": {
     "cell_type": "code",
     "checksum": "4790a2b0a63980ff2786f0a8f96fecdc",
     "grade": true,
     "grade_id": "test3h_3-remove_correlated",
     "locked": true,
     "points": 4,
     "schema_version": 3,
     "solution": false,
     "task": false
    }
   },
   "outputs": [
    {
     "name": "stdout",
     "output_type": "stream",
     "text": [
      "3.h.'remove_correlated' - Test 3 (name: test3h_3-remove_correlated, points: 5)\n",
      "Good Job!\n",
      "You've passed the 3rd test for the 'remove_correlated' function implementation :-)\n"
     ]
    }
   ],
   "source": [
    "# 3.h. remove_correlated (graded test)\n",
    "# ====>>> YOUR ACTIONS: RUN ONLY\n",
    "\n",
    "print (\"3.h.'remove_correlated' - Test 3 (name: test3h_3-remove_correlated, points: 5)\")\n",
    "\n",
    "file_name_csv = '.' + os.sep + 'data' + os.sep + 'loans_risk_factor_cleansed_scaled_1.csv'\n",
    "\n",
    "try:    \n",
    "    risk_factor_df = load_csv(file_name_csv)\n",
    "    X, y = decouple_data(risk_factor_df)\n",
    "    X_train, X_test, y_train, y_test = split_data(X, y)\n",
    "    X_train_indep, X_test_indep = remove_correlated(X_train, X_test)\n",
    "except Exception as e:\n",
    "    print ('You probably have a syntax or implementation error,  \\nerror Message:',str(e), '\\nTry fixing your code')\n",
    "    raise\n",
    "\n",
    "\n",
    "assert 'years' in X_train_indep.columns and 'years' in X_test_indep.columns, \"Wrong set of columns in feature vectors dataframe 'X_train_indep' or 'X_test_indep' after 'remove_correlated'\"\n",
    "\n",
    "print (\"Good Job!\\nYou've passed the 3rd test for the 'remove_correlated' function implementation :-)\")    "
   ]
  },
  {
   "cell_type": "markdown",
   "metadata": {
    "deletable": false,
    "editable": false,
    "id": "O-3yOqG2B5VU",
    "nbgrader": {
     "cell_type": "markdown",
     "checksum": "0d07a996e91e7ada64bc2ecd393c9c4f",
     "grade": false,
     "grade_id": "cell-cf1cb99bdc67ef0f",
     "locked": true,
     "schema_version": 3,
     "solution": false,
     "task": false
    }
   },
   "source": [
    "#### 3.i. Categorical Columns Handling - **8 Points**\n",
    "\n",
    "\n",
    "<u>method name</u>: <b>handle_categorical_columns</b><br/>\n",
    "\n",
    "<hr>\n",
    "\n",
    "<u>dependency</u>: <br/>\n",
    "* <b>decouple_data</b></br> \n",
    "* <b>split_data</b></br> \n",
    "\n",
    "<hr>\n",
    "\n",
    "<pre>\n",
    "Complete the following function to transform categorical columns\n",
    " as a one-hot numerical columns (using pd.get_dummies) and return dataframe\n",
    "\n",
    "*make sure to transform the categorized columns in test set based on the train set's transformation*\n",
    "------------\n",
    "input parameters:\n",
    "- X_train - \"loan risk factor\" train dataset's feature vectors\n",
    "- X_test - \"loan risk factor\" test dataset's feature vectors\n",
    "------------\n",
    "The return statement should look like the following:\n",
    "return X_train, X_test\n",
    "</pre>  "
   ]
  },
  {
   "cell_type": "markdown",
   "metadata": {
    "deletable": false,
    "editable": false,
    "nbgrader": {
     "cell_type": "markdown",
     "checksum": "7e2da2de9353317c736b2579b516f1fb",
     "grade": false,
     "grade_id": "cell-82aead4106ba55ad",
     "locked": true,
     "schema_version": 3,
     "solution": false,
     "task": false
    }
   },
   "source": [
    "#### 3.i. Categorical Columns Handling - Implement and Run the following code cell:"
   ]
  },
  {
   "cell_type": "code",
   "execution_count": 46,
   "metadata": {
    "deletable": false,
    "id": "Mkv_hwvECid-",
    "nbgrader": {
     "cell_type": "code",
     "checksum": "9f29eeb1ca02dd4e153628e51825619b",
     "grade": false,
     "grade_id": "solution3g-handle_categ_cols",
     "locked": false,
     "schema_version": 3,
     "solution": true,
     "task": false
    }
   },
   "outputs": [],
   "source": [
    "# 3.i. handle_categorical_columns (your solution)\n",
    "# ====>>> YOUR ACTIONS: IMPLEMENT & RUN\n",
    "\n",
    "def handle_categorical_columns(X_train, X_test):\n",
    "    # YOUR CODE HERE\n",
    "    obj_df = X_train.select_dtypes(include = \"object\") #Getting the columns that are object \n",
    "    obj_cols = obj_df.columns #inserting the columns names we got from obj_df to obj_cols \n",
    "    obj_cols= list(obj_cols)  #turning it to a list to make easier calculations \n",
    "\n",
    "    X_train = pd.get_dummies(X_train, columns=obj_cols) #using get_dummies for X_train with the obj columns \n",
    "    X_test = pd.get_dummies(X_test, columns=obj_cols) #using get_dummies for X_train with the obj columns \n",
    "    return X_train, X_test"
   ]
  },
  {
   "cell_type": "markdown",
   "metadata": {
    "deletable": false,
    "editable": false,
    "nbgrader": {
     "cell_type": "markdown",
     "checksum": "36b47a86e043531aedf2fbe52f8d6f84",
     "grade": false,
     "grade_id": "cell-bbd19b7ad0083277",
     "locked": true,
     "schema_version": 3,
     "solution": false,
     "task": false
    }
   },
   "source": [
    "##### 3.i. handle_categorical_columns - OPTIONAL SELF TEST - Implement & Run the following code cell (IF NEEDED):"
   ]
  },
  {
   "cell_type": "code",
   "execution_count": 47,
   "metadata": {
    "colab": {
     "base_uri": "https://localhost:8080/"
    },
    "deletable": false,
    "id": "hqneXb5q2Slo",
    "nbgrader": {
     "cell_type": "code",
     "checksum": "3e6c55c4942cb3513725f63ea04c8550",
     "grade": false,
     "grade_id": "self_test3i-handle_categ_cols",
     "locked": false,
     "schema_version": 3,
     "solution": true,
     "task": false
    },
    "outputId": "d4a5c0a8-a727-4468-e560-98d6d8a78a8b"
   },
   "outputs": [
    {
     "data": {
      "text/html": [
       "<div>\n",
       "<style scoped>\n",
       "    .dataframe tbody tr th:only-of-type {\n",
       "        vertical-align: middle;\n",
       "    }\n",
       "\n",
       "    .dataframe tbody tr th {\n",
       "        vertical-align: top;\n",
       "    }\n",
       "\n",
       "    .dataframe thead th {\n",
       "        text-align: right;\n",
       "    }\n",
       "</style>\n",
       "<table border=\"1\" class=\"dataframe\">\n",
       "  <thead>\n",
       "    <tr style=\"text-align: right;\">\n",
       "      <th></th>\n",
       "      <th>age</th>\n",
       "      <th>job</th>\n",
       "      <th>years</th>\n",
       "      <th>credit_amount</th>\n",
       "      <th>duration</th>\n",
       "      <th>sex_female</th>\n",
       "      <th>sex_male</th>\n",
       "      <th>housing_free</th>\n",
       "      <th>housing_own</th>\n",
       "      <th>housing_rent</th>\n",
       "      <th>saving_account_little</th>\n",
       "      <th>saving_account_moderate</th>\n",
       "      <th>saving_account_quite rich</th>\n",
       "      <th>saving_account_rich</th>\n",
       "      <th>checking_account_little</th>\n",
       "      <th>checking_account_moderate</th>\n",
       "      <th>checking_account_rich</th>\n",
       "      <th>purpose_business</th>\n",
       "      <th>purpose_car</th>\n",
       "      <th>purpose_domestic appliances</th>\n",
       "      <th>purpose_education</th>\n",
       "      <th>purpose_furniture/equipment</th>\n",
       "      <th>purpose_radio/TV</th>\n",
       "      <th>purpose_repairs</th>\n",
       "      <th>purpose_vacation/others</th>\n",
       "    </tr>\n",
       "  </thead>\n",
       "  <tbody>\n",
       "    <tr>\n",
       "      <th>0</th>\n",
       "      <td>-0.492</td>\n",
       "      <td>2</td>\n",
       "      <td>-0.770</td>\n",
       "      <td>-0.299</td>\n",
       "      <td>-0.770</td>\n",
       "      <td>1</td>\n",
       "      <td>0</td>\n",
       "      <td>0</td>\n",
       "      <td>1</td>\n",
       "      <td>0</td>\n",
       "      <td>1</td>\n",
       "      <td>0</td>\n",
       "      <td>0</td>\n",
       "      <td>0</td>\n",
       "      <td>1</td>\n",
       "      <td>0</td>\n",
       "      <td>0</td>\n",
       "      <td>0</td>\n",
       "      <td>0</td>\n",
       "      <td>0</td>\n",
       "      <td>0</td>\n",
       "      <td>0</td>\n",
       "      <td>1</td>\n",
       "      <td>0</td>\n",
       "      <td>0</td>\n",
       "    </tr>\n",
       "    <tr>\n",
       "      <th>1</th>\n",
       "      <td>-1.088</td>\n",
       "      <td>2</td>\n",
       "      <td>-1.047</td>\n",
       "      <td>-0.786</td>\n",
       "      <td>-1.047</td>\n",
       "      <td>1</td>\n",
       "      <td>0</td>\n",
       "      <td>0</td>\n",
       "      <td>0</td>\n",
       "      <td>1</td>\n",
       "      <td>1</td>\n",
       "      <td>0</td>\n",
       "      <td>0</td>\n",
       "      <td>0</td>\n",
       "      <td>1</td>\n",
       "      <td>0</td>\n",
       "      <td>0</td>\n",
       "      <td>0</td>\n",
       "      <td>0</td>\n",
       "      <td>1</td>\n",
       "      <td>0</td>\n",
       "      <td>0</td>\n",
       "      <td>0</td>\n",
       "      <td>0</td>\n",
       "      <td>0</td>\n",
       "    </tr>\n",
       "    <tr>\n",
       "      <th>2</th>\n",
       "      <td>-0.492</td>\n",
       "      <td>1</td>\n",
       "      <td>0.341</td>\n",
       "      <td>-0.215</td>\n",
       "      <td>0.341</td>\n",
       "      <td>0</td>\n",
       "      <td>1</td>\n",
       "      <td>0</td>\n",
       "      <td>1</td>\n",
       "      <td>0</td>\n",
       "      <td>1</td>\n",
       "      <td>0</td>\n",
       "      <td>0</td>\n",
       "      <td>0</td>\n",
       "      <td>0</td>\n",
       "      <td>1</td>\n",
       "      <td>0</td>\n",
       "      <td>0</td>\n",
       "      <td>0</td>\n",
       "      <td>0</td>\n",
       "      <td>0</td>\n",
       "      <td>1</td>\n",
       "      <td>0</td>\n",
       "      <td>0</td>\n",
       "      <td>0</td>\n",
       "    </tr>\n",
       "    <tr>\n",
       "      <th>3</th>\n",
       "      <td>-0.691</td>\n",
       "      <td>0</td>\n",
       "      <td>-0.215</td>\n",
       "      <td>-1.039</td>\n",
       "      <td>-0.215</td>\n",
       "      <td>1</td>\n",
       "      <td>0</td>\n",
       "      <td>0</td>\n",
       "      <td>1</td>\n",
       "      <td>0</td>\n",
       "      <td>1</td>\n",
       "      <td>0</td>\n",
       "      <td>0</td>\n",
       "      <td>0</td>\n",
       "      <td>1</td>\n",
       "      <td>0</td>\n",
       "      <td>0</td>\n",
       "      <td>0</td>\n",
       "      <td>0</td>\n",
       "      <td>0</td>\n",
       "      <td>1</td>\n",
       "      <td>0</td>\n",
       "      <td>0</td>\n",
       "      <td>0</td>\n",
       "      <td>0</td>\n",
       "    </tr>\n",
       "    <tr>\n",
       "      <th>4</th>\n",
       "      <td>-0.194</td>\n",
       "      <td>2</td>\n",
       "      <td>-0.770</td>\n",
       "      <td>1.736</td>\n",
       "      <td>-0.770</td>\n",
       "      <td>0</td>\n",
       "      <td>1</td>\n",
       "      <td>0</td>\n",
       "      <td>1</td>\n",
       "      <td>0</td>\n",
       "      <td>1</td>\n",
       "      <td>0</td>\n",
       "      <td>0</td>\n",
       "      <td>0</td>\n",
       "      <td>0</td>\n",
       "      <td>1</td>\n",
       "      <td>0</td>\n",
       "      <td>0</td>\n",
       "      <td>1</td>\n",
       "      <td>0</td>\n",
       "      <td>0</td>\n",
       "      <td>0</td>\n",
       "      <td>0</td>\n",
       "      <td>0</td>\n",
       "      <td>0</td>\n",
       "    </tr>\n",
       "    <tr>\n",
       "      <th>...</th>\n",
       "      <td>...</td>\n",
       "      <td>...</td>\n",
       "      <td>...</td>\n",
       "      <td>...</td>\n",
       "      <td>...</td>\n",
       "      <td>...</td>\n",
       "      <td>...</td>\n",
       "      <td>...</td>\n",
       "      <td>...</td>\n",
       "      <td>...</td>\n",
       "      <td>...</td>\n",
       "      <td>...</td>\n",
       "      <td>...</td>\n",
       "      <td>...</td>\n",
       "      <td>...</td>\n",
       "      <td>...</td>\n",
       "      <td>...</td>\n",
       "      <td>...</td>\n",
       "      <td>...</td>\n",
       "      <td>...</td>\n",
       "      <td>...</td>\n",
       "      <td>...</td>\n",
       "      <td>...</td>\n",
       "      <td>...</td>\n",
       "      <td>...</td>\n",
       "    </tr>\n",
       "    <tr>\n",
       "      <th>384</th>\n",
       "      <td>-0.790</td>\n",
       "      <td>0</td>\n",
       "      <td>-0.770</td>\n",
       "      <td>-1.113</td>\n",
       "      <td>-0.770</td>\n",
       "      <td>1</td>\n",
       "      <td>0</td>\n",
       "      <td>0</td>\n",
       "      <td>1</td>\n",
       "      <td>0</td>\n",
       "      <td>1</td>\n",
       "      <td>0</td>\n",
       "      <td>0</td>\n",
       "      <td>0</td>\n",
       "      <td>0</td>\n",
       "      <td>0</td>\n",
       "      <td>1</td>\n",
       "      <td>1</td>\n",
       "      <td>0</td>\n",
       "      <td>0</td>\n",
       "      <td>0</td>\n",
       "      <td>0</td>\n",
       "      <td>0</td>\n",
       "      <td>0</td>\n",
       "      <td>0</td>\n",
       "    </tr>\n",
       "    <tr>\n",
       "      <th>385</th>\n",
       "      <td>0.104</td>\n",
       "      <td>2</td>\n",
       "      <td>-1.047</td>\n",
       "      <td>-0.430</td>\n",
       "      <td>-1.047</td>\n",
       "      <td>0</td>\n",
       "      <td>1</td>\n",
       "      <td>0</td>\n",
       "      <td>0</td>\n",
       "      <td>1</td>\n",
       "      <td>1</td>\n",
       "      <td>0</td>\n",
       "      <td>0</td>\n",
       "      <td>0</td>\n",
       "      <td>0</td>\n",
       "      <td>1</td>\n",
       "      <td>0</td>\n",
       "      <td>0</td>\n",
       "      <td>0</td>\n",
       "      <td>0</td>\n",
       "      <td>0</td>\n",
       "      <td>1</td>\n",
       "      <td>0</td>\n",
       "      <td>0</td>\n",
       "      <td>0</td>\n",
       "    </tr>\n",
       "    <tr>\n",
       "      <th>386</th>\n",
       "      <td>-0.293</td>\n",
       "      <td>2</td>\n",
       "      <td>2.561</td>\n",
       "      <td>1.753</td>\n",
       "      <td>2.561</td>\n",
       "      <td>0</td>\n",
       "      <td>1</td>\n",
       "      <td>1</td>\n",
       "      <td>0</td>\n",
       "      <td>0</td>\n",
       "      <td>1</td>\n",
       "      <td>0</td>\n",
       "      <td>0</td>\n",
       "      <td>0</td>\n",
       "      <td>1</td>\n",
       "      <td>0</td>\n",
       "      <td>0</td>\n",
       "      <td>0</td>\n",
       "      <td>0</td>\n",
       "      <td>0</td>\n",
       "      <td>1</td>\n",
       "      <td>0</td>\n",
       "      <td>0</td>\n",
       "      <td>0</td>\n",
       "      <td>0</td>\n",
       "    </tr>\n",
       "    <tr>\n",
       "      <th>387</th>\n",
       "      <td>0.005</td>\n",
       "      <td>3</td>\n",
       "      <td>-1.047</td>\n",
       "      <td>-0.648</td>\n",
       "      <td>-1.047</td>\n",
       "      <td>1</td>\n",
       "      <td>0</td>\n",
       "      <td>0</td>\n",
       "      <td>1</td>\n",
       "      <td>0</td>\n",
       "      <td>1</td>\n",
       "      <td>0</td>\n",
       "      <td>0</td>\n",
       "      <td>0</td>\n",
       "      <td>0</td>\n",
       "      <td>1</td>\n",
       "      <td>0</td>\n",
       "      <td>0</td>\n",
       "      <td>0</td>\n",
       "      <td>0</td>\n",
       "      <td>1</td>\n",
       "      <td>0</td>\n",
       "      <td>0</td>\n",
       "      <td>0</td>\n",
       "      <td>0</td>\n",
       "    </tr>\n",
       "    <tr>\n",
       "      <th>388</th>\n",
       "      <td>1.595</td>\n",
       "      <td>2</td>\n",
       "      <td>-0.492</td>\n",
       "      <td>-0.629</td>\n",
       "      <td>-0.492</td>\n",
       "      <td>0</td>\n",
       "      <td>1</td>\n",
       "      <td>0</td>\n",
       "      <td>1</td>\n",
       "      <td>0</td>\n",
       "      <td>1</td>\n",
       "      <td>0</td>\n",
       "      <td>0</td>\n",
       "      <td>0</td>\n",
       "      <td>0</td>\n",
       "      <td>1</td>\n",
       "      <td>0</td>\n",
       "      <td>0</td>\n",
       "      <td>0</td>\n",
       "      <td>0</td>\n",
       "      <td>0</td>\n",
       "      <td>0</td>\n",
       "      <td>1</td>\n",
       "      <td>0</td>\n",
       "      <td>0</td>\n",
       "    </tr>\n",
       "  </tbody>\n",
       "</table>\n",
       "<p>389 rows × 25 columns</p>\n",
       "</div>"
      ],
      "text/plain": [
       "       age  job  years  credit_amount  duration  sex_female  sex_male  \\\n",
       "0   -0.492    2 -0.770         -0.299    -0.770           1         0   \n",
       "1   -1.088    2 -1.047         -0.786    -1.047           1         0   \n",
       "2   -0.492    1  0.341         -0.215     0.341           0         1   \n",
       "3   -0.691    0 -0.215         -1.039    -0.215           1         0   \n",
       "4   -0.194    2 -0.770          1.736    -0.770           0         1   \n",
       "..     ...  ...    ...            ...       ...         ...       ...   \n",
       "384 -0.790    0 -0.770         -1.113    -0.770           1         0   \n",
       "385  0.104    2 -1.047         -0.430    -1.047           0         1   \n",
       "386 -0.293    2  2.561          1.753     2.561           0         1   \n",
       "387  0.005    3 -1.047         -0.648    -1.047           1         0   \n",
       "388  1.595    2 -0.492         -0.629    -0.492           0         1   \n",
       "\n",
       "     housing_free  housing_own  housing_rent  saving_account_little  \\\n",
       "0               0            1             0                      1   \n",
       "1               0            0             1                      1   \n",
       "2               0            1             0                      1   \n",
       "3               0            1             0                      1   \n",
       "4               0            1             0                      1   \n",
       "..            ...          ...           ...                    ...   \n",
       "384             0            1             0                      1   \n",
       "385             0            0             1                      1   \n",
       "386             1            0             0                      1   \n",
       "387             0            1             0                      1   \n",
       "388             0            1             0                      1   \n",
       "\n",
       "     saving_account_moderate  saving_account_quite rich  saving_account_rich  \\\n",
       "0                          0                          0                    0   \n",
       "1                          0                          0                    0   \n",
       "2                          0                          0                    0   \n",
       "3                          0                          0                    0   \n",
       "4                          0                          0                    0   \n",
       "..                       ...                        ...                  ...   \n",
       "384                        0                          0                    0   \n",
       "385                        0                          0                    0   \n",
       "386                        0                          0                    0   \n",
       "387                        0                          0                    0   \n",
       "388                        0                          0                    0   \n",
       "\n",
       "     checking_account_little  checking_account_moderate  \\\n",
       "0                          1                          0   \n",
       "1                          1                          0   \n",
       "2                          0                          1   \n",
       "3                          1                          0   \n",
       "4                          0                          1   \n",
       "..                       ...                        ...   \n",
       "384                        0                          0   \n",
       "385                        0                          1   \n",
       "386                        1                          0   \n",
       "387                        0                          1   \n",
       "388                        0                          1   \n",
       "\n",
       "     checking_account_rich  purpose_business  purpose_car  \\\n",
       "0                        0                 0            0   \n",
       "1                        0                 0            0   \n",
       "2                        0                 0            0   \n",
       "3                        0                 0            0   \n",
       "4                        0                 0            1   \n",
       "..                     ...               ...          ...   \n",
       "384                      1                 1            0   \n",
       "385                      0                 0            0   \n",
       "386                      0                 0            0   \n",
       "387                      0                 0            0   \n",
       "388                      0                 0            0   \n",
       "\n",
       "     purpose_domestic appliances  purpose_education  \\\n",
       "0                              0                  0   \n",
       "1                              1                  0   \n",
       "2                              0                  0   \n",
       "3                              0                  1   \n",
       "4                              0                  0   \n",
       "..                           ...                ...   \n",
       "384                            0                  0   \n",
       "385                            0                  0   \n",
       "386                            0                  1   \n",
       "387                            0                  1   \n",
       "388                            0                  0   \n",
       "\n",
       "     purpose_furniture/equipment  purpose_radio/TV  purpose_repairs  \\\n",
       "0                              0                 1                0   \n",
       "1                              0                 0                0   \n",
       "2                              1                 0                0   \n",
       "3                              0                 0                0   \n",
       "4                              0                 0                0   \n",
       "..                           ...               ...              ...   \n",
       "384                            0                 0                0   \n",
       "385                            1                 0                0   \n",
       "386                            0                 0                0   \n",
       "387                            0                 0                0   \n",
       "388                            0                 1                0   \n",
       "\n",
       "     purpose_vacation/others  \n",
       "0                          0  \n",
       "1                          0  \n",
       "2                          0  \n",
       "3                          0  \n",
       "4                          0  \n",
       "..                       ...  \n",
       "384                        0  \n",
       "385                        0  \n",
       "386                        0  \n",
       "387                        0  \n",
       "388                        0  \n",
       "\n",
       "[389 rows x 25 columns]"
      ]
     },
     "execution_count": 47,
     "metadata": {},
     "output_type": "execute_result"
    },
    {
     "data": {
      "text/html": [
       "<div>\n",
       "<style scoped>\n",
       "    .dataframe tbody tr th:only-of-type {\n",
       "        vertical-align: middle;\n",
       "    }\n",
       "\n",
       "    .dataframe tbody tr th {\n",
       "        vertical-align: top;\n",
       "    }\n",
       "\n",
       "    .dataframe thead th {\n",
       "        text-align: right;\n",
       "    }\n",
       "</style>\n",
       "<table border=\"1\" class=\"dataframe\">\n",
       "  <thead>\n",
       "    <tr style=\"text-align: right;\">\n",
       "      <th></th>\n",
       "      <th>age</th>\n",
       "      <th>job</th>\n",
       "      <th>years</th>\n",
       "      <th>credit_amount</th>\n",
       "      <th>duration</th>\n",
       "      <th>sex_female</th>\n",
       "      <th>sex_male</th>\n",
       "      <th>housing_free</th>\n",
       "      <th>housing_own</th>\n",
       "      <th>housing_rent</th>\n",
       "      <th>saving_account_little</th>\n",
       "      <th>saving_account_moderate</th>\n",
       "      <th>saving_account_quite rich</th>\n",
       "      <th>saving_account_rich</th>\n",
       "      <th>checking_account_little</th>\n",
       "      <th>checking_account_moderate</th>\n",
       "      <th>checking_account_rich</th>\n",
       "      <th>purpose_business</th>\n",
       "      <th>purpose_car</th>\n",
       "      <th>purpose_domestic appliances</th>\n",
       "      <th>purpose_education</th>\n",
       "      <th>purpose_furniture/equipment</th>\n",
       "      <th>purpose_radio/TV</th>\n",
       "      <th>purpose_repairs</th>\n",
       "      <th>purpose_vacation/others</th>\n",
       "    </tr>\n",
       "  </thead>\n",
       "  <tbody>\n",
       "    <tr>\n",
       "      <th>389</th>\n",
       "      <td>-0.293</td>\n",
       "      <td>2</td>\n",
       "      <td>2.561</td>\n",
       "      <td>2.090</td>\n",
       "      <td>2.561</td>\n",
       "      <td>1</td>\n",
       "      <td>0</td>\n",
       "      <td>0</td>\n",
       "      <td>1</td>\n",
       "      <td>0</td>\n",
       "      <td>1</td>\n",
       "      <td>0</td>\n",
       "      <td>0</td>\n",
       "      <td>0</td>\n",
       "      <td>1</td>\n",
       "      <td>0</td>\n",
       "      <td>0</td>\n",
       "      <td>0</td>\n",
       "      <td>0</td>\n",
       "      <td>0</td>\n",
       "      <td>0</td>\n",
       "      <td>0</td>\n",
       "      <td>1</td>\n",
       "      <td>0</td>\n",
       "      <td>0</td>\n",
       "    </tr>\n",
       "    <tr>\n",
       "      <th>390</th>\n",
       "      <td>-0.989</td>\n",
       "      <td>2</td>\n",
       "      <td>0.896</td>\n",
       "      <td>1.793</td>\n",
       "      <td>0.896</td>\n",
       "      <td>0</td>\n",
       "      <td>1</td>\n",
       "      <td>0</td>\n",
       "      <td>0</td>\n",
       "      <td>1</td>\n",
       "      <td>0</td>\n",
       "      <td>1</td>\n",
       "      <td>0</td>\n",
       "      <td>0</td>\n",
       "      <td>1</td>\n",
       "      <td>0</td>\n",
       "      <td>0</td>\n",
       "      <td>0</td>\n",
       "      <td>1</td>\n",
       "      <td>0</td>\n",
       "      <td>0</td>\n",
       "      <td>0</td>\n",
       "      <td>0</td>\n",
       "      <td>0</td>\n",
       "      <td>0</td>\n",
       "    </tr>\n",
       "    <tr>\n",
       "      <th>391</th>\n",
       "      <td>-0.293</td>\n",
       "      <td>2</td>\n",
       "      <td>-1.325</td>\n",
       "      <td>-0.675</td>\n",
       "      <td>-1.325</td>\n",
       "      <td>0</td>\n",
       "      <td>1</td>\n",
       "      <td>0</td>\n",
       "      <td>1</td>\n",
       "      <td>0</td>\n",
       "      <td>0</td>\n",
       "      <td>1</td>\n",
       "      <td>0</td>\n",
       "      <td>0</td>\n",
       "      <td>0</td>\n",
       "      <td>1</td>\n",
       "      <td>0</td>\n",
       "      <td>1</td>\n",
       "      <td>0</td>\n",
       "      <td>0</td>\n",
       "      <td>0</td>\n",
       "      <td>0</td>\n",
       "      <td>0</td>\n",
       "      <td>0</td>\n",
       "      <td>0</td>\n",
       "    </tr>\n",
       "    <tr>\n",
       "      <th>392</th>\n",
       "      <td>-0.492</td>\n",
       "      <td>2</td>\n",
       "      <td>1.451</td>\n",
       "      <td>2.157</td>\n",
       "      <td>1.451</td>\n",
       "      <td>0</td>\n",
       "      <td>1</td>\n",
       "      <td>0</td>\n",
       "      <td>1</td>\n",
       "      <td>0</td>\n",
       "      <td>1</td>\n",
       "      <td>0</td>\n",
       "      <td>0</td>\n",
       "      <td>0</td>\n",
       "      <td>1</td>\n",
       "      <td>0</td>\n",
       "      <td>0</td>\n",
       "      <td>0</td>\n",
       "      <td>0</td>\n",
       "      <td>0</td>\n",
       "      <td>1</td>\n",
       "      <td>0</td>\n",
       "      <td>0</td>\n",
       "      <td>0</td>\n",
       "      <td>0</td>\n",
       "    </tr>\n",
       "    <tr>\n",
       "      <th>393</th>\n",
       "      <td>0.204</td>\n",
       "      <td>2</td>\n",
       "      <td>1.451</td>\n",
       "      <td>1.854</td>\n",
       "      <td>1.451</td>\n",
       "      <td>0</td>\n",
       "      <td>1</td>\n",
       "      <td>0</td>\n",
       "      <td>1</td>\n",
       "      <td>0</td>\n",
       "      <td>1</td>\n",
       "      <td>0</td>\n",
       "      <td>0</td>\n",
       "      <td>0</td>\n",
       "      <td>1</td>\n",
       "      <td>0</td>\n",
       "      <td>0</td>\n",
       "      <td>1</td>\n",
       "      <td>0</td>\n",
       "      <td>0</td>\n",
       "      <td>0</td>\n",
       "      <td>0</td>\n",
       "      <td>0</td>\n",
       "      <td>0</td>\n",
       "      <td>0</td>\n",
       "    </tr>\n",
       "    <tr>\n",
       "      <th>...</th>\n",
       "      <td>...</td>\n",
       "      <td>...</td>\n",
       "      <td>...</td>\n",
       "      <td>...</td>\n",
       "      <td>...</td>\n",
       "      <td>...</td>\n",
       "      <td>...</td>\n",
       "      <td>...</td>\n",
       "      <td>...</td>\n",
       "      <td>...</td>\n",
       "      <td>...</td>\n",
       "      <td>...</td>\n",
       "      <td>...</td>\n",
       "      <td>...</td>\n",
       "      <td>...</td>\n",
       "      <td>...</td>\n",
       "      <td>...</td>\n",
       "      <td>...</td>\n",
       "      <td>...</td>\n",
       "      <td>...</td>\n",
       "      <td>...</td>\n",
       "      <td>...</td>\n",
       "      <td>...</td>\n",
       "      <td>...</td>\n",
       "      <td>...</td>\n",
       "    </tr>\n",
       "    <tr>\n",
       "      <th>482</th>\n",
       "      <td>0.899</td>\n",
       "      <td>2</td>\n",
       "      <td>-0.400</td>\n",
       "      <td>-0.063</td>\n",
       "      <td>-0.400</td>\n",
       "      <td>0</td>\n",
       "      <td>1</td>\n",
       "      <td>0</td>\n",
       "      <td>0</td>\n",
       "      <td>1</td>\n",
       "      <td>1</td>\n",
       "      <td>0</td>\n",
       "      <td>0</td>\n",
       "      <td>0</td>\n",
       "      <td>1</td>\n",
       "      <td>0</td>\n",
       "      <td>0</td>\n",
       "      <td>0</td>\n",
       "      <td>1</td>\n",
       "      <td>0</td>\n",
       "      <td>0</td>\n",
       "      <td>0</td>\n",
       "      <td>0</td>\n",
       "      <td>0</td>\n",
       "      <td>0</td>\n",
       "    </tr>\n",
       "    <tr>\n",
       "      <th>483</th>\n",
       "      <td>0.601</td>\n",
       "      <td>0</td>\n",
       "      <td>2.561</td>\n",
       "      <td>1.373</td>\n",
       "      <td>2.561</td>\n",
       "      <td>0</td>\n",
       "      <td>1</td>\n",
       "      <td>1</td>\n",
       "      <td>0</td>\n",
       "      <td>0</td>\n",
       "      <td>1</td>\n",
       "      <td>0</td>\n",
       "      <td>0</td>\n",
       "      <td>0</td>\n",
       "      <td>0</td>\n",
       "      <td>1</td>\n",
       "      <td>0</td>\n",
       "      <td>0</td>\n",
       "      <td>0</td>\n",
       "      <td>0</td>\n",
       "      <td>0</td>\n",
       "      <td>0</td>\n",
       "      <td>0</td>\n",
       "      <td>0</td>\n",
       "      <td>1</td>\n",
       "    </tr>\n",
       "    <tr>\n",
       "      <th>484</th>\n",
       "      <td>-0.989</td>\n",
       "      <td>2</td>\n",
       "      <td>0.341</td>\n",
       "      <td>1.561</td>\n",
       "      <td>0.341</td>\n",
       "      <td>1</td>\n",
       "      <td>0</td>\n",
       "      <td>1</td>\n",
       "      <td>0</td>\n",
       "      <td>0</td>\n",
       "      <td>1</td>\n",
       "      <td>0</td>\n",
       "      <td>0</td>\n",
       "      <td>0</td>\n",
       "      <td>0</td>\n",
       "      <td>1</td>\n",
       "      <td>0</td>\n",
       "      <td>0</td>\n",
       "      <td>0</td>\n",
       "      <td>0</td>\n",
       "      <td>1</td>\n",
       "      <td>0</td>\n",
       "      <td>0</td>\n",
       "      <td>0</td>\n",
       "      <td>0</td>\n",
       "    </tr>\n",
       "    <tr>\n",
       "      <th>485</th>\n",
       "      <td>2.092</td>\n",
       "      <td>2</td>\n",
       "      <td>-0.770</td>\n",
       "      <td>-0.694</td>\n",
       "      <td>-0.770</td>\n",
       "      <td>0</td>\n",
       "      <td>1</td>\n",
       "      <td>0</td>\n",
       "      <td>1</td>\n",
       "      <td>0</td>\n",
       "      <td>0</td>\n",
       "      <td>0</td>\n",
       "      <td>0</td>\n",
       "      <td>1</td>\n",
       "      <td>1</td>\n",
       "      <td>0</td>\n",
       "      <td>0</td>\n",
       "      <td>0</td>\n",
       "      <td>1</td>\n",
       "      <td>0</td>\n",
       "      <td>0</td>\n",
       "      <td>0</td>\n",
       "      <td>0</td>\n",
       "      <td>0</td>\n",
       "      <td>0</td>\n",
       "    </tr>\n",
       "    <tr>\n",
       "      <th>486</th>\n",
       "      <td>0.104</td>\n",
       "      <td>2</td>\n",
       "      <td>-0.770</td>\n",
       "      <td>-0.315</td>\n",
       "      <td>-0.770</td>\n",
       "      <td>0</td>\n",
       "      <td>1</td>\n",
       "      <td>0</td>\n",
       "      <td>1</td>\n",
       "      <td>0</td>\n",
       "      <td>0</td>\n",
       "      <td>1</td>\n",
       "      <td>0</td>\n",
       "      <td>0</td>\n",
       "      <td>1</td>\n",
       "      <td>0</td>\n",
       "      <td>0</td>\n",
       "      <td>0</td>\n",
       "      <td>0</td>\n",
       "      <td>0</td>\n",
       "      <td>0</td>\n",
       "      <td>0</td>\n",
       "      <td>1</td>\n",
       "      <td>0</td>\n",
       "      <td>0</td>\n",
       "    </tr>\n",
       "  </tbody>\n",
       "</table>\n",
       "<p>98 rows × 25 columns</p>\n",
       "</div>"
      ],
      "text/plain": [
       "       age  job  years  credit_amount  duration  sex_female  sex_male  \\\n",
       "389 -0.293    2  2.561          2.090     2.561           1         0   \n",
       "390 -0.989    2  0.896          1.793     0.896           0         1   \n",
       "391 -0.293    2 -1.325         -0.675    -1.325           0         1   \n",
       "392 -0.492    2  1.451          2.157     1.451           0         1   \n",
       "393  0.204    2  1.451          1.854     1.451           0         1   \n",
       "..     ...  ...    ...            ...       ...         ...       ...   \n",
       "482  0.899    2 -0.400         -0.063    -0.400           0         1   \n",
       "483  0.601    0  2.561          1.373     2.561           0         1   \n",
       "484 -0.989    2  0.341          1.561     0.341           1         0   \n",
       "485  2.092    2 -0.770         -0.694    -0.770           0         1   \n",
       "486  0.104    2 -0.770         -0.315    -0.770           0         1   \n",
       "\n",
       "     housing_free  housing_own  housing_rent  saving_account_little  \\\n",
       "389             0            1             0                      1   \n",
       "390             0            0             1                      0   \n",
       "391             0            1             0                      0   \n",
       "392             0            1             0                      1   \n",
       "393             0            1             0                      1   \n",
       "..            ...          ...           ...                    ...   \n",
       "482             0            0             1                      1   \n",
       "483             1            0             0                      1   \n",
       "484             1            0             0                      1   \n",
       "485             0            1             0                      0   \n",
       "486             0            1             0                      0   \n",
       "\n",
       "     saving_account_moderate  saving_account_quite rich  saving_account_rich  \\\n",
       "389                        0                          0                    0   \n",
       "390                        1                          0                    0   \n",
       "391                        1                          0                    0   \n",
       "392                        0                          0                    0   \n",
       "393                        0                          0                    0   \n",
       "..                       ...                        ...                  ...   \n",
       "482                        0                          0                    0   \n",
       "483                        0                          0                    0   \n",
       "484                        0                          0                    0   \n",
       "485                        0                          0                    1   \n",
       "486                        1                          0                    0   \n",
       "\n",
       "     checking_account_little  checking_account_moderate  \\\n",
       "389                        1                          0   \n",
       "390                        1                          0   \n",
       "391                        0                          1   \n",
       "392                        1                          0   \n",
       "393                        1                          0   \n",
       "..                       ...                        ...   \n",
       "482                        1                          0   \n",
       "483                        0                          1   \n",
       "484                        0                          1   \n",
       "485                        1                          0   \n",
       "486                        1                          0   \n",
       "\n",
       "     checking_account_rich  purpose_business  purpose_car  \\\n",
       "389                      0                 0            0   \n",
       "390                      0                 0            1   \n",
       "391                      0                 1            0   \n",
       "392                      0                 0            0   \n",
       "393                      0                 1            0   \n",
       "..                     ...               ...          ...   \n",
       "482                      0                 0            1   \n",
       "483                      0                 0            0   \n",
       "484                      0                 0            0   \n",
       "485                      0                 0            1   \n",
       "486                      0                 0            0   \n",
       "\n",
       "     purpose_domestic appliances  purpose_education  \\\n",
       "389                            0                  0   \n",
       "390                            0                  0   \n",
       "391                            0                  0   \n",
       "392                            0                  1   \n",
       "393                            0                  0   \n",
       "..                           ...                ...   \n",
       "482                            0                  0   \n",
       "483                            0                  0   \n",
       "484                            0                  1   \n",
       "485                            0                  0   \n",
       "486                            0                  0   \n",
       "\n",
       "     purpose_furniture/equipment  purpose_radio/TV  purpose_repairs  \\\n",
       "389                            0                 1                0   \n",
       "390                            0                 0                0   \n",
       "391                            0                 0                0   \n",
       "392                            0                 0                0   \n",
       "393                            0                 0                0   \n",
       "..                           ...               ...              ...   \n",
       "482                            0                 0                0   \n",
       "483                            0                 0                0   \n",
       "484                            0                 0                0   \n",
       "485                            0                 0                0   \n",
       "486                            0                 1                0   \n",
       "\n",
       "     purpose_vacation/others  \n",
       "389                        0  \n",
       "390                        0  \n",
       "391                        0  \n",
       "392                        0  \n",
       "393                        0  \n",
       "..                       ...  \n",
       "482                        0  \n",
       "483                        1  \n",
       "484                        0  \n",
       "485                        0  \n",
       "486                        0  \n",
       "\n",
       "[98 rows x 25 columns]"
      ]
     },
     "execution_count": 47,
     "metadata": {},
     "output_type": "execute_result"
    }
   ],
   "source": [
    "# 3.i. handle_categorical_columns (optional self testing)\n",
    "# ====>>> YOUR ACTIONS: (optional) IMPLEMENT & RUN \n",
    "file_name_csv = '.' + os.sep + 'data' + os.sep + 'loans_risk_factor_cleansed_scaled_1.csv'\n",
    "risk_factor_df = load_csv(file_name_csv)\n",
    "X, y = decouple_data(risk_factor_df)\n",
    "X_train, X_test, y_train, y_test = split_data(X, y)\n",
    "X_train_to_numeric, X_test_to_numeric = handle_categorical_columns(X_train, X_test)\n",
    "# --- add additional code to check your code if needed:\n",
    "# YOUR CODE HERE\n",
    "X_train_to_numeric\n",
    "X_test_to_numeric"
   ]
  },
  {
   "cell_type": "markdown",
   "metadata": {
    "deletable": false,
    "editable": false,
    "nbgrader": {
     "cell_type": "markdown",
     "checksum": "c0352199d843efdfb845559a0880f15a",
     "grade": false,
     "grade_id": "cell-6fedd02f655d3516",
     "locked": true,
     "schema_version": 3,
     "solution": false,
     "task": false
    }
   },
   "source": [
    "##### 3.i. handle_categorical_columns - GRADED TESTS - Run the following (2) code cells:"
   ]
  },
  {
   "cell_type": "code",
   "execution_count": 48,
   "metadata": {
    "deletable": false,
    "editable": false,
    "nbgrader": {
     "cell_type": "code",
     "checksum": "aee268b3b23962758dd5325a43d6034d",
     "grade": true,
     "grade_id": "test3i_1-handle_categ_cols",
     "locked": true,
     "points": 1,
     "schema_version": 3,
     "solution": false,
     "task": false
    }
   },
   "outputs": [
    {
     "name": "stdout",
     "output_type": "stream",
     "text": [
      "3.i.'handle_categorical_columns' - Test 1 (name: test3i_1-handle_categ_cols, points: 1) - Sanity\n",
      "Good Job!\n",
      "You've passed the 1st test for the 'handle_categorical_columns' function implementation :-)\n"
     ]
    }
   ],
   "source": [
    "# 3.i. handle_categorical_columns (graded test)\n",
    "# ====>>> YOUR ACTIONS: RUN ONLY\n",
    "\n",
    "print (\"3.i.'handle_categorical_columns' - Test 1 (name: test3i_1-handle_categ_cols, points: 1) - Sanity\")\n",
    "\n",
    "file_name_csv = '.' + os.sep + 'data' + os.sep + 'loans_risk_factor_cleansed_scaled_1.csv'\n",
    "\n",
    "try:    \n",
    "    risk_factor_df = load_csv(file_name_csv)\n",
    "    X, y = decouple_data(risk_factor_df)\n",
    "    X_train, X_test, y_train, y_test = split_data(X, y)\n",
    "    X_train_to_numeric, X_test_to_numeric = handle_categorical_columns(X_train, X_test)\n",
    "except Exception as e:\n",
    "    print ('You probably have a syntax or implementation error,  \\nerror Message:',str(e), '\\nTry fixing your code')\n",
    "    raise\n",
    "\n",
    "print (\"Good Job!\\nYou've passed the 1st test for the 'handle_categorical_columns' function implementation :-)\")    "
   ]
  },
  {
   "cell_type": "code",
   "execution_count": 49,
   "metadata": {
    "deletable": false,
    "editable": false,
    "nbgrader": {
     "cell_type": "code",
     "checksum": "4bdff0eb9a3755becdeed62fcbd6e4d1",
     "grade": true,
     "grade_id": "test3i_2-handle_categ_cols",
     "locked": true,
     "points": 3,
     "schema_version": 3,
     "solution": false,
     "task": false
    }
   },
   "outputs": [
    {
     "name": "stdout",
     "output_type": "stream",
     "text": [
      "3.i.'handle_categorical_columns' - Test 2 (name: test3i_2-handle_categ_cols, points: 3)\n",
      "Good Job!\n",
      "You've passed the 2nd test for the 'handle_categorical_columns' function implementation :-)\n"
     ]
    }
   ],
   "source": [
    "# 3.i. handle_categorical_columns (graded test)\n",
    "# ====>>> YOUR ACTIONS: RUN ONLY\n",
    "\n",
    "print (\"3.i.'handle_categorical_columns' - Test 2 (name: test3i_2-handle_categ_cols, points: 3)\")\n",
    "\n",
    "file_name_csv = '.' + os.sep + 'data' + os.sep + 'loans_risk_factor_cleansed_scaled_1.csv'\n",
    "\n",
    "try:    \n",
    "    risk_factor_df = load_csv(file_name_csv)\n",
    "    X, y = decouple_data(risk_factor_df)\n",
    "    X_train, X_test, y_train, y_test = split_data(X, y)\n",
    "    X_train_to_numeric, X_test_to_numeric = handle_categorical_columns(X_train, X_test)\n",
    "except Exception as e:\n",
    "    print ('You probably have a syntax or implementation error,  \\nerror Message:',str(e), '\\nTry fixing your code')\n",
    "    raise\n",
    "    \n",
    "assert (389, 25) == X_train_to_numeric.shape, \"Wrong shape for feature vectors dataframe X_train_to_numeric or X_test_to_numeric after 'handle_categorical_columns'\"\n",
    "    \n",
    "print (\"Good Job!\\nYou've passed the 2nd test for the 'handle_categorical_columns' function implementation :-)\")    "
   ]
  },
  {
   "cell_type": "code",
   "execution_count": 50,
   "metadata": {
    "deletable": false,
    "editable": false,
    "nbgrader": {
     "cell_type": "code",
     "checksum": "23a7274c8a466bf982b954fb1e4399c9",
     "grade": true,
     "grade_id": "test3i_3-handle_categ_cols",
     "locked": true,
     "points": 4,
     "schema_version": 3,
     "solution": false,
     "task": false
    }
   },
   "outputs": [
    {
     "name": "stdout",
     "output_type": "stream",
     "text": [
      "3.i.'handle_categorical_columns' - Test 3 (name: test3i_3-handle_categ_cols, points: 4)\n",
      "Good Job!\n",
      "You've passed the 3rd test for the 'handle_categorical_columns' function implementation :-)\n"
     ]
    }
   ],
   "source": [
    "# 3.i. handle_categorical_columns (graded test)\n",
    "# ====>>> YOUR ACTIONS: RUN ONLY\n",
    "\n",
    "print (\"3.i.'handle_categorical_columns' - Test 3 (name: test3i_3-handle_categ_cols, points: 4)\")\n",
    "\n",
    "file_name_csv = '.' + os.sep + 'data' + os.sep + 'loans_risk_factor_cleansed_scaled_1.csv'\n",
    "\n",
    "try:    \n",
    "    risk_factor_df = load_csv(file_name_csv)\n",
    "    X, y = decouple_data(risk_factor_df)\n",
    "    X_train, X_test, y_train, y_test = split_data(X, y)\n",
    "    X_train_to_numeric, X_test_to_numeric = handle_categorical_columns(X_train, X_test)\n",
    "except Exception as e:\n",
    "    print ('You probably have a syntax or implementation error,  \\nerror Message:',str(e), '\\nTry fixing your code')\n",
    "    raise\n",
    "\n",
    "assert (98, 25) == X_test_to_numeric.shape, \"Wrong shape for feature vectors dataframe X_train_to_numeric or X_test_to_numeric after 'handle_categorical_columns'\"\n",
    "    \n",
    "print (\"Good Job!\\nYou've passed the 3rd test for the 'handle_categorical_columns' function implementation :-)\")    "
   ]
  },
  {
   "cell_type": "markdown",
   "metadata": {
    "deletable": false,
    "editable": false,
    "id": "ks8Qd7GEG62h",
    "nbgrader": {
     "cell_type": "markdown",
     "checksum": "acd1c43f613db9c54e99504a3bbc7bb4",
     "grade": false,
     "grade_id": "cell-cabf591a29105bf3",
     "locked": true,
     "schema_version": 3,
     "solution": false,
     "task": false
    }
   },
   "source": [
    "[Go to the beginning of the assignment](#home)\n",
    "<a id=\"model_implement\"></a>\n",
    "###  4. Model Implementation - **15 Points**\n",
    "\n",
    "Your goal in this section is to build a machine learning model on all of the columns except the target column `risk` to predict `risk` binary label.\n",
    "\n",
    "In essence, the `risk` column is our **target variable** (also called `y` or `labels`) and the rest of the other columns are our independent variables (also called `data` or `X`).\n",
    "\n",
    "And since our target variable is one thing or another (risk or no-risk), we know our problem is a classification problem (classifying whether something is one thing or another).\n",
    "\n",
    "<hr>\n",
    "\n",
    "<b><u>This section includes the following</u></b>:\n",
    "* 4.a. Build KNN model             (5 points)\n",
    "* 4.b. Build Naive Bayes model     (5 points)\n",
    "* 4.c. Build Decision Tree model   (5 points)"
   ]
  },
  {
   "cell_type": "markdown",
   "metadata": {
    "deletable": false,
    "editable": false,
    "id": "MwKSIMi_HxtY",
    "nbgrader": {
     "cell_type": "markdown",
     "checksum": "2cdce3a16dce0f791d1a8be834315e44",
     "grade": false,
     "grade_id": "cell-1a690a651bdbb8c7",
     "locked": true,
     "schema_version": 3,
     "solution": false,
     "task": false
    }
   },
   "source": [
    "#### 4.a. Train KNN **- 5 Points**\n",
    "\n",
    "<u>method name</u>: <b>train_knn</b><br/>\n",
    "\n",
    "<hr>\n",
    "\n",
    "<u>dependency</u>: <br/>\n",
    "* <b>decouple_data</b></br> \n",
    "* <b>split_data</b></br> \n",
    "\n",
    "<hr>\n",
    "\n",
    "<pre>\n",
    "Complete the following function as follows:    \n",
    "1. Create a KNN classifer instance using 3 neighbours (leave other parameters as default)\n",
    "2. Train the model using the function parameters \"**X_train**\"\n",
    " (the train feature vectors) and \"**y_train**\" (the train ground-truth labels)\n",
    "3. Return the trained model\n",
    "\n",
    "------------\n",
    "input parameters:\n",
    "- X_train - \"loan risk factor\" train set feature vectors\n",
    "- y_train - \"loan risk factor\" train set labels\n",
    "------------\n",
    "The return statement should look like the following:\n",
    "return clf\n",
    "</pre>     \n"
   ]
  },
  {
   "cell_type": "markdown",
   "metadata": {
    "deletable": false,
    "editable": false,
    "nbgrader": {
     "cell_type": "markdown",
     "checksum": "d09d313ca4e3c09a6873f26b22eff596",
     "grade": false,
     "grade_id": "cell-0e5249fee912c392",
     "locked": true,
     "schema_version": 3,
     "solution": false,
     "task": false
    }
   },
   "source": [
    "#### 4.a. Train KNN - Implement and Run the following code cell:"
   ]
  },
  {
   "cell_type": "code",
   "execution_count": 51,
   "metadata": {
    "deletable": false,
    "id": "jNFp1dedJB-j",
    "nbgrader": {
     "cell_type": "code",
     "checksum": "4e775c65d753cdaa521ab90456441c51",
     "grade": false,
     "grade_id": "solution4a-train_knn",
     "locked": false,
     "schema_version": 3,
     "solution": true,
     "task": false
    }
   },
   "outputs": [],
   "source": [
    "# 4.a. train_knn (your solution)\n",
    "# ====>>> YOUR ACTIONS: IMPLEMENT & RUN\n",
    "\n",
    "def train_knn(X_train, y_train):\n",
    "    # YOUR CODE HERE\n",
    "    clf = KNeighborsClassifier(n_neighbors=3)\n",
    "    clf.fit(X_train, y_train)\n",
    "    return clf"
   ]
  },
  {
   "cell_type": "markdown",
   "metadata": {
    "deletable": false,
    "editable": false,
    "nbgrader": {
     "cell_type": "markdown",
     "checksum": "241d632a4472037838f6c9f733eb985e",
     "grade": false,
     "grade_id": "cell-8538bb9147969c19",
     "locked": true,
     "schema_version": 3,
     "solution": false,
     "task": false
    }
   },
   "source": [
    "##### 4.a. train_knn  - OPTIONAL SELF TEST - Implement & Run the following code cell (IF NEEDED):"
   ]
  },
  {
   "cell_type": "code",
   "execution_count": 52,
   "metadata": {
    "deletable": false,
    "id": "4Bs2lmriSAaQ",
    "nbgrader": {
     "cell_type": "code",
     "checksum": "37b64dd71202468880ae67e303caafb9",
     "grade": false,
     "grade_id": "self_test4a-train_knn",
     "locked": false,
     "schema_version": 3,
     "solution": true,
     "task": false
    }
   },
   "outputs": [],
   "source": [
    "# 4.a. train_knn (optional self testing)\n",
    "# ====>>> YOUR ACTIONS: (optional) IMPLEMENT & RUN \n",
    "file_name_preprocessed = '.' + os.sep + 'data' + os.sep + 'loans_preprocessed_1.csv'\n",
    "risk_factor_df = load_csv(file_name_preprocessed)\n",
    "X, y = decouple_data(risk_factor_df)\n",
    "X_train, X_test, y_train, y_test = split_data(X, y)\n",
    "knn_clf = train_knn(X_train, y_train)\n",
    "# --- add additional code to check your code if needed:\n",
    "# YOUR CODE HERE\n"
   ]
  },
  {
   "cell_type": "markdown",
   "metadata": {
    "deletable": false,
    "editable": false,
    "nbgrader": {
     "cell_type": "markdown",
     "checksum": "21e6fed9eddf7370ea1d2097f1d736c2",
     "grade": false,
     "grade_id": "cell-e89c329c64303b6f",
     "locked": true,
     "schema_version": 3,
     "solution": false,
     "task": false
    }
   },
   "source": [
    "##### 4.a. train_knn - GRADED TESTS - Run the following (2) code cells:"
   ]
  },
  {
   "cell_type": "code",
   "execution_count": 53,
   "metadata": {
    "deletable": false,
    "editable": false,
    "nbgrader": {
     "cell_type": "code",
     "checksum": "95f194cae4c5b40574e70b59c4f2e360",
     "grade": true,
     "grade_id": "test4a_1-train_knn",
     "locked": true,
     "points": 1,
     "schema_version": 3,
     "solution": false,
     "task": false
    }
   },
   "outputs": [
    {
     "name": "stdout",
     "output_type": "stream",
     "text": [
      "4.a.'train_knn' - Test 1 (name: test4a_1-train_knn, points: 1) - Sanity\n",
      "Good Job!\n",
      "You've passed the 1st test for the 'train_knn' function implementation :-)\n"
     ]
    }
   ],
   "source": [
    "# 4.a. train_knn (graded test)\n",
    "# ====>>> YOUR ACTIONS: RUN ONLY\n",
    "\n",
    "print (\"4.a.'train_knn' - Test 1 (name: test4a_1-train_knn, points: 1) - Sanity\")\n",
    "\n",
    "file_name_preprocessed = '.' + os.sep + 'data' + os.sep + 'loans_preprocessed_1.csv'\n",
    "\n",
    "try:\n",
    "    risk_factor_df = load_csv(file_name_preprocessed)\n",
    "    X, y = decouple_data(risk_factor_df)\n",
    "    X_train, X_test, y_train, y_test = split_data(X, y)\n",
    "\n",
    "    knn_clf = train_knn(X_train, y_train)\n",
    "except Exception as e:\n",
    "    print ('You probably have a syntax or implementation error,  \\nerror Message:',str(e), '\\nTry fixing your code')\n",
    "    raise\n",
    "\n",
    "print (\"Good Job!\\nYou've passed the 1st test for the 'train_knn' function implementation :-)\")    "
   ]
  },
  {
   "cell_type": "code",
   "execution_count": 54,
   "metadata": {
    "deletable": false,
    "editable": false,
    "nbgrader": {
     "cell_type": "code",
     "checksum": "ebb0fd5901c9badd4790bf568c380a2d",
     "grade": true,
     "grade_id": "test4a_2-train_knn",
     "locked": true,
     "points": 2,
     "schema_version": 3,
     "solution": false,
     "task": false
    }
   },
   "outputs": [
    {
     "name": "stdout",
     "output_type": "stream",
     "text": [
      "4.a.'train_knn' - Test 2 (name: test4a_2-train_knn, points: 2)\n",
      "Good Job!\n",
      "You've passed the 1st test for the 'train_knn' function implementation :-)\n"
     ]
    }
   ],
   "source": [
    "# 4.a. train_knn (graded test)\n",
    "# ====>>> YOUR ACTIONS: RUN ONLY\n",
    "\n",
    "print (\"4.a.'train_knn' - Test 2 (name: test4a_2-train_knn, points: 2)\")\n",
    "\n",
    "file_name_preprocessed = '.' + os.sep + 'data' + os.sep + 'loans_preprocessed_1.csv'\n",
    "\n",
    "try:\n",
    "    risk_factor_df = load_csv(file_name_preprocessed)\n",
    "    X, y = decouple_data(risk_factor_df)\n",
    "    X_train, X_test, y_train, y_test = split_data(X, y)\n",
    "\n",
    "    knn_clf = train_knn(X_train, y_train)\n",
    "except Exception as e:\n",
    "    print ('You probably have a syntax or implementation error,  \\nerror Message:',str(e), '\\nTry fixing your code')\n",
    "    raise\n",
    "\n",
    "assert isinstance(knn_clf, KNeighborsClassifier), \"Returned trained KNN model must be of type 'KNeighborsClassifier' after invoking the function 'train_knn'\"\n",
    "\n",
    "print (\"Good Job!\\nYou've passed the 1st test for the 'train_knn' function implementation :-)\")    "
   ]
  },
  {
   "cell_type": "code",
   "execution_count": 55,
   "metadata": {
    "deletable": false,
    "editable": false,
    "nbgrader": {
     "cell_type": "code",
     "checksum": "e81353c9cfeb35c05689842711fba0a8",
     "grade": true,
     "grade_id": "test4a_3-train_knn",
     "locked": true,
     "points": 2,
     "schema_version": 3,
     "solution": false,
     "task": false
    }
   },
   "outputs": [
    {
     "name": "stdout",
     "output_type": "stream",
     "text": [
      "4.a.'train_knn' - Test 3 (name: test4a_3-train_knn, points: 2)\n",
      "Good Job!\n",
      "You've passed the 1st test for the 'train_knn' function implementation :-)\n"
     ]
    }
   ],
   "source": [
    "# 4.a. train_knn (graded test)\n",
    "# ====>>> YOUR ACTIONS: RUN ONLY\n",
    "\n",
    "print (\"4.a.'train_knn' - Test 3 (name: test4a_3-train_knn, points: 2)\")\n",
    "\n",
    "file_name_preprocessed = '.' + os.sep + 'data' + os.sep + 'loans_preprocessed_1.csv'\n",
    "\n",
    "try:\n",
    "    risk_factor_df = load_csv(file_name_preprocessed)\n",
    "    X, y = decouple_data(risk_factor_df)\n",
    "    X_train, X_test, y_train, y_test = split_data(X, y)\n",
    "\n",
    "    knn_clf = train_knn(X_train, y_train)\n",
    "except Exception as e:\n",
    "    print ('You probably have a syntax or implementation error,  \\nerror Message:',str(e), '\\nTry fixing your code')\n",
    "    raise\n",
    "\n",
    "assert 3==knn_clf.n_neighbors, \"number of neighbors should be 3\"\n",
    "\n",
    "print (\"Good Job!\\nYou've passed the 1st test for the 'train_knn' function implementation :-)\")    \n"
   ]
  },
  {
   "cell_type": "markdown",
   "metadata": {
    "deletable": false,
    "editable": false,
    "id": "xyblWjo7P-qE",
    "nbgrader": {
     "cell_type": "markdown",
     "checksum": "807534068b11d7a0ceaab2f9d8ce9661",
     "grade": false,
     "grade_id": "cell-6b980eaf90c455ed",
     "locked": true,
     "schema_version": 3,
     "solution": false,
     "task": false
    }
   },
   "source": [
    "#### 4.b. Train Naive Bayes **- 5 Points**\n",
    "\n",
    "<u>method name</u>: <b>train_naive_bayes</b><br/>\n",
    "\n",
    "<hr>\n",
    "\n",
    "<u>dependency</u>: <br/>\n",
    "* <b>decouple_data</b></br> \n",
    "* <b>split_data</b></br> \n",
    "\n",
    "<hr>\n",
    "\n",
    "<pre>\n",
    "Complete the following function as follows:    \n",
    "1. Create a Naive Bayes classifer instance (leave all parameters as default)\n",
    "2. Train the model using the function parameters \"**X_train**\"\n",
    " (the train feature vectors) and \"**y_train**\" (the train ground-truth labels)\n",
    "3. Return the trained model\n",
    "\n",
    "------------\n",
    "input parameters:\n",
    "- X_train - \"loan risk factor\" train set feature vectors\n",
    "- y_train - \"loan risk factor\" train set labels\n",
    "------------\n",
    "The return statement should look like the following:\n",
    "return clf\n",
    "</pre>    \n"
   ]
  },
  {
   "cell_type": "markdown",
   "metadata": {
    "deletable": false,
    "editable": false,
    "nbgrader": {
     "cell_type": "markdown",
     "checksum": "7620773875671ec95d03548f09c1d34e",
     "grade": false,
     "grade_id": "cell-78ede01768e2254e",
     "locked": true,
     "schema_version": 3,
     "solution": false,
     "task": false
    }
   },
   "source": [
    "#### 4.b. Train Naive Bayes - Implement and Run the following code cell:"
   ]
  },
  {
   "cell_type": "code",
   "execution_count": 56,
   "metadata": {
    "deletable": false,
    "id": "ytXrRC6GQgwQ",
    "nbgrader": {
     "cell_type": "code",
     "checksum": "807d747d74aaf0f2f84a5502180e7120",
     "grade": false,
     "grade_id": "solution4b-train_naive_bayes",
     "locked": false,
     "schema_version": 3,
     "solution": true,
     "task": false
    }
   },
   "outputs": [],
   "source": [
    "# 4.b. train_naive_bayes (your solution)\n",
    "# ====>>> YOUR ACTIONS: IMPLEMENT & RUN\n",
    "\n",
    "def train_naive_bayes(X_train, y_train):\n",
    "    # YOUR CODE HERE\n",
    "    clf = GaussianNB()\n",
    "    clf.fit(X_train, y_train)\n",
    "    return clf"
   ]
  },
  {
   "cell_type": "markdown",
   "metadata": {
    "deletable": false,
    "editable": false,
    "nbgrader": {
     "cell_type": "markdown",
     "checksum": "3e7e0d76dbc458ec87ddfd609e29b3ce",
     "grade": false,
     "grade_id": "cell-6eed934a3ac28937",
     "locked": true,
     "schema_version": 3,
     "solution": false,
     "task": false
    }
   },
   "source": [
    "##### 4.b. train_naive_bayes  - OPTIONAL SELF TEST - Implement & Run the following code cell (IF NEEDED):"
   ]
  },
  {
   "cell_type": "code",
   "execution_count": 57,
   "metadata": {
    "deletable": false,
    "id": "7eKgMOeKSQws",
    "nbgrader": {
     "cell_type": "code",
     "checksum": "ce1eb522d5b1d0903d30e6b5e1035d16",
     "grade": false,
     "grade_id": "self_test4b-train_naive_bayes",
     "locked": false,
     "schema_version": 3,
     "solution": true,
     "task": false
    }
   },
   "outputs": [],
   "source": [
    "# 4.b. train_naive_bayes (optional self testing)\n",
    "# ====>>> YOUR ACTIONS: (optional) IMPLEMENT & RUN \n",
    "file_name_preprocessed = '.' + os.sep + 'data' + os.sep + 'loans_preprocessed_1.csv'\n",
    "risk_factor_df = load_csv(file_name_preprocessed)\n",
    "X, y = decouple_data(risk_factor_df)\n",
    "X_train, X_test, y_train, y_test = split_data(X, y)\n",
    "nb_clf = train_naive_bayes(X_train, y_train)\n",
    "# --- add additional code to check your code if needed:\n",
    "# YOUR CODE HERE\n"
   ]
  },
  {
   "cell_type": "markdown",
   "metadata": {
    "deletable": false,
    "editable": false,
    "nbgrader": {
     "cell_type": "markdown",
     "checksum": "f069f0ddc8cd8b5148cccef730a58cc4",
     "grade": false,
     "grade_id": "cell-8e8eac7754f2b573",
     "locked": true,
     "schema_version": 3,
     "solution": false,
     "task": false
    }
   },
   "source": [
    "##### 4.b. train_naive_bayes - GRADED TESTS - Run the following (2) code cells:"
   ]
  },
  {
   "cell_type": "code",
   "execution_count": 58,
   "metadata": {
    "deletable": false,
    "editable": false,
    "nbgrader": {
     "cell_type": "code",
     "checksum": "ea9a24a26f3791a3829ed15562f847c9",
     "grade": true,
     "grade_id": "test4b_1-train_naive_bayes",
     "locked": true,
     "points": 1,
     "schema_version": 3,
     "solution": false,
     "task": false
    }
   },
   "outputs": [
    {
     "name": "stdout",
     "output_type": "stream",
     "text": [
      "4.b.'train_naive_bayes' - Test 1 (name: test4b_1-train_naive_bayes, points: 1) - Sanity\n",
      "Good Job!\n",
      "You've passed the 1st test for the 'train_naive_bayes' function implementation :-)\n"
     ]
    }
   ],
   "source": [
    "# 4.b. train_naive_bayes (graded test)\n",
    "# ====>>> YOUR ACTIONS: RUN ONLY\n",
    "\n",
    "print (\"4.b.'train_naive_bayes' - Test 1 (name: test4b_1-train_naive_bayes, points: 1) - Sanity\")\n",
    "\n",
    "file_name_preprocessed = '.' + os.sep + 'data' + os.sep + 'loans_preprocessed_1.csv'\n",
    "\n",
    "try:\n",
    "    risk_factor_df = load_csv(file_name_preprocessed)\n",
    "    X, y = decouple_data(risk_factor_df)\n",
    "    X_train, X_test, y_train, y_test = split_data(X, y)\n",
    "    \n",
    "    nb_clf = train_naive_bayes(X_train, y_train)\n",
    "except Exception as e:\n",
    "    print ('You probably have a syntax or implementation error,  \\nerror Message:',str(e), '\\nTry fixing your code')\n",
    "    raise\n",
    "\n",
    "print (\"Good Job!\\nYou've passed the 1st test for the 'train_naive_bayes' function implementation :-)\")    "
   ]
  },
  {
   "cell_type": "code",
   "execution_count": 59,
   "metadata": {
    "deletable": false,
    "editable": false,
    "nbgrader": {
     "cell_type": "code",
     "checksum": "cbced41cc69313f41698bca0231ba78c",
     "grade": true,
     "grade_id": "test4b_2-train_naive_bayes",
     "locked": true,
     "points": 4,
     "schema_version": 3,
     "solution": false,
     "task": false
    }
   },
   "outputs": [
    {
     "name": "stdout",
     "output_type": "stream",
     "text": [
      "4.b.'train_naive_bayes' - Test 2 (name: test4b_2-train_naive_bayes, points: 4)\n",
      "Good Job!\n",
      "You've passed the 2nd test for the 'train_naive_bayes' function implementation :-)\n"
     ]
    }
   ],
   "source": [
    "# 4.b. train_naive_bayes (graded test)\n",
    "# ====>>> YOUR ACTIONS: RUN ONLY\n",
    "\n",
    "print (\"4.b.'train_naive_bayes' - Test 2 (name: test4b_2-train_naive_bayes, points: 4)\")\n",
    "\n",
    "file_name_preprocessed = '.' + os.sep + 'data' + os.sep + 'loans_preprocessed_1.csv'\n",
    "\n",
    "try:\n",
    "    risk_factor_df = load_csv(file_name_preprocessed)\n",
    "    X, y = decouple_data(risk_factor_df)\n",
    "    X_train, X_test, y_train, y_test = split_data(X, y)\n",
    "    \n",
    "    nb_clf = train_naive_bayes(X_train, y_train)\n",
    "except Exception as e:\n",
    "    print ('You probably have a syntax or implementation error,  \\nerror Message:',str(e), '\\nTry fixing your code')\n",
    "    raise\n",
    "\n",
    "assert isinstance(nb_clf, GaussianNB), \"Returned trained Naive Bayes model must be of type 'GaussianNB' after invoking the function 'train_naive_bayes'\"\n",
    "    \n",
    "print (\"Good Job!\\nYou've passed the 2nd test for the 'train_naive_bayes' function implementation :-)\")    "
   ]
  },
  {
   "cell_type": "markdown",
   "metadata": {
    "deletable": false,
    "editable": false,
    "id": "uVRqFya6Qkix",
    "nbgrader": {
     "cell_type": "markdown",
     "checksum": "8133ea230bbe5cd04fadb24cb7575e6b",
     "grade": false,
     "grade_id": "cell-c08f06436a280b45",
     "locked": true,
     "schema_version": 3,
     "solution": false,
     "task": false
    }
   },
   "source": [
    "#### 4.c. Train Decision Tree **- 5 Points**\n",
    "\n",
    "<u>method name</u>: <b>train_decision_tree</b><br/>\n",
    "\n",
    "<hr>\n",
    "\n",
    "<u>dependency</u>: <br/>\n",
    "* <b>decouple_data</b></br> \n",
    "* <b>split_data</b></br> \n",
    "\n",
    "<hr>\n",
    "\n",
    "<pre>\n",
    "Complete the following function as follows:    \n",
    "1. Create a Decision Tree classifer instance with \"**max_depth**\" param **3** and \n",
    "\"**min_samples_split**\" param as **20** (leave all other parameters as default)\n",
    "2. Train the model using the function parameters \"**X_train**\"\n",
    " (the train feature vectors) and \"**y_train**\" (the train ground-truth labels)\n",
    "3. Return the trained model\n",
    "\n",
    "------------\n",
    "input parameters:\n",
    "- X_train - \"loan risk factor\" train set feature vectors\n",
    "- y_train - \"loan risk factor\" train set labels\n",
    "------------\n",
    "The return statement should look like the following:\n",
    "return clf\n",
    "</pre> "
   ]
  },
  {
   "cell_type": "markdown",
   "metadata": {
    "deletable": false,
    "editable": false,
    "nbgrader": {
     "cell_type": "markdown",
     "checksum": "548c0ac3aedff89c949a9b88e9603114",
     "grade": false,
     "grade_id": "cell-3ffae2be93025d1e",
     "locked": true,
     "schema_version": 3,
     "solution": false,
     "task": false
    }
   },
   "source": [
    "#### 4.c. Train Decision Tree - Implement and Run the following code cell:"
   ]
  },
  {
   "cell_type": "code",
   "execution_count": 60,
   "metadata": {
    "deletable": false,
    "id": "rvMNbSwDRGLe",
    "nbgrader": {
     "cell_type": "code",
     "checksum": "65e1ad6f64f76277b1b5454ee6eda76f",
     "grade": false,
     "grade_id": "solution4c-train_decision_tree",
     "locked": false,
     "schema_version": 3,
     "solution": true,
     "task": false
    }
   },
   "outputs": [],
   "source": [
    "# 4.c. train_naive_bayes (your solution)\n",
    "# ====>>> YOUR ACTIONS: IMPLEMENT & RUN\n",
    "\n",
    "def train_decision_tree(X_train, y_train):\n",
    "    # YOUR CODE HERE\n",
    "    clf = DecisionTreeClassifier(max_depth=3, min_samples_split=20)\n",
    "    clf.fit(X_train, y_train)\n",
    "    return clf"
   ]
  },
  {
   "cell_type": "markdown",
   "metadata": {
    "deletable": false,
    "editable": false,
    "nbgrader": {
     "cell_type": "markdown",
     "checksum": "c420e294b096e25754309e9c6d3f8df8",
     "grade": false,
     "grade_id": "cell-abb443f4435ff71f",
     "locked": true,
     "schema_version": 3,
     "solution": false,
     "task": false
    }
   },
   "source": [
    "##### 4.c. train_decision_tree - OPTIONAL SELF TEST - Implement & Run the following code cell (IF NEEDED):"
   ]
  },
  {
   "cell_type": "code",
   "execution_count": 61,
   "metadata": {
    "deletable": false,
    "id": "c9dkw_L-SX5i",
    "nbgrader": {
     "cell_type": "code",
     "checksum": "cf664be4003c4cd8e31b19d572a128d4",
     "grade": false,
     "grade_id": "self_test4c-train_decision_tree",
     "locked": false,
     "schema_version": 3,
     "solution": true,
     "task": false
    }
   },
   "outputs": [],
   "source": [
    "# 4.c. train_decision_tree (optional self testing)\n",
    "# ====>>> YOUR ACTIONS: (optional) IMPLEMENT & RUN \n",
    "file_name_preprocessed = '.' + os.sep + 'data' + os.sep + 'loans_preprocessed_1.csv'\n",
    "risk_factor_df = load_csv(file_name_preprocessed)\n",
    "X, y = decouple_data(risk_factor_df)\n",
    "X_train, X_test, y_train, y_test = split_data(X, y)\n",
    "dt_clf = train_decision_tree(X_train, y_train)\n",
    "\n",
    "# --- add additional code to check your code if needed:\n",
    "# YOUR CODE HERE\n"
   ]
  },
  {
   "cell_type": "markdown",
   "metadata": {
    "deletable": false,
    "editable": false,
    "nbgrader": {
     "cell_type": "markdown",
     "checksum": "92841fb5e3d8b37c780e61cccc1e71a0",
     "grade": false,
     "grade_id": "cell-0a8d960dac59f885",
     "locked": true,
     "schema_version": 3,
     "solution": false,
     "task": false
    }
   },
   "source": [
    "##### 4.c. train_decision_tree - GRADED TESTS - Run the following (2) code cells:"
   ]
  },
  {
   "cell_type": "code",
   "execution_count": 62,
   "metadata": {
    "deletable": false,
    "editable": false,
    "nbgrader": {
     "cell_type": "code",
     "checksum": "29f72c1b9af4b47438308a71758a9071",
     "grade": true,
     "grade_id": "test4c_1-train_decision_tree",
     "locked": true,
     "points": 1,
     "schema_version": 3,
     "solution": false,
     "task": false
    }
   },
   "outputs": [
    {
     "name": "stdout",
     "output_type": "stream",
     "text": [
      "4.c.'train_decision_tree' - Test 1 (name: test4c_1-train_decision_tree, points: 1) - Sanity\n",
      "Good Job!\n",
      "You've passed the 1st test for the 'train_decision_tree' function implementation :-)\n"
     ]
    }
   ],
   "source": [
    "# 4.c. train_decision_tree (graded test)\n",
    "# ====>>> YOUR ACTIONS: RUN ONLY\n",
    "\n",
    "print (\"4.c.'train_decision_tree' - Test 1 (name: test4c_1-train_decision_tree, points: 1) - Sanity\")\n",
    "\n",
    "file_name_preprocessed = '.' + os.sep + 'data' + os.sep + 'loans_preprocessed_1.csv'\n",
    "\n",
    "try:\n",
    "    risk_factor_df = load_csv(file_name_preprocessed)\n",
    "    X, y = decouple_data(risk_factor_df)\n",
    "    X_train, X_test, y_train, y_test = split_data(X, y)\n",
    "    \n",
    "    dt_clf = train_decision_tree(X_train, y_train)\n",
    "except Exception as e:\n",
    "    print ('You probably have a syntax or implementation error,  \\nerror Message:',str(e), '\\nTry fixing your code')\n",
    "    raise\n",
    "\n",
    "print (\"Good Job!\\nYou've passed the 1st test for the 'train_decision_tree' function implementation :-)\")    "
   ]
  },
  {
   "cell_type": "code",
   "execution_count": 63,
   "metadata": {
    "deletable": false,
    "editable": false,
    "nbgrader": {
     "cell_type": "code",
     "checksum": "cfa3cc4634f7f3a7c4c63b98fc6b8066",
     "grade": true,
     "grade_id": "test4c_2-train_decision_tree",
     "locked": true,
     "points": 2,
     "schema_version": 3,
     "solution": false,
     "task": false
    }
   },
   "outputs": [
    {
     "name": "stdout",
     "output_type": "stream",
     "text": [
      "4.c.'train_decision_tree' - Test 2 (name: test4c_2-train_decision_tree, points: 2)\n",
      "Good Job!\n",
      "You've passed the 2nd test for the 'train_decision_tree' function implementation :-)\n"
     ]
    }
   ],
   "source": [
    "# 4.c. train_decision_tree (graded test)\n",
    "# ====>>> YOUR ACTIONS: RUN ONLY\n",
    "\n",
    "print (\"4.c.'train_decision_tree' - Test 2 (name: test4c_2-train_decision_tree, points: 2)\")\n",
    "\n",
    "file_name_preprocessed = '.' + os.sep + 'data' + os.sep + 'loans_preprocessed_1.csv'\n",
    "\n",
    "try:\n",
    "    risk_factor_df = load_csv(file_name_preprocessed)\n",
    "    X, y = decouple_data(risk_factor_df)\n",
    "    X_train, X_test, y_train, y_test = split_data(X, y)\n",
    "    \n",
    "    dt_clf = train_decision_tree(X_train, y_train)\n",
    "except Exception as e:\n",
    "    print ('You probably have a syntax or implementation error,  \\nerror Message:',str(e), '\\nTry fixing your code')\n",
    "    raise\n",
    "\n",
    "assert isinstance(dt_clf, DecisionTreeClassifier), \"Returned trained Decision Tree model must be of type 'DecisionTreeClassifier' after invoking the function 'train_decision_tree'\"\n",
    "\n",
    "print (\"Good Job!\\nYou've passed the 2nd test for the 'train_decision_tree' function implementation :-)\")    "
   ]
  },
  {
   "cell_type": "code",
   "execution_count": 64,
   "metadata": {
    "deletable": false,
    "editable": false,
    "nbgrader": {
     "cell_type": "code",
     "checksum": "13758a6a7eb9596d48caaddb8d9bb676",
     "grade": true,
     "grade_id": "test4c_3-train_decision_tree",
     "locked": true,
     "points": 2,
     "schema_version": 3,
     "solution": false,
     "task": false
    }
   },
   "outputs": [
    {
     "name": "stdout",
     "output_type": "stream",
     "text": [
      "4.c.'train_decision_tree' - Test 3 (name: test4c_3-train_decision_tree, points: 2)\n",
      "Good Job!\n",
      "You've passed the 3rd test for the 'train_decision_tree' function implementation :-)\n"
     ]
    }
   ],
   "source": [
    "# 4.c. train_decision_tree (graded test)\n",
    "# ====>>> YOUR ACTIONS: RUN ONLY\n",
    "\n",
    "print (\"4.c.'train_decision_tree' - Test 3 (name: test4c_3-train_decision_tree, points: 2)\")\n",
    "\n",
    "file_name_csv = '.' + os.sep + 'data' + os.sep + 'loans_preprocessed_1.csv'\n",
    "\n",
    "try:\n",
    "    risk_factor_df = load_csv(file_name_preprocessed)\n",
    "    X, y = decouple_data(risk_factor_df)\n",
    "    X_train, X_test, y_train, y_test = split_data(X, y)\n",
    "    \n",
    "    dt_clf = train_decision_tree(X_train, y_train)\n",
    "except Exception as e:\n",
    "    print ('You probably have a syntax or implementation error,  \\nerror Message:',str(e), '\\nTry fixing your code')\n",
    "    raise\n",
    "\n",
    "assert 3==dt_clf.max_depth and 20==dt_clf.min_samples_split, \"wrong parameters set for 'train_decision_tree'\"\n",
    "\n",
    "print (\"Good Job!\\nYou've passed the 3rd test for the 'train_decision_tree' function implementation :-)\")    "
   ]
  },
  {
   "cell_type": "markdown",
   "metadata": {
    "deletable": false,
    "editable": false,
    "id": "vFENVjO-RLBC",
    "nbgrader": {
     "cell_type": "markdown",
     "checksum": "bbffd4ffb03827b02ee743f0af0656c0",
     "grade": false,
     "grade_id": "cell-796a17eff52424d6",
     "locked": true,
     "schema_version": 3,
     "solution": false,
     "task": false
    }
   },
   "source": [
    "[Go to the beginning of the assignment](#home)\n",
    "<a id=\"evaluation\"></a>\n",
    "### 5. Model Evaluation - **10 Points**\n",
    "Model Evaluation is an integral part of the model development process. It helps to find the best model that represents our data and how well the chosen model will work in the future.\n",
    "\n",
    "Your goal in this section is to evaluate your trained model using few evaluation methods learned in class on your test set\n",
    "\n",
    "<hr>\n",
    "\n",
    "<b><u>This section includes the following</u></b>:\n",
    "* 5.a. Accuracy                  (3 point)\n",
    "* 5.b. cross validation accuracy (7 point)"
   ]
  },
  {
   "cell_type": "markdown",
   "metadata": {
    "deletable": false,
    "editable": false,
    "id": "QFViSMtnSCEj",
    "nbgrader": {
     "cell_type": "markdown",
     "checksum": "e3e438b3fd9b5903d54f5887fd1ecfda",
     "grade": false,
     "grade_id": "cell-ac796eb97c4545e0",
     "locked": true,
     "schema_version": 3,
     "solution": false,
     "task": false
    }
   },
   "source": [
    "#### 5.a. Accuracy - **3 Points**\n",
    "\n",
    "<u>method name</u>: <b>evaluate_accuracy</b><br/>\n",
    "\n",
    "<hr>\n",
    "\n",
    "<u>dependency</u>: <br/>\n",
    "* <b>decouple_data</b></br> \n",
    "* <b>split_data</b></br> \n",
    "\n",
    "<hr>\n",
    "\n",
    "<pre>\n",
    "Complete the following function to calculate the accuracy score and return it\n",
    "\n",
    "------------\n",
    "input parameters:\n",
    "- clf - Trained classifier\n",
    "- X_test - Test set to evaluate the trained model on\n",
    "- y_test - Test ground-truth labels to compare to predicted labels\n",
    "------------\n",
    "The return statement should look like the following:\n",
    "return accuracy\n",
    "</pre> \n"
   ]
  },
  {
   "cell_type": "markdown",
   "metadata": {},
   "source": [
    "#### 5.a. Accuracy  - Implement and Run the following code cell:"
   ]
  },
  {
   "cell_type": "code",
   "execution_count": 65,
   "metadata": {
    "deletable": false,
    "id": "i_v6I3pxThbx",
    "nbgrader": {
     "cell_type": "code",
     "checksum": "63815651b39ad5534e0de9394e3d5355",
     "grade": false,
     "grade_id": "solution5a-evaluate_accuracy",
     "locked": false,
     "schema_version": 3,
     "solution": true,
     "task": false
    }
   },
   "outputs": [],
   "source": [
    "# 5.a. evaluate_accuracy (your solution)\n",
    "# ====>>> YOUR ACTIONS: IMPLEMENT & RUN\n",
    "\n",
    "def evaluate_accuracy(clf, X_test, y_test):\n",
    "    # YOUR CODE HERE\n",
    "    return accuracy_score(y_test, clf.predict(X_test))"
   ]
  },
  {
   "cell_type": "markdown",
   "metadata": {
    "deletable": false,
    "editable": false,
    "nbgrader": {
     "cell_type": "markdown",
     "checksum": "ec78069bc56b40948b7e0b6896f5ad39",
     "grade": false,
     "grade_id": "cell-04b459426c895a8b",
     "locked": true,
     "schema_version": 3,
     "solution": false,
     "task": false
    }
   },
   "source": [
    "##### 5.a. evaluate_accuracy - OPTIONAL SELF TEST - Implement & Run the following code cell (IF NEEDED):"
   ]
  },
  {
   "cell_type": "code",
   "execution_count": 66,
   "metadata": {
    "deletable": false,
    "id": "Kd9Y-LA6TnHV",
    "nbgrader": {
     "cell_type": "code",
     "checksum": "ea51b303c524bc89fc1b9cce862f93ee",
     "grade": false,
     "grade_id": "self_test5a-evaluate_accuracy",
     "locked": false,
     "schema_version": 3,
     "solution": true,
     "task": false
    }
   },
   "outputs": [
    {
     "data": {
      "text/plain": [
       "0.5510204081632653"
      ]
     },
     "execution_count": 66,
     "metadata": {},
     "output_type": "execute_result"
    }
   ],
   "source": [
    "# 5.a. evaluate_accuracy (optional self testing)\n",
    "# ====>>> YOUR ACTIONS: (optional) IMPLEMENT & RUN \n",
    "file_name_preprocessed = '.' + os.sep + 'data' + os.sep + 'loans_preprocessed_1.csv'\n",
    "risk_factor_df = load_csv(file_name_preprocessed)\n",
    "X, y = decouple_data(risk_factor_df)\n",
    "X_train, X_test, y_train, y_test = split_data(X, y)\n",
    "evaluate_accuracy(knn_clf, X_test, y_test)\n",
    "\n",
    "# --- add additional code to check your code if needed:\n",
    "# YOUR CODE HERE\n"
   ]
  },
  {
   "cell_type": "markdown",
   "metadata": {
    "deletable": false,
    "editable": false,
    "nbgrader": {
     "cell_type": "markdown",
     "checksum": "97a1ab3f018d93adf0aff7e1af9c1cb3",
     "grade": false,
     "grade_id": "cell-e10dfe5549393d19",
     "locked": true,
     "schema_version": 3,
     "solution": false,
     "task": false
    }
   },
   "source": [
    "##### 5.a. evaluate_accuracy - GRADED TESTS - Run the following (2) code cells:"
   ]
  },
  {
   "cell_type": "code",
   "execution_count": 67,
   "metadata": {
    "colab": {
     "base_uri": "https://localhost:8080/"
    },
    "deletable": false,
    "editable": false,
    "id": "pd6tTHcWT5cX",
    "nbgrader": {
     "cell_type": "code",
     "checksum": "7ce52150413dd7019501dca3e15d2257",
     "grade": true,
     "grade_id": "test5a_1-evaluate_accuracy",
     "locked": true,
     "points": 1,
     "schema_version": 3,
     "solution": false,
     "task": false
    },
    "outputId": "f0458030-4a93-4f96-d605-8b91dee441ce"
   },
   "outputs": [
    {
     "name": "stdout",
     "output_type": "stream",
     "text": [
      "5.a.'evaluate_accuracy' - Test 1 (name: test5a_1-evaluate_accuracy, points: 1) - Sanity\n",
      "Good Job!\n",
      "You've passed the 1st test for the 'evaluate_accuracy' function implementation :-)\n"
     ]
    }
   ],
   "source": [
    "# 5.a. evaluate_accuracy (graded test)\n",
    "# ====>>> YOUR ACTIONS: RUN ONLY\n",
    "\n",
    "print (\"5.a.'evaluate_accuracy' - Test 1 (name: test5a_1-evaluate_accuracy, points: 1) - Sanity\")\n",
    "\n",
    "file_name_preprocessed = '.' + os.sep + 'data' + os.sep + 'loans_preprocessed_1.csv'\n",
    "\n",
    "try:\n",
    "    risk_factor_df = load_csv(file_name_preprocessed)\n",
    "    X, y = decouple_data(risk_factor_df)\n",
    "    X_train, X_test, y_train, y_test = split_data(X, y)\n",
    "    \n",
    "    knn_acc_score = evaluate_accuracy(knn_clf, X_test, y_test)\n",
    "    nb_acc_score = evaluate_accuracy(nb_clf, X_test, y_test)\n",
    "    dt_acc_score = evaluate_accuracy(dt_clf, X_test, y_test)\n",
    "except Exception as e:\n",
    "    print ('You probably have a syntax or implementation error,  \\nerror Message:',str(e), '\\nTry fixing your code')\n",
    "    raise\n",
    "\n",
    "print (\"Good Job!\\nYou've passed the 1st test for the 'evaluate_accuracy' function implementation :-)\")    "
   ]
  },
  {
   "cell_type": "code",
   "execution_count": 68,
   "metadata": {
    "deletable": false,
    "editable": false,
    "nbgrader": {
     "cell_type": "code",
     "checksum": "bf0a3e32b948b3d866b433d41a9e2c35",
     "grade": true,
     "grade_id": "test5a_2-evaluate_accuracy",
     "locked": true,
     "points": 1,
     "schema_version": 3,
     "solution": false,
     "task": false
    }
   },
   "outputs": [
    {
     "name": "stdout",
     "output_type": "stream",
     "text": [
      "5.a.'evaluate_accuracy' - Test 2 (name: test5a_2-evaluate_accuracy, points: 1)\n",
      "Good Job!\n",
      "You've passed the 2nd test for the 'evaluate_accuracy' function implementation :-)\n"
     ]
    }
   ],
   "source": [
    "# 5.a. evaluate_accuracy (graded test)\n",
    "# ====>>> YOUR ACTIONS: RUN ONLY\n",
    "\n",
    "print (\"5.a.'evaluate_accuracy' - Test 2 (name: test5a_2-evaluate_accuracy, points: 1)\")\n",
    "\n",
    "file_name_preprocessed = '.' + os.sep + 'data' + os.sep + 'loans_preprocessed_1.csv'\n",
    "\n",
    "try:\n",
    "    risk_factor_df = load_csv(file_name_preprocessed)\n",
    "    X, y = decouple_data(risk_factor_df)\n",
    "    X_train, X_test, y_train, y_test = split_data(X, y)\n",
    "    \n",
    "    knn_acc_score = evaluate_accuracy(knn_clf, X_test, y_test)\n",
    "    nb_acc_score = evaluate_accuracy(nb_clf, X_test, y_test)\n",
    "    dt_acc_score = evaluate_accuracy(dt_clf, X_test, y_test)\n",
    "except Exception as e:\n",
    "    print ('You probably have a syntax or implementation error,  \\nerror Message:',str(e), '\\nTry fixing your code')\n",
    "    raise\n",
    "\n",
    "assert 0.53 < knn_acc_score < 0.58, \"Wrong accuracy score for KNN model using the preprocessed data after training, please check preprocessing and training process based on the instructions\"\n",
    "\n",
    "print (\"Good Job!\\nYou've passed the 2nd test for the 'evaluate_accuracy' function implementation :-)\")    "
   ]
  },
  {
   "cell_type": "code",
   "execution_count": 69,
   "metadata": {
    "deletable": false,
    "editable": false,
    "nbgrader": {
     "cell_type": "code",
     "checksum": "f706e23c3c093e037faeda7a5250f2f0",
     "grade": true,
     "grade_id": "test5a_3-evaluate_accuracy",
     "locked": true,
     "points": 1,
     "schema_version": 3,
     "solution": false,
     "task": false
    }
   },
   "outputs": [
    {
     "name": "stdout",
     "output_type": "stream",
     "text": [
      "5.a.'evaluate_accuracy' - Test 3 (name: test5a_3-evaluate_accuracy, points: 1)\n",
      "Good Job!\n",
      "You've passed the 3rd test for the 'evaluate_accuracy' function implementation :-)\n"
     ]
    }
   ],
   "source": [
    "# 5.a. evaluate_accuracy (graded test)\n",
    "# ====>>> YOUR ACTIONS: RUN ONLY\n",
    "\n",
    "print (\"5.a.'evaluate_accuracy' - Test 3 (name: test5a_3-evaluate_accuracy, points: 1)\")\n",
    "\n",
    "file_name_preprocessed = '.' + os.sep + 'data' + os.sep + 'loans_preprocessed_1.csv'\n",
    "\n",
    "try:\n",
    "    risk_factor_df = load_csv(file_name_preprocessed)\n",
    "    X, y = decouple_data(risk_factor_df)\n",
    "    X_train, X_test, y_train, y_test = split_data(X, y)\n",
    "    \n",
    "    knn_acc_score = evaluate_accuracy(knn_clf, X_test, y_test)\n",
    "    nb_acc_score = evaluate_accuracy(nb_clf, X_test, y_test)\n",
    "    dt_acc_score = evaluate_accuracy(dt_clf, X_test, y_test)\n",
    "except Exception as e:\n",
    "    print ('You probably have a syntax or implementation error,  \\nerror Message:',str(e), '\\nTry fixing your code')\n",
    "    raise\n",
    "\n",
    "assert 0.52 < dt_acc_score < 0.57, \"Wrong accuracy score for Decision Tree model using the preprocessed data after training, please check preprocessing and training process based on the instructions\"\n",
    "\n",
    "print (\"Good Job!\\nYou've passed the 3rd test for the 'evaluate_accuracy' function implementation :-)\")    "
   ]
  },
  {
   "cell_type": "markdown",
   "metadata": {
    "deletable": false,
    "editable": false,
    "id": "rFxm7lh6fC9Z",
    "nbgrader": {
     "cell_type": "markdown",
     "checksum": "37b4da6e80dc0b60bfae9f85563e4695",
     "grade": false,
     "grade_id": "cell-752f4687fa3d7189",
     "locked": true,
     "schema_version": 3,
     "solution": false,
     "task": false
    }
   },
   "source": [
    "#### 5.b. Cross Validation - Accuracy - **7 Points**\n",
    "\n",
    "<u>method name</u>: <b>evaluate_accuracy_cross_validation</b><br/>\n",
    "\n",
    "<hr>\n",
    "\n",
    "<u>dependency</u>: <br/>\n",
    "* <b>decouple_data</b></br> \n",
    "* <b>split_data</b></br> \n",
    "\n",
    "<hr>\n",
    "\n",
    "<pre>\n",
    "Complete the following function to calculate the 10-fold cross-validation mean accuracy score and return it\n",
    "\n",
    "------------\n",
    "input parameters:\n",
    "- clf - **Untrained** classifier instance (with default params)\n",
    "- X - All dataset's processed feature vectors \n",
    "- y - All dataset's processed targets/labels\n",
    "\n",
    "------------\n",
    "The return statement should look like the following:\n",
    "return mean_accuracy\n",
    "\n",
    "For test purposes use 'random_state=42' in the Decision Tree classifier instance (DecisionTreeClassifier(random_state=42))\n"
   ]
  },
  {
   "cell_type": "markdown",
   "metadata": {},
   "source": [
    "#### 5.b. Cross Validation - Accuracy  - Implement and Run the following code cell:"
   ]
  },
  {
   "cell_type": "code",
   "execution_count": 70,
   "metadata": {
    "deletable": false,
    "id": "hlKtLYTyfnGL",
    "nbgrader": {
     "cell_type": "code",
     "checksum": "4d23b5c8e8c06544a84528e14b01ac27",
     "grade": false,
     "grade_id": "solution5b-evaluate_accuracy_cv",
     "locked": false,
     "schema_version": 3,
     "solution": true,
     "task": false
    }
   },
   "outputs": [],
   "source": [
    "# 5.b. evaluate_accuracy_cross_validation (your solution)\n",
    "# ====>>> YOUR ACTIONS: IMPLEMENT & RUN\n",
    "\n",
    "def evaluate_accuracy_cross_validation(clf, X, y):\n",
    "    # YOUR CODE HERE\n",
    "    mean_accuracy = cross_val_score(clf, X, y, cv = 10)\n",
    "    return mean_accuracy.mean()"
   ]
  },
  {
   "cell_type": "markdown",
   "metadata": {
    "deletable": false,
    "editable": false,
    "nbgrader": {
     "cell_type": "markdown",
     "checksum": "0d987432aa82a59a0cb5ba523f381e73",
     "grade": false,
     "grade_id": "cell-276a98801d4bc309",
     "locked": true,
     "schema_version": 3,
     "solution": false,
     "task": false
    }
   },
   "source": [
    "##### 5.b. evaluate_accuracy_cross_validation - OPTIONAL SELF TEST - Implement & Run the following code cell (IF NEEDED):"
   ]
  },
  {
   "cell_type": "code",
   "execution_count": 71,
   "metadata": {
    "deletable": false,
    "id": "TqTcZxvTfuwz",
    "nbgrader": {
     "cell_type": "code",
     "checksum": "c89e2d85de4dd28491a1f84c5cfa0d21",
     "grade": false,
     "grade_id": "self_test5b-evaluate_accuracy_cv",
     "locked": false,
     "schema_version": 3,
     "solution": true,
     "task": false
    }
   },
   "outputs": [],
   "source": [
    "# 5.b. evaluate_accuracy_cross_validation (optional self testing)\n",
    "# ====>>> YOUR ACTIONS: (optional) IMPLEMENT & RUN \n",
    "\n",
    "file_name_preprocessed = '.' + os.sep + 'data' + os.sep + 'loans_preprocessed_1.csv'\n",
    "risk_factor_df = load_csv(file_name_preprocessed)\n",
    "X, y = decouple_data(risk_factor_df)\n",
    "X_train, X_test, y_train, y_test = split_data(X, y)\n",
    "\n",
    "# --- add additional code to check your code if needed:\n",
    "# YOUR CODE HERE\n"
   ]
  },
  {
   "cell_type": "markdown",
   "metadata": {
    "deletable": false,
    "editable": false,
    "nbgrader": {
     "cell_type": "markdown",
     "checksum": "f17b2484bbc6ae2b088ab892f96f7284",
     "grade": false,
     "grade_id": "cell-9c7b90873194fae5",
     "locked": true,
     "schema_version": 3,
     "solution": false,
     "task": false
    }
   },
   "source": [
    "##### 5.b. evaluate_accuracy_cross_validation - GRADED TESTS - Run the following (2) code cells:"
   ]
  },
  {
   "cell_type": "code",
   "execution_count": 72,
   "metadata": {
    "colab": {
     "base_uri": "https://localhost:8080/"
    },
    "deletable": false,
    "editable": false,
    "id": "CXyhEgnTgNrj",
    "nbgrader": {
     "cell_type": "code",
     "checksum": "8c9243d72566cffc0e95ba4579e8a38b",
     "grade": true,
     "grade_id": "test5b_1-evaluate_accuracy_cv",
     "locked": true,
     "points": 1,
     "schema_version": 3,
     "solution": false,
     "task": false
    },
    "outputId": "36176027-a7f5-4115-8682-d89864e0635d"
   },
   "outputs": [
    {
     "name": "stdout",
     "output_type": "stream",
     "text": [
      "5.b.'evaluate_accuracy_cross_validation' - Test 1 (name: test5b_1-evaluate_accuracy_cv, points: 1) - Sanity\n",
      "Good Job!\n",
      "You've passed the 1st test for the 'evaluate_accuracy_cross_validation' function implementation :-)\n"
     ]
    }
   ],
   "source": [
    "# 5.b. evaluate_accuracy_cross_validation (graded test)\n",
    "# ====>>> YOUR ACTIONS: RUN ONLY\n",
    "\n",
    "print (\"5.b.'evaluate_accuracy_cross_validation' - Test 1 (name: test5b_1-evaluate_accuracy_cv, points: 1) - Sanity\")\n",
    "\n",
    "file_name_csv = '.' + os.sep + 'data' + os.sep + 'loans_preprocessed_1.csv'\n",
    "\n",
    "try:\n",
    "    risk_factor_df = load_csv(file_name_preprocessed)\n",
    "    X, y = decouple_data(risk_factor_df)\n",
    "    X_train, X_test, y_train, y_test = split_data(X, y)\n",
    "    \n",
    "    X = pd.concat([X_train, X_test])\n",
    "    y = pd.concat([y_train, y_test])\n",
    "\n",
    "    knn_cv_acc_score = evaluate_accuracy_cross_validation(KNeighborsClassifier(), X, y)\n",
    "    nb_cv_acc_score = evaluate_accuracy_cross_validation(GaussianNB(), X, y)\n",
    "    dt_cv_acc_score = evaluate_accuracy_cross_validation(DecisionTreeClassifier(random_state=42), X, y)\n",
    "except Exception as e:\n",
    "    print ('You probably have a syntax or implementation error,  \\nerror Message:',str(e), '\\nTry fixing your code')\n",
    "    raise\n",
    "\n",
    "print (\"Good Job!\\nYou've passed the 1st test for the 'evaluate_accuracy_cross_validation' function implementation :-)\")   "
   ]
  },
  {
   "cell_type": "code",
   "execution_count": 73,
   "metadata": {
    "deletable": false,
    "editable": false,
    "nbgrader": {
     "cell_type": "code",
     "checksum": "c95fba412e6a8c13dab6bbc7f644a50d",
     "grade": true,
     "grade_id": "test5b_2-evaluate_accuracy_cv",
     "locked": true,
     "points": 3,
     "schema_version": 3,
     "solution": false,
     "task": false
    }
   },
   "outputs": [
    {
     "name": "stdout",
     "output_type": "stream",
     "text": [
      "5.b.'evaluate_accuracy_cross_validation' - Test 2 (name: test5b_2-evaluate_accuracy_cv, points: 3)\n",
      "Good Job!\n",
      "You've passed the 2nd test for the 'evaluate_accuracy_cross_validation' function implementation :-)\n"
     ]
    }
   ],
   "source": [
    "# 5.b. evaluate_accuracy_cross_validation (graded test)\n",
    "# ====>>> YOUR ACTIONS: RUN ONLY\n",
    "\n",
    "print (\"5.b.'evaluate_accuracy_cross_validation' - Test 2 (name: test5b_2-evaluate_accuracy_cv, points: 3)\")\n",
    "\n",
    "file_name_preprocessed = '.' + os.sep + 'data' + os.sep + 'loans_preprocessed_1.csv'\n",
    "\n",
    "try:\n",
    "    risk_factor_df = load_csv(file_name_preprocessed)\n",
    "    X, y = decouple_data(risk_factor_df)\n",
    "    X_train, X_test, y_train, y_test = split_data(X, y)\n",
    "    \n",
    "    X = pd.concat([X_train, X_test])\n",
    "    y = pd.concat([y_train, y_test])\n",
    "\n",
    "    knn_cv_acc_score = evaluate_accuracy_cross_validation(KNeighborsClassifier(), X, y)\n",
    "    nb_cv_acc_score = evaluate_accuracy_cross_validation(GaussianNB(), X, y)\n",
    "    dt_cv_acc_score = evaluate_accuracy_cross_validation(DecisionTreeClassifier(random_state=42), X, y) \n",
    "except Exception as e:\n",
    "    print ('You probably have a syntax or implementation error,  \\nerror Message:',str(e), '\\nTry fixing your code')\n",
    "    raise\n",
    "    \n",
    "assert 0.53 < knn_cv_acc_score < 0.58, \"Wrong cross-validation accuracy score for KNN model using the preprocessed data after training, please check preprocessing and training process based on the instructions\"\n",
    "\n",
    "print (\"Good Job!\\nYou've passed the 2nd test for the 'evaluate_accuracy_cross_validation' function implementation :-)\")   "
   ]
  },
  {
   "cell_type": "code",
   "execution_count": 74,
   "metadata": {
    "deletable": false,
    "editable": false,
    "nbgrader": {
     "cell_type": "code",
     "checksum": "ea3dc46acf8d88b1ec71b1688983c5b3",
     "grade": true,
     "grade_id": "test5b_3-evaluate_accuracy_cv",
     "locked": true,
     "points": 3,
     "schema_version": 3,
     "solution": false,
     "task": false
    }
   },
   "outputs": [
    {
     "name": "stdout",
     "output_type": "stream",
     "text": [
      "5.b.'evaluate_accuracy_cross_validation' - Test 3 (name: test5b_3-evaluate_accuracy_cv, points: 3)\n",
      "Good Job!\n",
      "You've passed the 3rd test for the 'evaluate_accuracy_cross_validation' function implementation :-)\n"
     ]
    }
   ],
   "source": [
    "# 5.b. evaluate_accuracy_cross_validation (graded test)\n",
    "# ====>>> YOUR ACTIONS: RUN ONLY\n",
    "\n",
    "print (\"5.b.'evaluate_accuracy_cross_validation' - Test 3 (name: test5b_3-evaluate_accuracy_cv, points: 3)\")\n",
    "\n",
    "file_name_preprocessed = '.' + os.sep + 'data' + os.sep + 'loans_preprocessed_1.csv'\n",
    "\n",
    "try:\n",
    "    risk_factor_df = load_csv(file_name_preprocessed)\n",
    "    X, y = decouple_data(risk_factor_df)\n",
    "    X_train, X_test, y_train, y_test = split_data(X, y)\n",
    "    \n",
    "    X = pd.concat([X_train, X_test])\n",
    "    y = pd.concat([y_train, y_test])\n",
    "\n",
    "    knn_cv_acc_score = evaluate_accuracy_cross_validation(KNeighborsClassifier(), X, y)\n",
    "    nb_cv_acc_score = evaluate_accuracy_cross_validation(GaussianNB(), X, y)\n",
    "    dt_cv_acc_score = evaluate_accuracy_cross_validation(DecisionTreeClassifier(random_state=42), X, y) \n",
    "except Exception as e:\n",
    "    print ('You probably have a syntax or implementation error,  \\nerror Message:',str(e), '\\nTry fixing your code')\n",
    "    raise\n",
    "    \n",
    "assert 0.57 < nb_cv_acc_score < 0.63, \"Wrong cross-validation accuracy score for Naive Bayes model using the preprocessed data after training, please check preprocessing and training process based on the instructions\"\n",
    "\n",
    "print (\"Good Job!\\nYou've passed the 3rd test for the 'evaluate_accuracy_cross_validation' function implementation :-)\")   "
   ]
  },
  {
   "cell_type": "markdown",
   "metadata": {
    "deletable": false,
    "editable": false,
    "id": "bT78S6H3e9Uo",
    "nbgrader": {
     "cell_type": "markdown",
     "checksum": "96d1dcfcc800813110c19220951ea9e0",
     "grade": false,
     "grade_id": "cell-a888b5cfb70ef82c",
     "locked": true,
     "schema_version": 3,
     "solution": false,
     "task": false
    }
   },
   "source": [
    "[Go to the beginning of the assignment](#home)\n",
    "<a id=\"gridsearch\"></a>\n",
    "### 6.  HyperParameters Tuning - ** 20 Points** \n",
    "So far, you trained and evaluated various types of classifier using their default hyperparameter values. \n",
    "\n",
    "Different hyperparameters values can substentially affect the overall model's performance. In this section you will find the hyperparameter values maximizing your classifier's performance by using Sklearn GridSearchCV\n",
    "\n",
    "<hr>\n",
    "\n",
    "<b><u>This section includes the following</u></b>:\n",
    "* 6.a. grid-search for knn  (11 Points)\n",
    "* 6.b. grid-search for decision trees (9 Points)    "
   ]
  },
  {
   "cell_type": "markdown",
   "metadata": {
    "deletable": false,
    "editable": false,
    "id": "7DmoQrlXfxNe",
    "nbgrader": {
     "cell_type": "markdown",
     "checksum": "887214e3e4567881a401af53175afe88",
     "grade": false,
     "grade_id": "cell-f6e7c51954533244",
     "locked": true,
     "schema_version": 3,
     "solution": false,
     "task": false
    }
   },
   "source": [
    "#### 6.a. Grid Search - KNN - **11 Points**\n",
    "\n",
    "<u>method name</u>: <b>grid_search_knn</b><br/>\n",
    "\n",
    "<hr>\n",
    "\n",
    "<u>dependency</u>: <br/>\n",
    "* <b>decouple_data</b></br> \n",
    "* <b>split_data</b></br> \n",
    "\n",
    "<hr>\n",
    "\n",
    "<pre>\n",
    "Complete the following function to find the best hyperparameters \n",
    "  maxmizing your KNN classifier performances as follows:\n",
    "  For the KNN classifier you are asked to find the best values for the following hyperparameters:    \n",
    "1. 'n_neighbors' with the values [3, 5, 11, 20, 35, 50]\n",
    "2. 'weights' with the values ['uniform', 'distance']\n",
    "3. 'metric' with the values ['euclidean', 'manhattan', 'minkowski']\n",
    "------------\n",
    "input parameters:\n",
    "- clf - **Untrained** KNN classifier instance\n",
    "- X_train - Train set to train the model with\n",
    "- y_train - Train ground-truth labels to use in the learning process\n",
    "------------\n",
    "You are asked to return the best values for the hyperparameters using 5 fold cross validation\n",
    "The return statement should look like the following:\n",
    "return {'metric': 'X', 'n_neighbors': Y, 'weights': 'Z'}\n",
    "</pre>"
   ]
  },
  {
   "cell_type": "markdown",
   "metadata": {
    "deletable": false,
    "editable": false,
    "nbgrader": {
     "cell_type": "markdown",
     "checksum": "e4c908d14b68f45c58499d54e7d7353b",
     "grade": false,
     "grade_id": "cell-05279fcc6d3f0398",
     "locked": true,
     "schema_version": 3,
     "solution": false,
     "task": false
    }
   },
   "source": [
    "#### 6.a. Grid Search - KNN  - Implement and Run the following code cell:"
   ]
  },
  {
   "cell_type": "code",
   "execution_count": 75,
   "metadata": {
    "deletable": false,
    "id": "dN6UIs7EfVVP",
    "nbgrader": {
     "cell_type": "code",
     "checksum": "1fb41b0037025eb4024e48b30a59a484",
     "grade": false,
     "grade_id": "solution6a-grid_search_knn",
     "locked": false,
     "schema_version": 3,
     "solution": true,
     "task": false
    }
   },
   "outputs": [],
   "source": [
    "# 6.a. grid_search_knn (your solution)\n",
    "# ====>>> YOUR ACTIONS: IMPLEMENT & RUN\n",
    "\n",
    "def grid_search_knn(clf, X_train, y_train):\n",
    "    # YOUR CODE HERE\n",
    "    params_grid_knn = {\"n_neighbors\" : (3, 5, 11, 20, 35, 50),\n",
    "               \"weights\" : ('uniform', 'distance'),\n",
    "              \"metric\" : ('euclidean', 'manhattan', 'minkowski')}\n",
    "\n",
    "    knn = GridSearchCV(estimator=clf, param_grid=params_grid_knn, cv =5)\n",
    "\n",
    "    knn.fit(X_train, y_train)\n",
    "    \n",
    "    return  {\"metric\" : knn.best_params_.get(\"metric\"), \"n_neighbors\" : knn.best_params_.get(\"n_neighbors\"),\n",
    "            \"weights\": knn.best_params_.get(\"weights\")}"
   ]
  },
  {
   "cell_type": "markdown",
   "metadata": {
    "deletable": false,
    "editable": false,
    "nbgrader": {
     "cell_type": "markdown",
     "checksum": "37ab58774ef6c61b4d6f3587f9bade11",
     "grade": false,
     "grade_id": "cell-018c5e9ef42ddcdc",
     "locked": true,
     "schema_version": 3,
     "solution": false,
     "task": false
    }
   },
   "source": [
    "#### 6.a. grid_search_knn - OPTIONAL SELF TEST - Implement & Run the following code cell (IF NEEDED):"
   ]
  },
  {
   "cell_type": "code",
   "execution_count": 76,
   "metadata": {
    "deletable": false,
    "id": "QW7nF3qUhVgS",
    "nbgrader": {
     "cell_type": "code",
     "checksum": "287a1779bf666a694f6af0c693e694b5",
     "grade": false,
     "grade_id": "self_test6a-evaluate_grid_search_knn",
     "locked": false,
     "schema_version": 3,
     "solution": true,
     "task": false
    }
   },
   "outputs": [],
   "source": [
    "# 6.a. grid_search_knn (optional self testing)\n",
    "# ====>>> YOUR ACTIONS: (optional) IMPLEMENT & RUN \n",
    "file_name_preprocessed = '.' + os.sep + 'data' + os.sep + 'loans_preprocessed_1.csv'\n",
    "risk_factor_df = load_csv(file_name_preprocessed)\n",
    "X, y = decouple_data(risk_factor_df)\n",
    "X_train, X_test, y_train, y_test = split_data(X, y)\n",
    "\n",
    "# --- add additional code to check your code if needed:\n",
    "# YOUR CODE HERE\n"
   ]
  },
  {
   "cell_type": "markdown",
   "metadata": {
    "deletable": false,
    "editable": false,
    "nbgrader": {
     "cell_type": "markdown",
     "checksum": "828115da09d37a649ae52a946f50e96c",
     "grade": false,
     "grade_id": "cell-735d5a85ba5061df",
     "locked": true,
     "schema_version": 3,
     "solution": false,
     "task": false
    }
   },
   "source": [
    "##### 6.a. grid_search_knn - GRADED TESTS - Run the following (2) code cells:"
   ]
  },
  {
   "cell_type": "code",
   "execution_count": 77,
   "metadata": {
    "colab": {
     "base_uri": "https://localhost:8080/"
    },
    "deletable": false,
    "editable": false,
    "id": "C0qaAZQCigAT",
    "nbgrader": {
     "cell_type": "code",
     "checksum": "a3972393b60e2d14651a34bec6a0db24",
     "grade": true,
     "grade_id": "test6a_1-grid_search_knn",
     "locked": true,
     "points": 1,
     "schema_version": 3,
     "solution": false,
     "task": false
    },
    "outputId": "a36281ba-117c-429f-fddf-c24d373fe9f4"
   },
   "outputs": [
    {
     "name": "stdout",
     "output_type": "stream",
     "text": [
      "6.a.'grid_search_knn' - Test 1 (name: test6a_1-grid_search_knn, points: 1) - Sanity\n",
      "Good Job!\n",
      "You've passed the 1st test for the 'grid_search_knn' function implementation :-)\n"
     ]
    }
   ],
   "source": [
    "\n",
    "# 6.a. grid_search_knn (graded test)\n",
    "# ====>>> YOUR ACTIONS: RUN ONLY\n",
    "\n",
    "print (\"6.a.'grid_search_knn' - Test 1 (name: test6a_1-grid_search_knn, points: 1) - Sanity\")\n",
    "\n",
    "file_name_preprocessed = '.' + os.sep + 'data' + os.sep + 'loans_preprocessed_1.csv'\n",
    "\n",
    "try:\n",
    "    risk_factor_df = load_csv(file_name_preprocessed)\n",
    "    X, y = decouple_data(risk_factor_df)\n",
    "    X_train, X_test, y_train, y_test = split_data(X, y)\n",
    "\n",
    "    grid_search_knn_result = grid_search_knn(KNeighborsClassifier(), X_train, y_train)\n",
    "except Exception as e:\n",
    "    print ('You probably have a syntax or implementation error,  \\nerror Message:',str(e), '\\nTry fixing your code')\n",
    "    raise\n",
    "\n",
    "print (\"Good Job!\\nYou've passed the 1st test for the 'grid_search_knn' function implementation :-)\")   "
   ]
  },
  {
   "cell_type": "code",
   "execution_count": 78,
   "metadata": {
    "deletable": false,
    "editable": false,
    "nbgrader": {
     "cell_type": "code",
     "checksum": "a9853ee0c3b93070f5ce8aecb8075a60",
     "grade": true,
     "grade_id": "test6a_2-grid_search_knn",
     "locked": true,
     "points": 3,
     "schema_version": 3,
     "solution": false,
     "task": false
    }
   },
   "outputs": [
    {
     "name": "stdout",
     "output_type": "stream",
     "text": [
      "6.a.'grid_search_knn' - Test 2 (name: test6a_2-grid_search_knn, points: 3)\n",
      "Good Job!\n",
      "You've passed the 4th test for the 'grid_search_knn' function implementation :-)\n"
     ]
    }
   ],
   "source": [
    "# 6.a. grid_search_knn (graded test)\n",
    "# ====>>> YOUR ACTIONS: RUN ONLY\n",
    "\n",
    "print (\"6.a.'grid_search_knn' - Test 2 (name: test6a_2-grid_search_knn, points: 3)\")\n",
    "\n",
    "file_name_preprocessed = '.' + os.sep + 'data' + os.sep + 'loans_preprocessed_1.csv'\n",
    "\n",
    "try:\n",
    "    risk_factor_df = load_csv(file_name_preprocessed)\n",
    "    X, y = decouple_data(risk_factor_df)\n",
    "    X_train, X_test, y_train, y_test = split_data(X, y)\n",
    "\n",
    "    grid_search_knn_result = grid_search_knn(KNeighborsClassifier(), X_train, y_train)\n",
    "except Exception as e:\n",
    "    print ('You probably have a syntax or implementation error,  \\nerror Message:',str(e), '\\nTry fixing your code')\n",
    "    raise\n",
    "\n",
    "assert grid_search_knn_result.get(\"n_neighbors\") == 50, \"Grid Search reuslt for 'n_neighbors' hyperparameter was not calculated correctly or was not caculated at all\"\n",
    "\n",
    "print (\"Good Job!\\nYou've passed the 4th test for the 'grid_search_knn' function implementation :-)\")   "
   ]
  },
  {
   "cell_type": "code",
   "execution_count": 79,
   "metadata": {
    "deletable": false,
    "editable": false,
    "nbgrader": {
     "cell_type": "code",
     "checksum": "7e7c6271e393dbee17fadc327229f75e",
     "grade": true,
     "grade_id": "test6a_3-grid_search_knn",
     "locked": true,
     "points": 3.5,
     "schema_version": 3,
     "solution": false,
     "task": false
    }
   },
   "outputs": [
    {
     "name": "stdout",
     "output_type": "stream",
     "text": [
      "6.a.'grid_search_knn' - Test 3 (name: test6a_3-grid_search_knn, points: 3.5)\n",
      "Good Job!\n",
      "You've passed the 3rd test for the 'grid_search_knn' function implementation :-)\n"
     ]
    }
   ],
   "source": [
    "# 6.a. grid_search_knn (graded test)\n",
    "# ====>>> YOUR ACTIONS: RUN ONLY\n",
    "\n",
    "print (\"6.a.'grid_search_knn' - Test 3 (name: test6a_3-grid_search_knn, points: 3.5)\")\n",
    "\n",
    "file_name_preprocessed = '.' + os.sep + 'data' + os.sep + 'loans_preprocessed_1.csv'\n",
    "\n",
    "try:\n",
    "    risk_factor_df = load_csv(file_name_preprocessed)\n",
    "    X, y = decouple_data(risk_factor_df)\n",
    "    X_train, X_test, y_train, y_test = split_data(X, y)\n",
    "\n",
    "    grid_search_knn_result = grid_search_knn(KNeighborsClassifier(), X_train, y_train)\n",
    "except Exception as e:\n",
    "    print ('You probably have a syntax or implementation error,  \\nerror Message:',str(e), '\\nTry fixing your code')\n",
    "    raise\n",
    "\n",
    "assert grid_search_knn_result.get(\"metric\") == \"euclidean\", \"Grid Search reuslt for 'metric' hyperparameter was not calculated correctly or was not caculated at all\"\n",
    "\n",
    "print (\"Good Job!\\nYou've passed the 3rd test for the 'grid_search_knn' function implementation :-)\")   "
   ]
  },
  {
   "cell_type": "code",
   "execution_count": 80,
   "metadata": {
    "deletable": false,
    "editable": false,
    "nbgrader": {
     "cell_type": "code",
     "checksum": "0cb8e9a7396b589ae32d45545dc948c6",
     "grade": true,
     "grade_id": "test6a_4-grid_search_knn",
     "locked": true,
     "points": 3.5,
     "schema_version": 3,
     "solution": false,
     "task": false
    }
   },
   "outputs": [
    {
     "name": "stdout",
     "output_type": "stream",
     "text": [
      "6.a.'grid_search_knn' - Test 4 (name: test6a_4-grid_search_knn, points: 3.5)\n",
      "Good Job!\n",
      "You've passed the 2nd test for the 'grid_search_knn' function implementation :-)\n"
     ]
    }
   ],
   "source": [
    "# 6.a. grid_search_knn (graded test)\n",
    "# ====>>> YOUR ACTIONS: RUN ONLY\n",
    "\n",
    "print (\"6.a.'grid_search_knn' - Test 4 (name: test6a_4-grid_search_knn, points: 3.5)\")\n",
    "\n",
    "file_name_preprocessed = '.' + os.sep + 'data' + os.sep + 'loans_preprocessed_1.csv'\n",
    "\n",
    "try:\n",
    "    risk_factor_df = load_csv(file_name_preprocessed)\n",
    "    X, y = decouple_data(risk_factor_df)\n",
    "    X_train, X_test, y_train, y_test = split_data(X, y)\n",
    "\n",
    "    grid_search_knn_result = grid_search_knn(KNeighborsClassifier(), X_train, y_train)\n",
    "except Exception as e:\n",
    "    print ('You probably have a syntax or implementation error,  \\nerror Message:',str(e), '\\nTry fixing your code')\n",
    "    raise\n",
    "\n",
    "assert grid_search_knn_result.get(\"weights\") == \"distance\", \"Grid Search reuslt for 'weights' hyperparameter was not calculated correctly or was not caculated at all\"\n",
    "\n",
    "print (\"Good Job!\\nYou've passed the 2nd test for the 'grid_search_knn' function implementation :-)\")   "
   ]
  },
  {
   "cell_type": "markdown",
   "metadata": {
    "deletable": false,
    "editable": false,
    "id": "O9S1LfUQjALL",
    "nbgrader": {
     "cell_type": "markdown",
     "checksum": "e99bd70c019c0eac9dd3178690b114f4",
     "grade": false,
     "grade_id": "cell-cbc22efe52a7c1d5",
     "locked": true,
     "schema_version": 3,
     "solution": false,
     "task": false
    }
   },
   "source": [
    "#### 6.b. Grid Search - Decision Tree - **9 Points**\n",
    "\n",
    "<u>method name</u>: <b>grid_search_decision_tree</b><br/>\n",
    "\n",
    "<hr>\n",
    "\n",
    "<u>dependency</u>: <br/>\n",
    "* <b>decouple_data</b></br> \n",
    "* <b>split_data</b></br> \n",
    "\n",
    "<hr>\n",
    "\n",
    "<pre>\n",
    "Complete the following function to find the best hyperparameters \n",
    "  maxmizing your Decision Tree classifier performances as follows:\n",
    "  For the Decision Tree classifier you are asked to find the best\n",
    "  values for the following hyperparameters:    \n",
    "1. 'criterion' with the values ['gini', 'entropy']\n",
    "2. 'max_depth' with the values [1, 2, 3, 4, 5, 6, 7, 8, 9, 10]\n",
    "3. 'min_samples_split' with the values [5, 10, 15, 20, 25]\n",
    "4. 'min_samples_leaf' with the values [1, 2, 3, 4, 5, 6, 7, 8, 9, 10]\n",
    "------------\n",
    "input parameters:\n",
    "- clf - **Untrained** Decision Tree classifier instance\n",
    "- X_train - Train set to train the model with\n",
    "- y_train - Train ground-truth labels to use in the learning process\n",
    "------------\n",
    "You are asked to return the best values for the hyperparameters using 5 fold cross validation\n",
    "The return statement should look like the following:\n",
    "return {'criterion': 'X',\n",
    " 'max_depth': Y,\n",
    " 'min_samples_leaf': Z,\n",
    " 'min_samples_split': Q}\n",
    " \n",
    "For test purposes use 'random_state=42' in the Decision Tree classifier instance (DecisionTreeClassifier(random_state=42))\n",
    "</pre>"
   ]
  },
  {
   "cell_type": "markdown",
   "metadata": {
    "deletable": false,
    "editable": false,
    "nbgrader": {
     "cell_type": "markdown",
     "checksum": "76badd7382a2cb0df9bb9948aabbb7e5",
     "grade": false,
     "grade_id": "cell-46ffc4dbcdbb22d8",
     "locked": true,
     "schema_version": 3,
     "solution": false,
     "task": false
    }
   },
   "source": [
    "#### 6.b. Grid Search - Decision Tree - Implement and Run the following code cell:"
   ]
  },
  {
   "cell_type": "code",
   "execution_count": 81,
   "metadata": {
    "deletable": false,
    "id": "T-XnKLPXi7Sp",
    "nbgrader": {
     "cell_type": "code",
     "checksum": "4b6a77095a370de7359cb3a013f5dbc3",
     "grade": false,
     "grade_id": "solution6b-grid_search_decision_tree",
     "locked": false,
     "schema_version": 3,
     "solution": true,
     "task": false
    }
   },
   "outputs": [],
   "source": [
    "# 6.b. grid_search_decision_tree (your solution)\n",
    "# ====>>> YOUR ACTIONS: IMPLEMENT & RUN\n",
    "\n",
    "def grid_search_decision_tree(clf, X_train, y_train):\n",
    "    # YOUR CODE HERE\n",
    "    params_grid_DT = {\"criterion\" : ('gini', 'entropy'),\n",
    "                     \"max_depth\" : (1, 2, 3, 4, 5, 6, 7, 8, 9, 10),\n",
    "                     \"min_samples_split\" : (5, 10, 15, 20, 25),\n",
    "                     \"min_samples_leaf\" : (1, 2, 3, 4, 5, 6, 7, 8, 9, 10)}\n",
    "    \n",
    "    decision_tree = GridSearchCV(estimator= clf, param_grid= params_grid_DT, cv =5)\n",
    "    \n",
    "    decision_tree.fit(X_train, y_train)\n",
    "    \n",
    "    return {\"criterion\" : decision_tree.best_params_.get(\"criterion\"),\n",
    "           \"max_depth\" : decision_tree.best_params_.get(\"max_depth\"),\n",
    "           \"min_samples_split\" : decision_tree.best_params_.get(\"min_samples_split\"),\n",
    "           \"min_samples_leaf\" : decision_tree.best_params_.get(\"min_samples_leaf\")}"
   ]
  },
  {
   "cell_type": "markdown",
   "metadata": {
    "deletable": false,
    "editable": false,
    "nbgrader": {
     "cell_type": "markdown",
     "checksum": "9434766a8c69565c2eb3dc8b874715d9",
     "grade": false,
     "grade_id": "cell-bd12f5749e1cc19e",
     "locked": true,
     "schema_version": 3,
     "solution": false,
     "task": false
    }
   },
   "source": [
    "#### 6.b. grid_search_decision_tree - OPTIONAL SELF TEST - Implement & Run the following code cell (IF NEEDED):"
   ]
  },
  {
   "cell_type": "code",
   "execution_count": 82,
   "metadata": {
    "deletable": false,
    "id": "nXVczGm_jyHN",
    "nbgrader": {
     "cell_type": "code",
     "checksum": "43743ddf46d61fc97829c32eaf6cc64f",
     "grade": false,
     "grade_id": "self_test6b-grid_search_decision_tree",
     "locked": false,
     "schema_version": 3,
     "solution": true,
     "task": false
    }
   },
   "outputs": [],
   "source": [
    "# 6.b. grid_search_decision_tree (optional self testing)\n",
    "# ====>>> YOUR ACTIONS: (optional) IMPLEMENT & RUN \n",
    "file_name_preprocessed = '.' + os.sep + 'data' + os.sep + 'loans_preprocessed_1.csv'\n",
    "risk_factor_df = load_csv(file_name_preprocessed)\n",
    "X, y = decouple_data(risk_factor_df)\n",
    "X_train, X_test, y_train, y_test = split_data(X, y)\n",
    "\n",
    "# --- add additional code to check your code if needed:\n",
    "# YOUR CODE HERE\n"
   ]
  },
  {
   "cell_type": "markdown",
   "metadata": {
    "deletable": false,
    "editable": false,
    "nbgrader": {
     "cell_type": "markdown",
     "checksum": "509938d3014d56ef10dcf0cd4eab0d29",
     "grade": false,
     "grade_id": "cell-1f38cc3b93d7d781",
     "locked": true,
     "schema_version": 3,
     "solution": false,
     "task": false
    }
   },
   "source": [
    "##### 6.b. grid_search_decision_tree - GRADED TESTS - Run the following (2) code cells:"
   ]
  },
  {
   "cell_type": "code",
   "execution_count": 83,
   "metadata": {
    "colab": {
     "base_uri": "https://localhost:8080/"
    },
    "deletable": false,
    "editable": false,
    "id": "5mPRgkB7kJhh",
    "nbgrader": {
     "cell_type": "code",
     "checksum": "266f2694b907c1f8712795ff014e6f4f",
     "grade": true,
     "grade_id": "test6b_1-grid_search_decision_tree",
     "locked": true,
     "points": 1,
     "schema_version": 3,
     "solution": false,
     "task": false
    },
    "outputId": "1d5662ec-b468-40bb-ebb2-ee05f8353ab8"
   },
   "outputs": [
    {
     "name": "stdout",
     "output_type": "stream",
     "text": [
      "6.b.'grid_search_decision_tree' - Test 1 (name: test6b_1-grid_search_decision_tree, points: 1) - Sanity\n",
      "Good Job!\n",
      "You've passed the 1st test for the 'grid_search_decision_tree' function implementation :-)\n"
     ]
    }
   ],
   "source": [
    "# 6.b. grid_search_decision_tree (graded test)\n",
    "# ====>>> YOUR ACTIONS: RUN ONLY\n",
    "\n",
    "print (\"6.b.'grid_search_decision_tree' - Test 1 (name: test6b_1-grid_search_decision_tree, points: 1) - Sanity\")\n",
    "\n",
    "file_name_preprocessed = '.' + os.sep + 'data' + os.sep + 'loans_preprocessed_1.csv'\n",
    "\n",
    "try:\n",
    "    risk_factor_df = load_csv(file_name_preprocessed)\n",
    "    X, y = decouple_data(risk_factor_df)\n",
    "    X_train, X_test, y_train, y_test = split_data(X, y)\n",
    "\n",
    "    grid_search_dt_result = grid_search_decision_tree(DecisionTreeClassifier(random_state=42), X_train, y_train)\n",
    "except Exception as e:\n",
    "    print ('You probably have a syntax or implementation error,  \\nerror Message:',str(e), '\\nTry fixing your code')\n",
    "    raise\n",
    "\n",
    "print (\"Good Job!\\nYou've passed the 1st test for the 'grid_search_decision_tree' function implementation :-)\")   "
   ]
  },
  {
   "cell_type": "code",
   "execution_count": 84,
   "metadata": {
    "deletable": false,
    "editable": false,
    "nbgrader": {
     "cell_type": "code",
     "checksum": "ae78a6d50e62cd05c2b6d9d44465cf68",
     "grade": true,
     "grade_id": "test6b_2-grid_search_decision_tree",
     "locked": true,
     "points": 4,
     "schema_version": 3,
     "solution": false,
     "task": false
    }
   },
   "outputs": [
    {
     "name": "stdout",
     "output_type": "stream",
     "text": [
      "6.b.'grid_search_decision_tree' - Test 2 (name: test6b_2-grid_search_decision_tree, points: 4)\n",
      "Good Job!\n",
      "You've passed the 2nd test for the 'grid_search_decision_tree' function implementation :-)\n"
     ]
    }
   ],
   "source": [
    "# 6.b. grid_search_decision_tree (graded test)\n",
    "# ====>>> YOUR ACTIONS: RUN ONLY\n",
    "\n",
    "print (\"6.b.'grid_search_decision_tree' - Test 2 (name: test6b_2-grid_search_decision_tree, points: 4)\")\n",
    "file_name_preprocessed = '.' + os.sep + 'data' + os.sep + 'loans_preprocessed_1.csv'\n",
    "\n",
    "try:\n",
    "    risk_factor_df = load_csv(file_name_preprocessed)\n",
    "    X, y = decouple_data(risk_factor_df)\n",
    "    X_train, X_test, y_train, y_test = split_data(X, y)\n",
    "\n",
    "    grid_search_dt_result = grid_search_decision_tree(DecisionTreeClassifier(random_state=42), X_train, y_train)\n",
    "except Exception as e:\n",
    "    print ('You probably have a syntax or implementation error,  \\nerror Message:',str(e), '\\nTry fixing your code')\n",
    "    raise\n",
    "\n",
    "assert grid_search_dt_result.get(\"criterion\") == \"entropy\", \"Grid Search reuslt for 'criterion' hyperparameter was not calculated correctly or was not caculated at all\"\n",
    "assert grid_search_dt_result.get(\"max_depth\") == 10, \"Grid Search reuslt for 'max_depth' hyperparameter was not calculated correctly or was not caculated at all\"\n",
    "\n",
    "print (\"Good Job!\\nYou've passed the 2nd test for the 'grid_search_decision_tree' function implementation :-)\")   "
   ]
  },
  {
   "cell_type": "code",
   "execution_count": 85,
   "metadata": {
    "deletable": false,
    "editable": false,
    "nbgrader": {
     "cell_type": "code",
     "checksum": "7e36fc181e1444f980d29b0a00b4f65a",
     "grade": true,
     "grade_id": "test6b_3-grid_search_decision_tree",
     "locked": true,
     "points": 4,
     "schema_version": 3,
     "solution": false,
     "task": false
    }
   },
   "outputs": [
    {
     "name": "stdout",
     "output_type": "stream",
     "text": [
      "6.b.'grid_search_decision_tree' - Test 3 (name: test6b_3-grid_search_decision_tree, points: 4)\n",
      "Good Job!\n",
      "You've passed the 3rd test for the 'grid_search_decision_tree' function implementation :-)\n"
     ]
    }
   ],
   "source": [
    "# 6.b. grid_search_decision_tree (graded test)\n",
    "# ====>>> YOUR ACTIONS: RUN ONLY\n",
    "\n",
    "print (\"6.b.'grid_search_decision_tree' - Test 3 (name: test6b_3-grid_search_decision_tree, points: 4)\")\n",
    "\n",
    "file_name_preprocessed = '.' + os.sep + 'data' + os.sep + 'loans_preprocessed_1.csv'\n",
    "\n",
    "try:\n",
    "    risk_factor_df = load_csv(file_name_preprocessed)\n",
    "    X, y = decouple_data(risk_factor_df)\n",
    "    X_train, X_test, y_train, y_test = split_data(X, y)\n",
    "\n",
    "    grid_search_dt_result = grid_search_decision_tree(DecisionTreeClassifier(random_state=42), X_train, y_train)\n",
    "except Exception as e:\n",
    "    print ('You probably have a syntax or implementation error,  \\nerror Message:',str(e), '\\nTry fixing your code')\n",
    "    raise \n",
    "\n",
    "assert grid_search_dt_result.get(\"min_samples_leaf\") == 3, \"Grid Search reuslt for 'min_samples_leaf' hyperparameter was not calculated correctly or was not caculated at all\"\n",
    "assert grid_search_dt_result.get(\"min_samples_split\") == 5, \"Grid Search reuslt for 'min_samples_split' hyperparameter was not calculated correctly or was not caculated at all\"\n",
    "\n",
    "print (\"Good Job!\\nYou've passed the 3rd test for the 'grid_search_decision_tree' function implementation :-)\")   "
   ]
  },
  {
   "cell_type": "code",
   "execution_count": null,
   "metadata": {},
   "outputs": [],
   "source": []
  }
 ],
 "metadata": {
  "colab": {
   "collapsed_sections": [],
   "name": "Assignment 3 - Scikit Learn.ipynb",
   "provenance": []
  },
  "kernelspec": {
   "display_name": "Python 3 (ipykernel)",
   "language": "python",
   "name": "python3"
  },
  "language_info": {
   "codemirror_mode": {
    "name": "ipython",
    "version": 3
   },
   "file_extension": ".py",
   "mimetype": "text/x-python",
   "name": "python",
   "nbconvert_exporter": "python",
   "pygments_lexer": "ipython3",
   "version": "3.9.12"
  }
 },
 "nbformat": 4,
 "nbformat_minor": 1
}
